{
 "cells": [
  {
   "cell_type": "code",
   "execution_count": null,
   "id": "b43d7dcd",
   "metadata": {},
   "outputs": [],
   "source": [
    "!pip install tensorflow"
   ]
  },
  {
   "cell_type": "code",
   "execution_count": null,
   "id": "7e198a5a",
   "metadata": {
    "_cell_guid": "76f1f3d0-b6fe-44a9-993e-ecfe7f108944",
    "_uuid": "c0e8bf21-9fc1-464b-a11b-6bdf4b0f9fce",
    "collapsed": false,
    "execution": {
     "iopub.execute_input": "2021-10-12T10:31:04.765146Z",
     "iopub.status.busy": "2021-10-12T10:31:04.763576Z",
     "iopub.status.idle": "2021-10-12T10:31:10.370091Z",
     "shell.execute_reply": "2021-10-12T10:31:10.370688Z",
     "shell.execute_reply.started": "2021-10-12T10:27:50.635848Z"
    },
    "jupyter": {
     "outputs_hidden": false
    },
    "papermill": {
     "duration": 5.633701,
     "end_time": "2021-10-12T10:31:10.371054",
     "exception": false,
     "start_time": "2021-10-12T10:31:04.737353",
     "status": "completed"
    },
    "tags": []
   },
   "outputs": [],
   "source": [
    "import numpy as np\n",
    "import pandas as pd\n",
    "import os\n",
    "from tqdm import tqdm\n",
    "\n",
    "#For Preprocessing\n",
    "import re    # RegEx for removing non-letter characters\n",
    "import nltk  # natural language processing\n",
    "nltk.download(\"stopwords\")\n",
    "from nltk.corpus import stopwords\n",
    "from nltk.stem.porter import *\n",
    "from nltk.sentiment.vader import SentimentIntensityAnalyzer\n",
    "nltk.download('vader_lexicon')\n",
    "\n",
    "# For Building the model\n",
    "from sklearn.model_selection import train_test_split\n",
    "import tensorflow as tf\n",
    "import seaborn as sns\n",
    "\n",
    "#For data visualization\n",
    "import matplotlib.pyplot as plt\n",
    "import matplotlib.patches as mpatches\n",
    "%matplotlib inline\n",
    "\n",
    "pd.options.plotting.backend = \"plotly\""
   ]
  },
  {
   "cell_type": "code",
   "execution_count": null,
   "id": "2ae1ae41",
   "metadata": {
    "execution": {
     "iopub.execute_input": "2021-10-12T10:31:10.423033Z",
     "iopub.status.busy": "2021-10-12T10:31:10.420473Z",
     "iopub.status.idle": "2021-10-12T10:31:26.394693Z",
     "shell.execute_reply": "2021-10-12T10:31:26.395099Z",
     "shell.execute_reply.started": "2021-10-12T10:27:50.676258Z"
    },
    "papermill": {
     "duration": 15.999919,
     "end_time": "2021-10-12T10:31:26.395253",
     "exception": false,
     "start_time": "2021-10-12T10:31:10.395334",
     "status": "completed"
    },
    "tags": []
   },
   "outputs": [],
   "source": [
    "# Load Tweet dataset\n",
    "df0 = pd.read_csv('./Resources/Bitcoin_tweets.csv')\n",
    "df0"
   ]
  },
  {
   "cell_type": "code",
   "execution_count": null,
   "id": "b2164035",
   "metadata": {
    "execution": {
     "iopub.execute_input": "2021-10-12T10:31:26.450528Z",
     "iopub.status.busy": "2021-10-12T10:31:26.449658Z",
     "iopub.status.idle": "2021-10-12T10:31:26.486901Z",
     "shell.execute_reply": "2021-10-12T10:31:26.487326Z",
     "shell.execute_reply.started": "2021-10-12T10:27:59.939231Z"
    },
    "papermill": {
     "duration": 0.067463,
     "end_time": "2021-10-12T10:31:26.487464",
     "exception": false,
     "start_time": "2021-10-12T10:31:26.420001",
     "status": "completed"
    },
    "tags": []
   },
   "outputs": [],
   "source": [
    "\n",
    "df=df0[['text']][0:20000]\n",
    "df"
   ]
  },
  {
   "cell_type": "code",
   "execution_count": null,
   "id": "bc7b7799",
   "metadata": {
    "_cell_guid": "13bf9b06-9a96-4e39-b3dd-8c24d848c2c2",
    "_uuid": "b452e7a7-8132-4951-a932-d007b3955870",
    "collapsed": false,
    "execution": {
     "iopub.execute_input": "2021-10-12T10:31:26.540092Z",
     "iopub.status.busy": "2021-10-12T10:31:26.539439Z",
     "iopub.status.idle": "2021-10-12T10:31:26.541666Z",
     "shell.execute_reply": "2021-10-12T10:31:26.542051Z",
     "shell.execute_reply.started": "2021-10-12T10:27:59.980066Z"
    },
    "jupyter": {
     "outputs_hidden": false
    },
    "papermill": {
     "duration": 0.030705,
     "end_time": "2021-10-12T10:31:26.542172",
     "exception": false,
     "start_time": "2021-10-12T10:31:26.511467",
     "status": "completed"
    },
    "tags": []
   },
   "outputs": [],
   "source": [
    "def tweet_to_words(tweet):\n",
    "    ''' Convert tweet text into a sequence of words '''\n",
    "    \n",
    "    # convert to lowercase\n",
    "    text = tweet.lower()\n",
    "    # remove non letters\n",
    "    text = re.sub(r\"[^a-zA-Z0-9]\", \" \", text)\n",
    "    # tokenize\n",
    "    words = text.split()\n",
    "    # remove stopwords\n",
    "    words = [w for w in words if w not in stopwords.words(\"english\")]\n",
    "    # apply stemming\n",
    "    words = [PorterStemmer().stem(w) for w in words]\n",
    "    # return list\n",
    "    return words"
   ]
  },
  {
   "cell_type": "code",
   "execution_count": null,
   "id": "0c3318d0",
   "metadata": {
    "execution": {
     "iopub.execute_input": "2021-10-12T10:31:26.593831Z",
     "iopub.status.busy": "2021-10-12T10:31:26.593309Z",
     "iopub.status.idle": "2021-10-12T10:32:25.513591Z",
     "shell.execute_reply": "2021-10-12T10:32:25.514047Z",
     "shell.execute_reply.started": "2021-10-12T10:27:59.988047Z"
    },
    "papermill": {
     "duration": 58.948704,
     "end_time": "2021-10-12T10:32:25.514208",
     "exception": false,
     "start_time": "2021-10-12T10:31:26.565504",
     "status": "completed"
    },
    "tags": []
   },
   "outputs": [],
   "source": [
    "cleantext=[]\n",
    "for item in tqdm(df['text']):\n",
    "    words=tweet_to_words(item)\n",
    "    cleantext+=[words]\n",
    "df['cleantext']=cleantext\n",
    "df"
   ]
  },
  {
   "cell_type": "code",
   "execution_count": null,
   "id": "4b1f271d",
   "metadata": {},
   "outputs": [],
   "source": [
    "df"
   ]
  },
  {
   "cell_type": "code",
   "execution_count": null,
   "id": "c7ff0193",
   "metadata": {
    "_cell_guid": "fdd4e291-fc5e-436a-bae3-fdde3fad279f",
    "_uuid": "792352af-397b-42b1-bd22-97a83548c929",
    "collapsed": false,
    "execution": {
     "iopub.execute_input": "2021-10-12T10:32:26.022076Z",
     "iopub.status.busy": "2021-10-12T10:32:26.020313Z",
     "iopub.status.idle": "2021-10-12T10:32:26.022710Z",
     "shell.execute_reply": "2021-10-12T10:32:26.023453Z",
     "shell.execute_reply.started": "2021-10-12T10:28:59.623493Z"
    },
    "jupyter": {
     "outputs_hidden": false
    },
    "papermill": {
     "duration": 0.327204,
     "end_time": "2021-10-12T10:32:26.023656",
     "exception": false,
     "start_time": "2021-10-12T10:32:25.696452",
     "status": "completed"
    },
    "tags": []
   },
   "outputs": [],
   "source": [
    "# Apply data processing to each tweet\n",
    "# X = list(map(tweet_to_words, df['content']))\n",
    "# print(X==cleantext) #True"
   ]
  },
  {
   "cell_type": "code",
   "execution_count": null,
   "id": "0fb1ed3b",
   "metadata": {
    "execution": {
     "iopub.execute_input": "2021-10-12T10:32:26.460553Z",
     "iopub.status.busy": "2021-10-12T10:32:26.459662Z",
     "iopub.status.idle": "2021-10-12T10:32:26.461462Z",
     "shell.execute_reply": "2021-10-12T10:32:26.461871Z",
     "shell.execute_reply.started": "2021-10-12T10:28:59.629092Z"
    },
    "papermill": {
     "duration": 0.174677,
     "end_time": "2021-10-12T10:32:26.462003",
     "exception": false,
     "start_time": "2021-10-12T10:32:26.287326",
     "status": "completed"
    },
    "tags": []
   },
   "outputs": [],
   "source": [
    "def unlist(list):\n",
    "    words=''\n",
    "    for item in list:\n",
    "        words+=item+' '\n",
    "    return words"
   ]
  },
  {
   "cell_type": "code",
   "execution_count": null,
   "id": "1bc03e09",
   "metadata": {
    "execution": {
     "iopub.execute_input": "2021-10-12T10:32:26.822174Z",
     "iopub.status.busy": "2021-10-12T10:32:26.821377Z",
     "iopub.status.idle": "2021-10-12T10:32:26.823891Z",
     "shell.execute_reply": "2021-10-12T10:32:26.823454Z",
     "shell.execute_reply.started": "2021-10-12T10:28:59.640085Z"
    },
    "papermill": {
     "duration": 0.198185,
     "end_time": "2021-10-12T10:32:26.823999",
     "exception": false,
     "start_time": "2021-10-12T10:32:26.625814",
     "status": "completed"
    },
    "tags": []
   },
   "outputs": [],
   "source": [
    "def compute_vader_scores(df, label):\n",
    "    sid = SentimentIntensityAnalyzer()\n",
    "    df[\"vader_neg\"] = df[label].apply(lambda x: sid.polarity_scores(unlist(x))[\"neg\"])\n",
    "    df[\"vader_neu\"] = df[label].apply(lambda x: sid.polarity_scores(unlist(x))[\"neu\"])\n",
    "    df[\"vader_pos\"] = df[label].apply(lambda x: sid.polarity_scores(unlist(x))[\"pos\"])\n",
    "    df[\"vader_comp\"] = df[label].apply(lambda x: sid.polarity_scores(unlist(x))[\"compound\"])\n",
    "    df['cleantext2'] = df[label].apply(lambda x: unlist(x))\n",
    "    return df"
   ]
  },
  {
   "cell_type": "code",
   "execution_count": null,
   "id": "132f28b9",
   "metadata": {
    "execution": {
     "iopub.execute_input": "2021-10-12T10:32:27.165972Z",
     "iopub.status.busy": "2021-10-12T10:32:27.165273Z",
     "iopub.status.idle": "2021-10-12T10:32:42.757584Z",
     "shell.execute_reply": "2021-10-12T10:32:42.756723Z",
     "shell.execute_reply.started": "2021-10-12T10:28:59.649596Z"
    },
    "papermill": {
     "duration": 15.764326,
     "end_time": "2021-10-12T10:32:42.757717",
     "exception": false,
     "start_time": "2021-10-12T10:32:26.993391",
     "status": "completed"
    },
    "tags": []
   },
   "outputs": [],
   "source": [
    "df2 = compute_vader_scores(df,)\n",
    "df2"
   ]
  },
  {
   "cell_type": "code",
   "execution_count": null,
   "id": "4a42f3e6",
   "metadata": {
    "execution": {
     "iopub.execute_input": "2021-10-12T10:32:43.132778Z",
     "iopub.status.busy": "2021-10-12T10:32:43.132054Z",
     "iopub.status.idle": "2021-10-12T10:33:02.975187Z",
     "shell.execute_reply": "2021-10-12T10:33:02.974421Z",
     "shell.execute_reply.started": "2021-10-12T10:29:15.674609Z"
    },
    "papermill": {
     "duration": 20.03253,
     "end_time": "2021-10-12T10:33:02.975437",
     "exception": false,
     "start_time": "2021-10-12T10:32:42.942907",
     "status": "completed"
    },
    "tags": []
   },
   "outputs": [],
   "source": [
    "sns.jointplot(data=df2, x='vader_pos', y='vader_neg', kind=\"kde\")"
   ]
  },
  {
   "cell_type": "code",
   "execution_count": null,
   "id": "6733278a",
   "metadata": {
    "execution": {
     "iopub.execute_input": "2021-10-12T10:33:03.330579Z",
     "iopub.status.busy": "2021-10-12T10:33:03.329733Z",
     "iopub.status.idle": "2021-10-12T10:33:22.740391Z",
     "shell.execute_reply": "2021-10-12T10:33:22.740846Z",
     "shell.execute_reply.started": "2021-10-12T10:29:34.787030Z"
    },
    "papermill": {
     "duration": 19.594425,
     "end_time": "2021-10-12T10:33:22.741028",
     "exception": false,
     "start_time": "2021-10-12T10:33:03.146603",
     "status": "completed"
    },
    "tags": []
   },
   "outputs": [],
   "source": [
    "sns.jointplot(data=df2, x='vader_pos', y='vader_neu', kind=\"kde\")"
   ]
  },
  {
   "cell_type": "code",
   "execution_count": null,
   "id": "8c55fc3b",
   "metadata": {
    "execution": {
     "iopub.execute_input": "2021-10-12T10:33:23.084298Z",
     "iopub.status.busy": "2021-10-12T10:33:23.083507Z",
     "iopub.status.idle": "2021-10-12T10:33:23.527608Z",
     "shell.execute_reply": "2021-10-12T10:33:23.527154Z",
     "shell.execute_reply.started": "2021-10-12T10:29:54.463767Z"
    },
    "papermill": {
     "duration": 0.617621,
     "end_time": "2021-10-12T10:33:23.527732",
     "exception": false,
     "start_time": "2021-10-12T10:33:22.910111",
     "status": "completed"
    },
    "tags": []
   },
   "outputs": [],
   "source": [
    "class0=[]\n",
    "for i in range(len(df2)):\n",
    "    if df2.loc[i,'vader_neg']>0:\n",
    "        class0+=[0]\n",
    "    elif df2.loc[i,'vader_pos']>0:\n",
    "        class0+=[2]        \n",
    "    else:\n",
    "        class0+=[1]     "
   ]
  },
  {
   "cell_type": "code",
   "execution_count": null,
   "id": "2c97dcc4",
   "metadata": {
    "execution": {
     "iopub.execute_input": "2021-10-12T10:33:23.886689Z",
     "iopub.status.busy": "2021-10-12T10:33:23.885880Z",
     "iopub.status.idle": "2021-10-12T10:33:23.892275Z",
     "shell.execute_reply": "2021-10-12T10:33:23.891817Z",
     "shell.execute_reply.started": "2021-10-12T10:29:54.913326Z"
    },
    "papermill": {
     "duration": 0.189248,
     "end_time": "2021-10-12T10:33:23.892402",
     "exception": false,
     "start_time": "2021-10-12T10:33:23.703154",
     "status": "completed"
    },
    "tags": []
   },
   "outputs": [],
   "source": [
    "df['class']=class0\n",
    "df['class'].value_counts()"
   ]
  },
  {
   "cell_type": "markdown",
   "id": "fa7576de",
   "metadata": {
    "papermill": {
     "duration": 0.168359,
     "end_time": "2021-10-12T10:33:24.230484",
     "exception": false,
     "start_time": "2021-10-12T10:33:24.062125",
     "status": "completed"
    },
    "tags": []
   },
   "source": [
    "# def tokenize_pad_sequences(text):"
   ]
  },
  {
   "cell_type": "code",
   "execution_count": null,
   "id": "1dc658a6",
   "metadata": {
    "execution": {
     "iopub.execute_input": "2021-10-12T10:33:24.597221Z",
     "iopub.status.busy": "2021-10-12T10:33:24.586643Z",
     "iopub.status.idle": "2021-10-12T10:33:25.443257Z",
     "shell.execute_reply": "2021-10-12T10:33:25.442834Z",
     "shell.execute_reply.started": "2021-10-12T10:29:54.932588Z"
    },
    "papermill": {
     "duration": 1.043779,
     "end_time": "2021-10-12T10:33:25.443397",
     "exception": false,
     "start_time": "2021-10-12T10:33:24.399618",
     "status": "completed"
    },
    "tags": []
   },
   "outputs": [],
   "source": [
    "from tensorflow.keras.preprocessing.text import Tokenizer\n",
    "from tensorflow.keras.preprocessing.sequence import pad_sequences\n",
    "\n",
    "max_words = 5000\n",
    "max_len=50\n",
    "\n",
    "def tokenize_pad_sequences(text):\n",
    "    '''\n",
    "    This function tokenize the input text into sequnences of intergers and then\n",
    "    pad each sequence to the same length\n",
    "    '''\n",
    "    # Text tokenization\n",
    "    tokenizer = Tokenizer(num_words=max_words, lower=True, split=' ')\n",
    "    tokenizer.fit_on_texts(text)\n",
    "    # Transforms text to a sequence of integers\n",
    "    X = tokenizer.texts_to_sequences(text)\n",
    "    # Pad sequences to the same length\n",
    "    X = pad_sequences(X, padding='post', maxlen=max_len)\n",
    "    # return sequences\n",
    "    return X, tokenizer\n",
    "\n",
    "print('Before Tokenization & Padding \\n', df['cleantext2'][0])\n",
    "X, tokenizer = tokenize_pad_sequences(df['cleantext2'])\n",
    "print('After Tokenization & Padding \\n', X[0])"
   ]
  },
  {
   "cell_type": "code",
   "execution_count": null,
   "id": "5ef673b7",
   "metadata": {
    "execution": {
     "iopub.execute_input": "2021-10-12T10:33:25.793052Z",
     "iopub.status.busy": "2021-10-12T10:33:25.791421Z",
     "iopub.status.idle": "2021-10-12T10:33:25.795058Z",
     "shell.execute_reply": "2021-10-12T10:33:25.794589Z",
     "shell.execute_reply.started": "2021-10-12T10:29:55.782605Z"
    },
    "papermill": {
     "duration": 0.180832,
     "end_time": "2021-10-12T10:33:25.795167",
     "exception": false,
     "start_time": "2021-10-12T10:33:25.614335",
     "status": "completed"
    },
    "tags": []
   },
   "outputs": [],
   "source": [
    "print(X.shape)"
   ]
  },
  {
   "cell_type": "code",
   "execution_count": null,
   "id": "87118342",
   "metadata": {
    "execution": {
     "iopub.execute_input": "2021-10-12T10:33:26.154137Z",
     "iopub.status.busy": "2021-10-12T10:33:26.153361Z",
     "iopub.status.idle": "2021-10-12T10:33:26.166836Z",
     "shell.execute_reply": "2021-10-12T10:33:26.166406Z",
     "shell.execute_reply.started": "2021-10-12T10:29:55.788338Z"
    },
    "papermill": {
     "duration": 0.192909,
     "end_time": "2021-10-12T10:33:26.166951",
     "exception": false,
     "start_time": "2021-10-12T10:33:25.974042",
     "status": "completed"
    },
    "tags": []
   },
   "outputs": [],
   "source": [
    "y = pd.get_dummies(df['class'])\n",
    "X_train, X_test, y_train, y_test = train_test_split(X, y, test_size=0.2, random_state=1)\n",
    "X_train, X_val, y_train, y_val = train_test_split(X_train, y_train, test_size=0.25, random_state=1)\n",
    "print('Train Set: ', X_train.shape, y_train.shape)\n",
    "print('Validation Set: ', X_val.shape, y_val.shape)\n",
    "print('Test Set: ', X_test.shape, y_test.shape)"
   ]
  },
  {
   "cell_type": "code",
   "execution_count": null,
   "id": "a3c60fc3",
   "metadata": {
    "execution": {
     "iopub.execute_input": "2021-10-12T10:33:26.519122Z",
     "iopub.status.busy": "2021-10-12T10:33:26.518327Z",
     "iopub.status.idle": "2021-10-12T10:33:26.521294Z",
     "shell.execute_reply": "2021-10-12T10:33:26.520872Z",
     "shell.execute_reply.started": "2021-10-12T10:29:55.812120Z"
    },
    "papermill": {
     "duration": 0.17902,
     "end_time": "2021-10-12T10:33:26.521407",
     "exception": false,
     "start_time": "2021-10-12T10:33:26.342387",
     "status": "completed"
    },
    "tags": []
   },
   "outputs": [],
   "source": [
    "import tensorflow.keras.backend as K\n",
    "\n",
    "def f1_score(precision, recall):\n",
    "    ''' Function to calculate f1 score '''\n",
    "    \n",
    "    f1_val = 2*(precision*recall)/(precision+recall+K.epsilon())\n",
    "    return f1_val"
   ]
  },
  {
   "cell_type": "code",
   "execution_count": null,
   "id": "46767d3d",
   "metadata": {
    "execution": {
     "iopub.execute_input": "2021-10-12T10:33:26.886897Z",
     "iopub.status.busy": "2021-10-12T10:33:26.886074Z",
     "iopub.status.idle": "2021-10-12T10:33:26.887890Z",
     "shell.execute_reply": "2021-10-12T10:33:26.888288Z",
     "shell.execute_reply.started": "2021-10-12T10:29:55.821628Z"
    },
    "papermill": {
     "duration": 0.187937,
     "end_time": "2021-10-12T10:33:26.888418",
     "exception": false,
     "start_time": "2021-10-12T10:33:26.700481",
     "status": "completed"
    },
    "tags": []
   },
   "outputs": [],
   "source": [
    "from tensorflow.keras.models import Sequential\n",
    "from tensorflow.keras.layers import Embedding, Conv1D, MaxPooling1D, Bidirectional, LSTM, Dense, Dropout\n",
    "from tensorflow.keras.metrics import Precision, Recall\n",
    "from tensorflow.keras.optimizers import SGD\n",
    "from tensorflow.keras.optimizers import RMSprop\n",
    "from tensorflow.keras import datasets\n",
    "from tensorflow.keras.callbacks import LearningRateScheduler\n",
    "from tensorflow.keras.callbacks import History\n",
    "from tensorflow.keras import losses"
   ]
  },
  {
   "cell_type": "code",
   "execution_count": null,
   "id": "536e0592",
   "metadata": {
    "execution": {
     "iopub.execute_input": "2021-10-12T10:33:27.234619Z",
     "iopub.status.busy": "2021-10-12T10:33:27.233062Z",
     "iopub.status.idle": "2021-10-12T10:33:27.235307Z",
     "shell.execute_reply": "2021-10-12T10:33:27.235690Z",
     "shell.execute_reply.started": "2021-10-12T10:29:55.830576Z"
    },
    "papermill": {
     "duration": 0.175325,
     "end_time": "2021-10-12T10:33:27.235838",
     "exception": false,
     "start_time": "2021-10-12T10:33:27.060513",
     "status": "completed"
    },
    "tags": []
   },
   "outputs": [],
   "source": [
    "vocab_size = 5000\n",
    "embedding_size = 32\n",
    "epochs = 10\n",
    "learning_rate = 0.1\n",
    "decay_rate = learning_rate / epochs\n",
    "momentum = 0.8"
   ]
  },
  {
   "cell_type": "markdown",
   "id": "3052d115",
   "metadata": {
    "papermill": {
     "duration": 0.169104,
     "end_time": "2021-10-12T10:33:27.574029",
     "exception": false,
     "start_time": "2021-10-12T10:33:27.404925",
     "status": "completed"
    },
    "tags": []
   },
   "source": [
    "# Model"
   ]
  },
  {
   "cell_type": "code",
   "execution_count": null,
   "id": "b5666c23",
   "metadata": {
    "execution": {
     "iopub.execute_input": "2021-10-12T10:33:27.920368Z",
     "iopub.status.busy": "2021-10-12T10:33:27.919575Z",
     "iopub.status.idle": "2021-10-12T10:33:30.458769Z",
     "shell.execute_reply": "2021-10-12T10:33:30.458278Z",
     "shell.execute_reply.started": "2021-10-12T10:29:55.838979Z"
    },
    "papermill": {
     "duration": 2.714753,
     "end_time": "2021-10-12T10:33:30.458903",
     "exception": false,
     "start_time": "2021-10-12T10:33:27.744150",
     "status": "completed"
    },
    "tags": []
   },
   "outputs": [],
   "source": [
    "sgd = SGD(lr=learning_rate, momentum=momentum, decay=decay_rate, nesterov=False)\n",
    "# Build model\n",
    "model= Sequential()\n",
    "model.add(Embedding(vocab_size, embedding_size, input_length=max_len))\n",
    "model.add(Conv1D(filters=32, kernel_size=1, padding='same', activation='relu'))\n",
    "model.add(MaxPooling1D(pool_size=2))\n",
    "model.add(Bidirectional(LSTM(32)))\n",
    "model.add(Dropout(0.4))\n",
    "model.add(Dense(3, activation='softmax'))"
   ]
  },
  {
   "cell_type": "code",
   "execution_count": null,
   "id": "8def1eb5",
   "metadata": {
    "execution": {
     "iopub.execute_input": "2021-10-12T10:33:30.838697Z",
     "iopub.status.busy": "2021-10-12T10:33:30.837756Z",
     "iopub.status.idle": "2021-10-12T10:33:31.732501Z",
     "shell.execute_reply": "2021-10-12T10:33:31.733248Z",
     "shell.execute_reply.started": "2021-10-12T10:29:56.310954Z"
    },
    "papermill": {
     "duration": 1.091408,
     "end_time": "2021-10-12T10:33:31.733492",
     "exception": false,
     "start_time": "2021-10-12T10:33:30.642084",
     "status": "completed"
    },
    "tags": []
   },
   "outputs": [],
   "source": [
    "import tensorflow as tf\n",
    "tf.keras.utils.plot_model(model, show_shapes=True)"
   ]
  },
  {
   "cell_type": "code",
   "execution_count": null,
   "id": "53805eff",
   "metadata": {
    "execution": {
     "iopub.execute_input": "2021-10-12T10:33:32.320627Z",
     "iopub.status.busy": "2021-10-12T10:33:32.319851Z",
     "iopub.status.idle": "2021-10-12T10:33:32.337481Z",
     "shell.execute_reply": "2021-10-12T10:33:32.337086Z",
     "shell.execute_reply.started": "2021-10-12T10:29:56.668764Z"
    },
    "papermill": {
     "duration": 0.264483,
     "end_time": "2021-10-12T10:33:32.337589",
     "exception": false,
     "start_time": "2021-10-12T10:33:32.073106",
     "status": "completed"
    },
    "tags": []
   },
   "outputs": [],
   "source": [
    "model.compile(loss='categorical_crossentropy', optimizer=sgd, metrics=['accuracy', Precision(), Recall()])"
   ]
  },
  {
   "cell_type": "code",
   "execution_count": null,
   "id": "755c65d1",
   "metadata": {
    "execution": {
     "iopub.execute_input": "2021-10-12T10:33:32.686217Z",
     "iopub.status.busy": "2021-10-12T10:33:32.685576Z",
     "iopub.status.idle": "2021-10-12T10:34:03.083664Z",
     "shell.execute_reply": "2021-10-12T10:34:03.084166Z",
     "shell.execute_reply.started": "2021-10-12T10:29:56.693143Z"
    },
    "papermill": {
     "duration": 30.576352,
     "end_time": "2021-10-12T10:34:03.084317",
     "exception": false,
     "start_time": "2021-10-12T10:33:32.507965",
     "status": "completed"
    },
    "tags": []
   },
   "outputs": [],
   "source": [
    "history = model.fit(X_train,y_train,validation_data=(X_val, y_val),batch_size=64,epochs=epochs,verbose=1)"
   ]
  },
  {
   "cell_type": "markdown",
   "id": "430001e3",
   "metadata": {
    "papermill": {
     "duration": 0.257105,
     "end_time": "2021-10-12T10:34:03.601892",
     "exception": false,
     "start_time": "2021-10-12T10:34:03.344787",
     "status": "completed"
    },
    "tags": []
   },
   "source": [
    "# Evaluate"
   ]
  },
  {
   "cell_type": "code",
   "execution_count": null,
   "id": "038bb224",
   "metadata": {
    "execution": {
     "iopub.execute_input": "2021-10-12T10:34:04.124627Z",
     "iopub.status.busy": "2021-10-12T10:34:04.123724Z",
     "iopub.status.idle": "2021-10-12T10:34:05.698380Z",
     "shell.execute_reply": "2021-10-12T10:34:05.698779Z",
     "shell.execute_reply.started": "2021-10-12T10:30:21.193498Z"
    },
    "papermill": {
     "duration": 1.838114,
     "end_time": "2021-10-12T10:34:05.698945",
     "exception": false,
     "start_time": "2021-10-12T10:34:03.860831",
     "status": "completed"
    },
    "tags": []
   },
   "outputs": [],
   "source": [
    "# Evaluate model on the test set\n",
    "loss, accuracy, precision, recall = model.evaluate(X_test, y_test, verbose=0)\n",
    "# Print metrics\n",
    "print('')\n",
    "print('Accuracy  : {:.4f}'.format(accuracy))\n",
    "print('Precision : {:.4f}'.format(precision))\n",
    "print('Recall    : {:.4f}'.format(recall))\n",
    "print('F1 Score  : {:.4f}'.format(f1_score(precision, recall)))"
   ]
  },
  {
   "cell_type": "code",
   "execution_count": null,
   "id": "ac7cd4fc",
   "metadata": {
    "execution": {
     "iopub.execute_input": "2021-10-12T10:34:06.257032Z",
     "iopub.status.busy": "2021-10-12T10:34:06.234347Z",
     "iopub.status.idle": "2021-10-12T10:34:06.625022Z",
     "shell.execute_reply": "2021-10-12T10:34:06.624456Z",
     "shell.execute_reply.started": "2021-10-12T10:30:22.557982Z"
    },
    "papermill": {
     "duration": 0.669375,
     "end_time": "2021-10-12T10:34:06.625154",
     "exception": false,
     "start_time": "2021-10-12T10:34:05.955779",
     "status": "completed"
    },
    "tags": []
   },
   "outputs": [],
   "source": [
    "def plot_training_hist(history):\n",
    "    '''Function to plot history for accuracy and loss'''\n",
    "    \n",
    "    fig, ax = plt.subplots(1,2, figsize=(10,4))\n",
    "    # first plot\n",
    "    ax[0].plot(history.history['accuracy'])\n",
    "    ax[0].plot(history.history['val_accuracy'])\n",
    "    ax[0].set_title('Model Accuracy')\n",
    "    ax[0].set_xlabel('epoch')\n",
    "    ax[0].set_ylabel('accuracy')\n",
    "    ax[0].legend(['train', 'validation'], loc='best')\n",
    "    \n",
    "    # second plot\n",
    "    ax[1].plot(history.history['loss'])\n",
    "    ax[1].plot(history.history['val_loss'])\n",
    "    ax[1].set_title('Model Loss')\n",
    "    ax[1].set_xlabel('epoch')\n",
    "    ax[1].set_ylabel('loss')\n",
    "    ax[1].legend(['train', 'validation'], loc='best')\n",
    "    \n",
    "plot_training_hist(history)"
   ]
  },
  {
   "cell_type": "code",
   "execution_count": null,
   "id": "6f8bbc24",
   "metadata": {
    "execution": {
     "iopub.execute_input": "2021-10-12T10:34:07.166089Z",
     "iopub.status.busy": "2021-10-12T10:34:07.165266Z",
     "iopub.status.idle": "2021-10-12T10:34:08.345833Z",
     "shell.execute_reply": "2021-10-12T10:34:08.345308Z",
     "shell.execute_reply.started": "2021-10-12T10:30:22.948157Z"
    },
    "papermill": {
     "duration": 1.453404,
     "end_time": "2021-10-12T10:34:08.345967",
     "exception": false,
     "start_time": "2021-10-12T10:34:06.892563",
     "status": "completed"
    },
    "tags": []
   },
   "outputs": [],
   "source": [
    "from sklearn.metrics import confusion_matrix\n",
    "\n",
    "def plot_confusion_matrix(model, X_test, y_test):\n",
    "    '''Function to plot confusion matrix for the passed model and the data'''\n",
    "    \n",
    "    sentiment_classes = ['Negative','Neutral', 'Positive']\n",
    "    # use model to do the prediction\n",
    "    y_pred = model.predict(X_test)\n",
    "    # compute confusion matrix\n",
    "    cm = confusion_matrix(np.argmax(y_pred, axis=1),np.argmax(np.array(y_test),axis=1))\n",
    "    \n",
    "    print(pd.Series(np.argmax(np.array(y_test),axis=1)).value_counts())\n",
    "    print(pd.Series(np.argmax(y_pred, axis=1)).value_counts())\n",
    "    \n",
    "    # plot confusion matrix\n",
    "    plt.figure(figsize=(8,6))\n",
    "    sns.heatmap(cm, cmap=plt.cm.Blues, annot=True, fmt='d', \n",
    "                xticklabels=sentiment_classes,\n",
    "                yticklabels=sentiment_classes)\n",
    "    plt.title('Confusion matrix', fontsize=16)\n",
    "    plt.xlabel('Actual label', fontsize=12)\n",
    "    plt.ylabel('Predicted label', fontsize=12)\n",
    "    \n",
    "plot_confusion_matrix(model, X_test, y_test)"
   ]
  },
  {
   "cell_type": "code",
   "execution_count": null,
   "id": "ef3980d0",
   "metadata": {
    "papermill": {
     "duration": 0.263026,
     "end_time": "2021-10-12T10:34:08.866516",
     "exception": false,
     "start_time": "2021-10-12T10:34:08.603490",
     "status": "completed"
    },
    "tags": []
   },
   "outputs": [],
   "source": []
  },
  {
   "cell_type": "code",
   "execution_count": null,
   "id": "d70aabba",
   "metadata": {
    "papermill": {
     "duration": 0.258468,
     "end_time": "2021-10-12T10:34:09.385461",
     "exception": false,
     "start_time": "2021-10-12T10:34:09.126993",
     "status": "completed"
    },
    "tags": []
   },
   "outputs": [],
   "source": []
  },
  {
   "cell_type": "code",
   "execution_count": null,
   "id": "6c4d6e71",
   "metadata": {
    "papermill": {
     "duration": 0.256446,
     "end_time": "2021-10-12T10:34:09.899060",
     "exception": false,
     "start_time": "2021-10-12T10:34:09.642614",
     "status": "completed"
    },
    "tags": []
   },
   "outputs": [],
   "source": []
  }
 ],
 "metadata": {
  "kernelspec": {
   "display_name": "base",
   "language": "python",
   "name": "python3"
  },
  "language_info": {
   "codemirror_mode": {
    "name": "ipython",
    "version": 3
   },
   "file_extension": ".py",
   "mimetype": "text/x-python",
   "name": "python",
   "nbconvert_exporter": "python",
   "pygments_lexer": "ipython3",
   "version": "3.9.13"
  },
  "papermill": {
   "default_parameters": {},
   "duration": 194.649693,
   "end_time": "2021-10-12T10:34:13.275209",
   "environment_variables": {},
   "exception": null,
   "input_path": "__notebook__.ipynb",
   "output_path": "__notebook__.ipynb",
   "parameters": {},
   "start_time": "2021-10-12T10:30:58.625516",
   "version": "2.3.3"
  },
  "vscode": {
   "interpreter": {
    "hash": "9efeb79db191275f2bd7ea2af223cef9e2c63588b917c241ab58487a1641de8c"
   }
  }
 },
 "nbformat": 4,
 "nbformat_minor": 5
}

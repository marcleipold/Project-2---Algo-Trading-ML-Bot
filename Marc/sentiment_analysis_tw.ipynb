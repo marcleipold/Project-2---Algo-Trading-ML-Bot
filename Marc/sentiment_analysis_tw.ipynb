{
 "cells": [
  {
   "cell_type": "code",
   "execution_count": null,
   "metadata": {},
   "outputs": [],
   "source": [
    "# Twitter Sentiment Analysis"
   ]
  },
  {
   "cell_type": "code",
   "execution_count": null,
   "metadata": {},
   "outputs": [],
   "source": [
    "# download dependencies\n",
    "\n",
    "\n",
    "! pip install alpaca-py\n",
    "! pip install tweepy\n",
    "! pip install nltk\n"
   ]
  },
  {
   "cell_type": "code",
   "execution_count": null,
   "metadata": {},
   "outputs": [],
   "source": [
    "# Import dependencies\n",
    "\n",
    "import re\n",
    "import tweepy\n",
    "import pandas as pd\n",
    "from alpaca.data import CryptoDataStream\n",
    "from alpaca.trading.client import TradingClient\n",
    "from alpaca.trading.requests import MarketOrderRequest\n",
    "from alpaca.trading.enums import OrderSide, TimeInForce\n",
    "from nltk.sentiment.vader import SentimentIntensityAnalyzer"
   ]
  },
  {
   "cell_type": "code",
   "execution_count": null,
   "metadata": {},
   "outputs": [],
   "source": [
    "# Alpaca API Credentials\n",
    "APCA_API_KEY = 'PKJNCK6G791HLT1JMRQV'\n",
    "APCA_SECRET_KEY = 'W7COBHnWXOhA9aJlKdTfGjXyUiV14SrvwUwY2jQ2'\n",
    "trading_client = TradingClient(APCA_API_KEY, APCA_SECRET_KEY, paper=True)\n",
    "crypto_stream = CryptoDataStream(APCA_API_KEY, APCA_SECRET_KEY, raw_data=True)\n",
    "\n",
    "# Twitter API Credentials\n",
    "consumer_key = '9uZbJLS4xVltumTOS0SlnMghf'\n",
    "consumer_secret = 'w2hC49P6LLRm1DtdCmdT6BCinM2YyAcSKpsJwraDqlaO8SOPkW'\n",
    "access_token = '946010273839755264-eNJNnKdn08jfq2S7rVl9lFgUQ3nuL3e'\n",
    "access_token_secret = '7j69ROBqlSMunJXu8W8XXJZtldWHMhXLmA2XT2umIR43m'\n",
    "auth = tweepy.OAuthHandler(consumer_key, consumer_secret)\n",
    "auth.set_access_token(access_token, access_token_secret)\n",
    "api = tweepy.API(auth)\n",
    "\n",
    "# Define variables\n",
    "num_tweets = 50000\n",
    "keyword = '$BTCUSD'\n",
    "keyword_to_asset = {\n",
    "    '$BTCUSD': 'BTCUSD'\n",
    "}"
   ]
  },
  {
   "cell_type": "code",
   "execution_count": null,
   "metadata": {},
   "outputs": [],
   "source": [
    "# Check whether account currently holds symbol\n",
    "def check_positions(symbol):\n",
    "    positions = trading_client.get_all_positions()\n",
    "    if symbol in str(positions):\n",
    "        return 1\n",
    "    return 0\n",
    "     "
   ]
  },
  {
   "cell_type": "code",
   "execution_count": null,
   "metadata": {},
   "outputs": [],
   "source": [
    "# Clean the tweet content using regex\n",
    "def clean_tweet(tweet):\n",
    "    return ' '.join(re.sub(\"(@[A-Za-z0-9]+)|([^0-9A-Za-z \\t])|(\\w+:\\/\\/\\S+)\", \" \", tweet).split())\n",
    "     "
   ]
  },
  {
   "cell_type": "code",
   "execution_count": null,
   "metadata": {},
   "outputs": [],
   "source": [
    "\n",
    "# Retrieve tweets from Twitter using keyword\n",
    "def get_tweets(query, count):\n",
    "    tweets = set()\n",
    "    fetched_tweets = api.search(q=query, count=count)\n",
    "    for tweet in fetched_tweets:\n",
    "        cleaned_tweet = clean_tweet(tweet.text)\n",
    "        if cleaned_tweet not in tweets:\n",
    "            tweets.add(cleaned_tweet)\n",
    "    return tweets"
   ]
  },
  {
   "cell_type": "code",
   "execution_count": null,
   "metadata": {},
   "outputs": [],
   "source": [
    "# Calculating the polarity of each tweet using nltk\n",
    "def calculate_polarity(tweets):\n",
    "    scores = []\n",
    "    for tweet in tweets:\n",
    "        pol_score = SentimentIntensityAnalyzer().polarity_scores(tweet)\n",
    "        pol_score['tweet'] = tweet\n",
    "        scores.append(pol_score)\n",
    "    return scores\n",
    "     "
   ]
  },
  {
   "cell_type": "code",
   "execution_count": null,
   "metadata": {},
   "outputs": [],
   "source": [
    "\n",
    "# Placing trades based on the polarity of the tweets\n",
    "def twitter_bot(symbol, close, qty=10):\n",
    "    position = check_positions(symbol=symbol)\n",
    "    tweets = get_tweets(keyword, num_tweets)\n",
    "    scores = calculate_polarity(tweets)\n",
    "\n",
    "    mean = pd.DataFrame.from_records(scores).mean()\n",
    "    compound_score = mean['compound']\n",
    "    print (f\"Sentiment score: {round(compound_score, 3)}\")\n",
    "\n",
    "    if compound_score >= 0.05 and position==0:\n",
    "        market_order_data = MarketOrderRequest(\n",
    "            symbol=symbol,\n",
    "            qty=qty,\n",
    "            side=OrderSide.BUY,\n",
    "            time_in_force=TimeInForce.GTC)\n",
    "\n",
    "        trading_client.submit_order(\n",
    "            order_data=market_order_data)\n",
    "        print(f\"Bought {symbol} at approx. {close}\")\n",
    "\n",
    "    elif compound_score <= -0.05 and position==1:\n",
    "        trading_client.close_position(symbol_or_asset_id=symbol)\n",
    "        print(f\"Sold {symbol} at approx. {close}\")\n",
    "\n",
    "    return True"
   ]
  },
  {
   "cell_type": "code",
   "execution_count": null,
   "metadata": {},
   "outputs": [],
   "source": [
    "# Live streaming of crypto pricing data\n",
    "async def quote_data_handler(data):\n",
    "    close = data['c']\n",
    "    twitter_bot(keyword_to_asset[keyword], close, qty=10)\n",
    "\n",
    "crypto_stream.subscribe_bars(quote_data_handler, keyword_to_asset[keyword])\n",
    "crypto_stream.run()"
   ]
  }
 ],
 "metadata": {
  "kernelspec": {
   "display_name": "Python 3",
   "language": "python",
   "name": "python3"
  },
  "language_info": {
   "codemirror_mode": {
    "name": "ipython",
    "version": 3
   },
   "file_extension": ".py",
   "mimetype": "text/x-python",
   "name": "python",
   "nbconvert_exporter": "python",
   "pygments_lexer": "ipython3",
   "version": "3.10.9"
  },
  "orig_nbformat": 4,
  "vscode": {
   "interpreter": {
    "hash": "ceed564b6ecd67a826a34d041066bc5a0c25a5eacaa1c09445add7c5efd76736"
   }
  }
 },
 "nbformat": 4,
 "nbformat_minor": 2
}

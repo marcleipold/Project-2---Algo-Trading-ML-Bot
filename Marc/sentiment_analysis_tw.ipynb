{
 "cells": [
  {
   "cell_type": "code",
   "execution_count": null,
   "metadata": {},
   "outputs": [],
   "source": [
    "# Twitter Sentiment Analysis"
   ]
  }
 ],
 "metadata": {
  "kernelspec": {
   "display_name": "Python 3",
   "language": "python",
   "name": "python3"
  },
  "language_info": {
   "name": "python",
   "version": "3.10.9 (tags/v3.10.9:1dd9be6, Dec  6 2022, 20:01:21) [MSC v.1934 64 bit (AMD64)]"
  },
  "orig_nbformat": 4,
  "vscode": {
   "interpreter": {
    "hash": "ceed564b6ecd67a826a34d041066bc5a0c25a5eacaa1c09445add7c5efd76736"
   }
  }
 },
 "nbformat": 4,
 "nbformat_minor": 2
}

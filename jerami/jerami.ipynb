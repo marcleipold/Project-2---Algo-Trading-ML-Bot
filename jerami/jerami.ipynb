{
 "cells": [
  {
   "cell_type": "code",
   "execution_count": 520,
   "metadata": {},
   "outputs": [],
   "source": [
    "import pandas as pd\n",
    "from pathlib import Path\n",
    "import numpy as np\n",
    "import alpaca_trade_api as tradeapi\n",
    "from alpaca.data.historical import CryptoHistoricalDataClient\n",
    "from alpaca.data.requests import CryptoBarsRequest\n",
    "from alpaca.data.timeframe import TimeFrame\n",
    "\n",
    "from finta import TA\n",
    "from finta.utils import resample_calendar\n",
    "import json\n",
    "import hvplot.pandas\n",
    "import matplotlib.pyplot as plt\n",
    "from sklearn.preprocessing import StandardScaler\n",
    "from sklearn import svm\n",
    "from sklearn.ensemble import AdaBoostClassifier\n",
    "from pandas.tseries.offsets import DateOffset\n",
    "from sklearn.metrics import classification_report\n",
    "\n",
    "# Alpaca for data\n",
    "import alpaca_trade_api as api\n",
    "from alpaca_trade_api.rest import TimeFrame\n",
    "\n",
    "# pandas for analysis\n",
    "import pandas as pd\n",
    "\n",
    "# Plotly for charting\n",
    "import plotly.graph_objects as go\n",
    "import plotly.express as px\n",
    "\n",
    "# Set default charting for pandas to plotly\n",
    "pd.options.plotting.backend = \"plotly\"\n",
    "\n",
    "import datetime as dt\n",
    "import pytz\n",
    "\n",
    "import os\n",
    "import requests\n",
    "\n"
   ]
  },
  {
   "cell_type": "code",
   "execution_count": 521,
   "metadata": {},
   "outputs": [],
   "source": [
    "# Initial imports\n",
    "import os\n",
    "import requests\n",
    "import pandas as pd\n",
    "from dotenv import load_dotenv\n",
    "import alpaca_trade_api as tradeapi\n",
    "import warnings\n",
    "warnings.filterwarnings(\"ignore\")\n",
    "\n",
    "%matplotlib inline"
   ]
  },
  {
   "cell_type": "code",
   "execution_count": 522,
   "metadata": {},
   "outputs": [
    {
     "data": {
      "text/plain": [
       "True"
      ]
     },
     "execution_count": 522,
     "metadata": {},
     "output_type": "execute_result"
    }
   ],
   "source": [
    "load_dotenv()"
   ]
  },
  {
   "cell_type": "code",
   "execution_count": 523,
   "metadata": {},
   "outputs": [],
   "source": [
    "# Our API keys for Alpaca\n",
    "API_KEY = os.getenv('ALPACA_API_KEY')\n",
    "\n",
    "API_SECRET_KEY = os.getenv('ALPACA_SECRET_KEY')"
   ]
  },
  {
   "cell_type": "code",
   "execution_count": 524,
   "metadata": {},
   "outputs": [],
   "source": [
    "def alpaca_data_import(coin):\n",
    "\n",
    "    # Load .env environment variables\n",
    "\n",
    "    # Our API keys for Alpaca\n",
    "    API_KEY = os.getenv('ALPACA_API_KEY')\n",
    "\n",
    "    API_SECRET_KEY = os.getenv('ALPACA_SECRET_KEY')\n",
    "\n",
    "    #today = dt.date.today()\n",
    "    # symbols we will be looking at\n",
    "    #btc = \"BTCUSD\"\n",
    "    #spy = \"SPY\"\n",
    "\n",
    "    # start dates and end dates for backtest\n",
    "    #start_date = \"2020-01-01\"\n",
    "    #end_date = today \n",
    "    #end_date = '2023-02-06'\n",
    "\n",
    "    end_date = (dt.datetime.now(pytz.timezone('US/Eastern'))-dt.timedelta(hours=1)).isoformat()\n",
    "\n",
    "    start_date = (dt.datetime.now(pytz.timezone('US/Eastern'))-dt.timedelta(days=1080)).isoformat()\n",
    "\n",
    "    # time frame for backtests\n",
    "    timeframe = TimeFrame.Day\n",
    "\n",
    "    # Setup instance of alpaca api\n",
    "    alpaca = api.REST(API_KEY, API_SECRET_KEY)\n",
    "\n",
    "    # # # Request historical bar data for SPY and BTC using Alpaca Data API\n",
    "    # for equities, use .get_bars\n",
    "    #spy_data = alpaca.get_bars(spy, timeframe, start_date, end_date).df\n",
    "\n",
    "    # for crypto, use .get_crypto_bars, from multiple exchanges\n",
    "    #btc_data = alpaca.get_crypto_bars(btc, timeframe, start_date, end_date).df\n",
    "    df = alpaca.get_crypto_bars(coin, timeframe, start_date, end_date).df\n",
    "\n",
    "    df = df[df['exchange'] == 'CBSE']\n",
    "\n",
    "    # display crypto bar data\n",
    "    display(df)\n",
    "    #display(spy_data)\n",
    "\n",
    "    return df"
   ]
  },
  {
   "cell_type": "code",
   "execution_count": 525,
   "metadata": {},
   "outputs": [
    {
     "data": {
      "text/html": [
       "<div>\n",
       "<style scoped>\n",
       "    .dataframe tbody tr th:only-of-type {\n",
       "        vertical-align: middle;\n",
       "    }\n",
       "\n",
       "    .dataframe tbody tr th {\n",
       "        vertical-align: top;\n",
       "    }\n",
       "\n",
       "    .dataframe thead th {\n",
       "        text-align: right;\n",
       "    }\n",
       "</style>\n",
       "<table border=\"1\" class=\"dataframe\">\n",
       "  <thead>\n",
       "    <tr style=\"text-align: right;\">\n",
       "      <th></th>\n",
       "      <th>exchange</th>\n",
       "      <th>open</th>\n",
       "      <th>high</th>\n",
       "      <th>low</th>\n",
       "      <th>close</th>\n",
       "      <th>volume</th>\n",
       "      <th>trade_count</th>\n",
       "      <th>vwap</th>\n",
       "    </tr>\n",
       "    <tr>\n",
       "      <th>timestamp</th>\n",
       "      <th></th>\n",
       "      <th></th>\n",
       "      <th></th>\n",
       "      <th></th>\n",
       "      <th></th>\n",
       "      <th></th>\n",
       "      <th></th>\n",
       "      <th></th>\n",
       "    </tr>\n",
       "  </thead>\n",
       "  <tbody>\n",
       "    <tr>\n",
       "      <th>2020-02-27 06:00:00+00:00</th>\n",
       "      <td>CBSE</td>\n",
       "      <td>8814.90</td>\n",
       "      <td>8899.94</td>\n",
       "      <td>8779.06</td>\n",
       "      <td>8786.54</td>\n",
       "      <td>1819.421690</td>\n",
       "      <td>15034</td>\n",
       "      <td>8848.335058</td>\n",
       "    </tr>\n",
       "    <tr>\n",
       "      <th>2020-02-28 06:00:00+00:00</th>\n",
       "      <td>CBSE</td>\n",
       "      <td>8786.53</td>\n",
       "      <td>8813.12</td>\n",
       "      <td>8428.80</td>\n",
       "      <td>8708.89</td>\n",
       "      <td>11572.123138</td>\n",
       "      <td>63193</td>\n",
       "      <td>8624.928084</td>\n",
       "    </tr>\n",
       "    <tr>\n",
       "      <th>2020-02-29 06:00:00+00:00</th>\n",
       "      <td>CBSE</td>\n",
       "      <td>8523.33</td>\n",
       "      <td>8671.56</td>\n",
       "      <td>8508.96</td>\n",
       "      <td>8588.26</td>\n",
       "      <td>1926.708790</td>\n",
       "      <td>15954</td>\n",
       "      <td>8585.057963</td>\n",
       "    </tr>\n",
       "    <tr>\n",
       "      <th>2020-03-01 06:00:00+00:00</th>\n",
       "      <td>CBSE</td>\n",
       "      <td>8522.30</td>\n",
       "      <td>8656.23</td>\n",
       "      <td>8487.33</td>\n",
       "      <td>8655.51</td>\n",
       "      <td>2329.079350</td>\n",
       "      <td>15138</td>\n",
       "      <td>8596.448236</td>\n",
       "    </tr>\n",
       "    <tr>\n",
       "      <th>2020-03-02 06:00:00+00:00</th>\n",
       "      <td>CBSE</td>\n",
       "      <td>8655.50</td>\n",
       "      <td>8973.45</td>\n",
       "      <td>8591.22</td>\n",
       "      <td>8915.00</td>\n",
       "      <td>7887.291834</td>\n",
       "      <td>47416</td>\n",
       "      <td>8824.567644</td>\n",
       "    </tr>\n",
       "    <tr>\n",
       "      <th>...</th>\n",
       "      <td>...</td>\n",
       "      <td>...</td>\n",
       "      <td>...</td>\n",
       "      <td>...</td>\n",
       "      <td>...</td>\n",
       "      <td>...</td>\n",
       "      <td>...</td>\n",
       "      <td>...</td>\n",
       "    </tr>\n",
       "    <tr>\n",
       "      <th>2023-02-06 06:00:00+00:00</th>\n",
       "      <td>CBSE</td>\n",
       "      <td>22781.29</td>\n",
       "      <td>23163.05</td>\n",
       "      <td>22639.39</td>\n",
       "      <td>22935.08</td>\n",
       "      <td>10397.136521</td>\n",
       "      <td>236952</td>\n",
       "      <td>22910.702025</td>\n",
       "    </tr>\n",
       "    <tr>\n",
       "      <th>2023-02-07 06:00:00+00:00</th>\n",
       "      <td>CBSE</td>\n",
       "      <td>22934.51</td>\n",
       "      <td>23451.01</td>\n",
       "      <td>22770.58</td>\n",
       "      <td>23226.12</td>\n",
       "      <td>9926.531595</td>\n",
       "      <td>294835</td>\n",
       "      <td>23091.005413</td>\n",
       "    </tr>\n",
       "    <tr>\n",
       "      <th>2023-02-08 06:00:00+00:00</th>\n",
       "      <td>CBSE</td>\n",
       "      <td>23225.45</td>\n",
       "      <td>23239.79</td>\n",
       "      <td>22360.16</td>\n",
       "      <td>22605.13</td>\n",
       "      <td>11523.796942</td>\n",
       "      <td>317759</td>\n",
       "      <td>22801.309970</td>\n",
       "    </tr>\n",
       "    <tr>\n",
       "      <th>2023-02-09 06:00:00+00:00</th>\n",
       "      <td>CBSE</td>\n",
       "      <td>22605.13</td>\n",
       "      <td>22832.44</td>\n",
       "      <td>21636.10</td>\n",
       "      <td>21802.71</td>\n",
       "      <td>16887.384495</td>\n",
       "      <td>382351</td>\n",
       "      <td>22184.534472</td>\n",
       "    </tr>\n",
       "    <tr>\n",
       "      <th>2023-02-10 06:00:00+00:00</th>\n",
       "      <td>CBSE</td>\n",
       "      <td>21802.72</td>\n",
       "      <td>21934.31</td>\n",
       "      <td>21531.56</td>\n",
       "      <td>21600.16</td>\n",
       "      <td>4758.106752</td>\n",
       "      <td>110967</td>\n",
       "      <td>21815.720214</td>\n",
       "    </tr>\n",
       "  </tbody>\n",
       "</table>\n",
       "<p>1080 rows × 8 columns</p>\n",
       "</div>"
      ],
      "text/plain": [
       "                          exchange      open      high       low     close  \\\n",
       "timestamp                                                                    \n",
       "2020-02-27 06:00:00+00:00     CBSE   8814.90   8899.94   8779.06   8786.54   \n",
       "2020-02-28 06:00:00+00:00     CBSE   8786.53   8813.12   8428.80   8708.89   \n",
       "2020-02-29 06:00:00+00:00     CBSE   8523.33   8671.56   8508.96   8588.26   \n",
       "2020-03-01 06:00:00+00:00     CBSE   8522.30   8656.23   8487.33   8655.51   \n",
       "2020-03-02 06:00:00+00:00     CBSE   8655.50   8973.45   8591.22   8915.00   \n",
       "...                            ...       ...       ...       ...       ...   \n",
       "2023-02-06 06:00:00+00:00     CBSE  22781.29  23163.05  22639.39  22935.08   \n",
       "2023-02-07 06:00:00+00:00     CBSE  22934.51  23451.01  22770.58  23226.12   \n",
       "2023-02-08 06:00:00+00:00     CBSE  23225.45  23239.79  22360.16  22605.13   \n",
       "2023-02-09 06:00:00+00:00     CBSE  22605.13  22832.44  21636.10  21802.71   \n",
       "2023-02-10 06:00:00+00:00     CBSE  21802.72  21934.31  21531.56  21600.16   \n",
       "\n",
       "                                 volume  trade_count          vwap  \n",
       "timestamp                                                           \n",
       "2020-02-27 06:00:00+00:00   1819.421690        15034   8848.335058  \n",
       "2020-02-28 06:00:00+00:00  11572.123138        63193   8624.928084  \n",
       "2020-02-29 06:00:00+00:00   1926.708790        15954   8585.057963  \n",
       "2020-03-01 06:00:00+00:00   2329.079350        15138   8596.448236  \n",
       "2020-03-02 06:00:00+00:00   7887.291834        47416   8824.567644  \n",
       "...                                 ...          ...           ...  \n",
       "2023-02-06 06:00:00+00:00  10397.136521       236952  22910.702025  \n",
       "2023-02-07 06:00:00+00:00   9926.531595       294835  23091.005413  \n",
       "2023-02-08 06:00:00+00:00  11523.796942       317759  22801.309970  \n",
       "2023-02-09 06:00:00+00:00  16887.384495       382351  22184.534472  \n",
       "2023-02-10 06:00:00+00:00   4758.106752       110967  21815.720214  \n",
       "\n",
       "[1080 rows x 8 columns]"
      ]
     },
     "metadata": {},
     "output_type": "display_data"
    }
   ],
   "source": [
    "btc_data = alpaca_data_import('BTCUSD')"
   ]
  },
  {
   "cell_type": "code",
   "execution_count": null,
   "metadata": {},
   "outputs": [],
   "source": []
  },
  {
   "cell_type": "code",
   "execution_count": 526,
   "metadata": {},
   "outputs": [],
   "source": [
    "\n",
    "# #today = dt.date.today()\n",
    "# # symbols we will be looking at\n",
    "# btc = \"BTCUSD\"\n",
    "# #spy = \"SPY\"\n",
    "\n",
    "# # start dates and end dates for backtest\n",
    "# #start_date = \"2020-01-01\"\n",
    "# #end_date = today \n",
    "# #end_date = '2023-02-06'\n",
    "\n",
    "# end_date = (dt.datetime.now(pytz.timezone('US/Eastern'))-dt.timedelta(hours=1)).isoformat()\n",
    "\n",
    "# start_date = (dt.datetime.now(pytz.timezone('US/Eastern'))-dt.timedelta(days=1080)).isoformat()\n",
    "\n",
    "# # time frame for backtests\n",
    "# timeframe = TimeFrame.Day"
   ]
  },
  {
   "cell_type": "code",
   "execution_count": 527,
   "metadata": {},
   "outputs": [],
   "source": [
    "# # Our API keys for Alpaca\n",
    "# API_KEY = os.getenv('ALPACA_API_KEY')\n",
    "\n",
    "# API_SECRET_KEY = os.getenv('ALPACA_SECRET_KEY')\n",
    "\n",
    "# # Setup instance of alpaca api\n",
    "# alpaca = api.REST(ALPACA_API_KEY, ALPACA_SECRET_KEY)\n",
    "\n",
    "# # # # Request historical bar data for SPY and BTC using Alpaca Data API\n",
    "# # for equities, use .get_bars\n",
    "# #spy_data = alpaca.get_bars(spy, timeframe, start_date, end_date).df\n",
    "\n",
    "# # for crypto, use .get_crypto_bars, from multiple exchanges\n",
    "# btc_data = alpaca.get_crypto_bars(btc, timeframe, start_date, end_date).df\n",
    "\n",
    "# btc_data = btc_data[btc_data['exchange'] == 'CBSE']\n",
    "\n",
    "# # display crypto bar data\n",
    "# display(btc_data)\n",
    "# #display(spy_data)"
   ]
  },
  {
   "cell_type": "code",
   "execution_count": 528,
   "metadata": {},
   "outputs": [],
   "source": [
    "def process_data_ohlcv(df):\n",
    "\n",
    "    ohlcv_df = df.drop(columns=['exchange','trade_count','vwap'])\n",
    "    #ohlc_df = df.drop(columns=['volume'])\n",
    "    ichimoku_df = TA.ICHIMOKU(ohlcv_df, tenkan_period= 20, kijun_period= 60, senkou_period= 120, chikou_period= 30)\n",
    "    #ETH ichimoku_df = TA.ICHIMOKU(ohlcv_df, tenkan_period= 13, kijun_period= 34, senkou_period= 55, chikou_period= 21)\n",
    "\n",
    "    ichimoku_df = pd.concat([ichimoku_df, ohlcv_df['close']], axis=1)\n",
    "\n",
    "    return ichimoku_df\n",
    "#ohlcv_df\n",
    "\n",
    "#ohlcv_df = resample_calendar(ohlcv_df, '4h')\n",
    "#ohlcv_df = ohlcv_df.dropna()\n"
   ]
  },
  {
   "cell_type": "code",
   "execution_count": 529,
   "metadata": {},
   "outputs": [],
   "source": [
    "ichimoku_df = process_data_ohlcv(btc_data)\n",
    "#ichimoku_df"
   ]
  },
  {
   "cell_type": "code",
   "execution_count": 530,
   "metadata": {},
   "outputs": [],
   "source": [
    "def get_signal(df):\n",
    "    \n",
    "    df['signal'] = 0\n",
    "    df[\"signal\"] = np.where((df[\"TENKAN\"] > df[\"KIJUN\"]) &\n",
    "                                (df[\"close\"] > df[\"senkou_span_a\"]), 1, 0)\n",
    "\n",
    "    df['entry/exit'] = df['signal'].diff()\n",
    "    \n",
    "    df['actual_returns'] = df['close'].pct_change()\n",
    "    df[\"strategy_returns\"] = df[\"actual_returns\"] * df[\"signal\"].shift() \n",
    "\n",
    "    actual_returns = df['actual_returns'].cumsum()\n",
    "    \n",
    "    \n",
    "    return df"
   ]
  },
  {
   "cell_type": "code",
   "execution_count": 531,
   "metadata": {},
   "outputs": [
    {
     "data": {
      "text/plain": [
       "timestamp\n",
       "2022-11-03 05:00:00+00:00    False\n",
       "2022-11-04 05:00:00+00:00    False\n",
       "2022-11-05 05:00:00+00:00    False\n",
       "2022-11-06 05:00:00+00:00    False\n",
       "2022-11-07 06:00:00+00:00    False\n",
       "                             ...  \n",
       "2023-02-06 06:00:00+00:00    False\n",
       "2023-02-07 06:00:00+00:00    False\n",
       "2023-02-08 06:00:00+00:00    False\n",
       "2023-02-09 06:00:00+00:00    False\n",
       "2023-02-10 06:00:00+00:00    False\n",
       "Name: entry/exit, Length: 100, dtype: bool"
      ]
     },
     "execution_count": 531,
     "metadata": {},
     "output_type": "execute_result"
    }
   ],
   "source": [
    "ichimoku_signal_df =  get_signal(ichimoku_df)\n",
    "#ichimoku_signal_df\n",
    "sell_signals_df = ichimoku_signal_df['entry/exit'] == -1.0\n",
    "sell_signals_df.tail(100)"
   ]
  },
  {
   "cell_type": "code",
   "execution_count": 532,
   "metadata": {},
   "outputs": [],
   "source": [
    "def create_order(symbol, qty, side, order_type, time_in_force, api_key_id, api_secret_key):\n",
    "    headers = {\n",
    "        \"Apca-Api-Key-Id\": api_key_id,\n",
    "        \"Apca-Api-Secret-Key\": api_secret_key,\n",
    "        \"Content-Type\": \"application/json\"\n",
    "    }\n",
    "\n",
    "    data = {\n",
    "        \"symbol\": symbol,\n",
    "        \"qty\": qty,\n",
    "        \"side\": side,\n",
    "        \"type\": order_type,\n",
    "        \"time_in_force\": time_in_force\n",
    "    }\n",
    "\n",
    "    url = \"https://paper-api.alpaca.markets/v2/orders\"\n",
    "    response = requests.post(url, headers=headers, json=data)\n",
    "\n",
    "    if response.status_code != 200:\n",
    "        raise ValueError(\"Failed to create order: \" + response.text)\n",
    "\n",
    "    return response.json()\n"
   ]
  },
  {
   "cell_type": "code",
   "execution_count": 533,
   "metadata": {},
   "outputs": [],
   "source": [
    "\n",
    "api_key_id = API_KEY\n",
    "api_secret_key = API_SECRET_KEY\n",
    "\n",
    "#result = create_order(\"BTC/USD\", \"1.0\", \"buy\", \"market\", \"gtc\", api_key_id, api_secret_key)\n",
    "#print(result)\n"
   ]
  },
  {
   "cell_type": "code",
   "execution_count": 534,
   "metadata": {},
   "outputs": [
    {
     "data": {
      "text/plain": [
       "0.0"
      ]
     },
     "execution_count": 534,
     "metadata": {},
     "output_type": "execute_result"
    }
   ],
   "source": [
    "ichimoku_signal_df['entry/exit'].iloc[-1] "
   ]
  },
  {
   "cell_type": "code",
   "execution_count": 535,
   "metadata": {},
   "outputs": [
    {
     "name": "stdout",
     "output_type": "stream",
     "text": [
      "No Trades Today!\n"
     ]
    }
   ],
   "source": [
    "if ichimoku_signal_df['entry/exit'].iloc[-1] == 1.0:\n",
    "    create_order(\"BTC/USD\", \"1.0\", \"buy\", \"market\", \"gtc\", api_key_id, api_secret_key)\n",
    "elif ichimoku_signal_df['entry/exit'].iloc[-1] == -1.0:\n",
    "    create_order(\"BTC/USD\", \"1.0\", \"sell\", \"market\", \"gtc\", api_key_id, api_secret_key)\n",
    "else:\n",
    "    print('No Trades Today!')"
   ]
  },
  {
   "cell_type": "code",
   "execution_count": 536,
   "metadata": {},
   "outputs": [],
   "source": [
    "# ohlc_df = ohlcv_df.drop(columns=['volume'])\n",
    "# #ohlc_df"
   ]
  },
  {
   "cell_type": "code",
   "execution_count": 537,
   "metadata": {},
   "outputs": [],
   "source": [
    "# ichimoku_df = TA.ICHIMOKU(ohlcv_df, tenkan_period= 20, kijun_period= 60, senkou_period= 120, chikou_period= 30)\n",
    "# #ichimoku_df"
   ]
  },
  {
   "cell_type": "code",
   "execution_count": 538,
   "metadata": {},
   "outputs": [
    {
     "data": {
      "text/html": [
       "<div>\n",
       "<style scoped>\n",
       "    .dataframe tbody tr th:only-of-type {\n",
       "        vertical-align: middle;\n",
       "    }\n",
       "\n",
       "    .dataframe tbody tr th {\n",
       "        vertical-align: top;\n",
       "    }\n",
       "\n",
       "    .dataframe thead th {\n",
       "        text-align: right;\n",
       "    }\n",
       "</style>\n",
       "<table border=\"1\" class=\"dataframe\">\n",
       "  <thead>\n",
       "    <tr style=\"text-align: right;\">\n",
       "      <th></th>\n",
       "      <th>TENKAN</th>\n",
       "      <th>KIJUN</th>\n",
       "      <th>senkou_span_a</th>\n",
       "      <th>SENKOU</th>\n",
       "      <th>CHIKOU</th>\n",
       "      <th>close</th>\n",
       "      <th>signal</th>\n",
       "      <th>entry/exit</th>\n",
       "      <th>actual_returns</th>\n",
       "      <th>strategy_returns</th>\n",
       "    </tr>\n",
       "    <tr>\n",
       "      <th>timestamp</th>\n",
       "      <th></th>\n",
       "      <th></th>\n",
       "      <th></th>\n",
       "      <th></th>\n",
       "      <th></th>\n",
       "      <th></th>\n",
       "      <th></th>\n",
       "      <th></th>\n",
       "      <th></th>\n",
       "      <th></th>\n",
       "    </tr>\n",
       "  </thead>\n",
       "  <tbody>\n",
       "    <tr>\n",
       "      <th>2020-02-27 06:00:00+00:00</th>\n",
       "      <td>NaN</td>\n",
       "      <td>NaN</td>\n",
       "      <td>NaN</td>\n",
       "      <td>NaN</td>\n",
       "      <td>6214.81</td>\n",
       "      <td>8786.54</td>\n",
       "      <td>0</td>\n",
       "      <td>NaN</td>\n",
       "      <td>NaN</td>\n",
       "      <td>NaN</td>\n",
       "    </tr>\n",
       "    <tr>\n",
       "      <th>2020-02-28 06:00:00+00:00</th>\n",
       "      <td>NaN</td>\n",
       "      <td>NaN</td>\n",
       "      <td>NaN</td>\n",
       "      <td>NaN</td>\n",
       "      <td>6042.61</td>\n",
       "      <td>8708.89</td>\n",
       "      <td>0</td>\n",
       "      <td>0.0</td>\n",
       "      <td>-0.008837</td>\n",
       "      <td>-0.000000</td>\n",
       "    </tr>\n",
       "    <tr>\n",
       "      <th>2020-02-29 06:00:00+00:00</th>\n",
       "      <td>NaN</td>\n",
       "      <td>NaN</td>\n",
       "      <td>NaN</td>\n",
       "      <td>NaN</td>\n",
       "      <td>6406.40</td>\n",
       "      <td>8588.26</td>\n",
       "      <td>0</td>\n",
       "      <td>0.0</td>\n",
       "      <td>-0.013851</td>\n",
       "      <td>-0.000000</td>\n",
       "    </tr>\n",
       "    <tr>\n",
       "      <th>2020-03-01 06:00:00+00:00</th>\n",
       "      <td>NaN</td>\n",
       "      <td>NaN</td>\n",
       "      <td>NaN</td>\n",
       "      <td>NaN</td>\n",
       "      <td>6347.48</td>\n",
       "      <td>8655.51</td>\n",
       "      <td>0</td>\n",
       "      <td>0.0</td>\n",
       "      <td>0.007830</td>\n",
       "      <td>0.000000</td>\n",
       "    </tr>\n",
       "    <tr>\n",
       "      <th>2020-03-02 06:00:00+00:00</th>\n",
       "      <td>NaN</td>\n",
       "      <td>NaN</td>\n",
       "      <td>NaN</td>\n",
       "      <td>NaN</td>\n",
       "      <td>6615.00</td>\n",
       "      <td>8915.00</td>\n",
       "      <td>0</td>\n",
       "      <td>0.0</td>\n",
       "      <td>0.029980</td>\n",
       "      <td>0.000000</td>\n",
       "    </tr>\n",
       "    <tr>\n",
       "      <th>...</th>\n",
       "      <td>...</td>\n",
       "      <td>...</td>\n",
       "      <td>...</td>\n",
       "      <td>...</td>\n",
       "      <td>...</td>\n",
       "      <td>...</td>\n",
       "      <td>...</td>\n",
       "      <td>...</td>\n",
       "      <td>...</td>\n",
       "      <td>...</td>\n",
       "    </tr>\n",
       "    <tr>\n",
       "      <th>2023-02-06 06:00:00+00:00</th>\n",
       "      <td>22316.095</td>\n",
       "      <td>20267.79</td>\n",
       "      <td>17455.8475</td>\n",
       "      <td>20337.285</td>\n",
       "      <td>NaN</td>\n",
       "      <td>22935.08</td>\n",
       "      <td>1</td>\n",
       "      <td>0.0</td>\n",
       "      <td>0.006724</td>\n",
       "      <td>0.006724</td>\n",
       "    </tr>\n",
       "    <tr>\n",
       "      <th>2023-02-07 06:00:00+00:00</th>\n",
       "      <td>22461.135</td>\n",
       "      <td>20267.79</td>\n",
       "      <td>17455.8475</td>\n",
       "      <td>20337.285</td>\n",
       "      <td>NaN</td>\n",
       "      <td>23226.12</td>\n",
       "      <td>1</td>\n",
       "      <td>0.0</td>\n",
       "      <td>0.012690</td>\n",
       "      <td>0.012690</td>\n",
       "    </tr>\n",
       "    <tr>\n",
       "      <th>2023-02-08 06:00:00+00:00</th>\n",
       "      <td>22563.910</td>\n",
       "      <td>20267.79</td>\n",
       "      <td>17455.8475</td>\n",
       "      <td>20337.285</td>\n",
       "      <td>NaN</td>\n",
       "      <td>22605.13</td>\n",
       "      <td>1</td>\n",
       "      <td>0.0</td>\n",
       "      <td>-0.026737</td>\n",
       "      <td>-0.026737</td>\n",
       "    </tr>\n",
       "    <tr>\n",
       "      <th>2023-02-09 06:00:00+00:00</th>\n",
       "      <td>22949.140</td>\n",
       "      <td>20267.79</td>\n",
       "      <td>17489.9025</td>\n",
       "      <td>20337.285</td>\n",
       "      <td>NaN</td>\n",
       "      <td>21802.71</td>\n",
       "      <td>1</td>\n",
       "      <td>0.0</td>\n",
       "      <td>-0.035497</td>\n",
       "      <td>-0.035497</td>\n",
       "    </tr>\n",
       "    <tr>\n",
       "      <th>2023-02-10 06:00:00+00:00</th>\n",
       "      <td>22896.870</td>\n",
       "      <td>20267.79</td>\n",
       "      <td>17589.0075</td>\n",
       "      <td>20223.455</td>\n",
       "      <td>NaN</td>\n",
       "      <td>21600.16</td>\n",
       "      <td>1</td>\n",
       "      <td>0.0</td>\n",
       "      <td>-0.009290</td>\n",
       "      <td>-0.009290</td>\n",
       "    </tr>\n",
       "  </tbody>\n",
       "</table>\n",
       "<p>1080 rows × 10 columns</p>\n",
       "</div>"
      ],
      "text/plain": [
       "                              TENKAN     KIJUN  senkou_span_a     SENKOU  \\\n",
       "timestamp                                                                  \n",
       "2020-02-27 06:00:00+00:00        NaN       NaN            NaN        NaN   \n",
       "2020-02-28 06:00:00+00:00        NaN       NaN            NaN        NaN   \n",
       "2020-02-29 06:00:00+00:00        NaN       NaN            NaN        NaN   \n",
       "2020-03-01 06:00:00+00:00        NaN       NaN            NaN        NaN   \n",
       "2020-03-02 06:00:00+00:00        NaN       NaN            NaN        NaN   \n",
       "...                              ...       ...            ...        ...   \n",
       "2023-02-06 06:00:00+00:00  22316.095  20267.79     17455.8475  20337.285   \n",
       "2023-02-07 06:00:00+00:00  22461.135  20267.79     17455.8475  20337.285   \n",
       "2023-02-08 06:00:00+00:00  22563.910  20267.79     17455.8475  20337.285   \n",
       "2023-02-09 06:00:00+00:00  22949.140  20267.79     17489.9025  20337.285   \n",
       "2023-02-10 06:00:00+00:00  22896.870  20267.79     17589.0075  20223.455   \n",
       "\n",
       "                            CHIKOU     close  signal  entry/exit  \\\n",
       "timestamp                                                          \n",
       "2020-02-27 06:00:00+00:00  6214.81   8786.54       0         NaN   \n",
       "2020-02-28 06:00:00+00:00  6042.61   8708.89       0         0.0   \n",
       "2020-02-29 06:00:00+00:00  6406.40   8588.26       0         0.0   \n",
       "2020-03-01 06:00:00+00:00  6347.48   8655.51       0         0.0   \n",
       "2020-03-02 06:00:00+00:00  6615.00   8915.00       0         0.0   \n",
       "...                            ...       ...     ...         ...   \n",
       "2023-02-06 06:00:00+00:00      NaN  22935.08       1         0.0   \n",
       "2023-02-07 06:00:00+00:00      NaN  23226.12       1         0.0   \n",
       "2023-02-08 06:00:00+00:00      NaN  22605.13       1         0.0   \n",
       "2023-02-09 06:00:00+00:00      NaN  21802.71       1         0.0   \n",
       "2023-02-10 06:00:00+00:00      NaN  21600.16       1         0.0   \n",
       "\n",
       "                           actual_returns  strategy_returns  \n",
       "timestamp                                                    \n",
       "2020-02-27 06:00:00+00:00             NaN               NaN  \n",
       "2020-02-28 06:00:00+00:00       -0.008837         -0.000000  \n",
       "2020-02-29 06:00:00+00:00       -0.013851         -0.000000  \n",
       "2020-03-01 06:00:00+00:00        0.007830          0.000000  \n",
       "2020-03-02 06:00:00+00:00        0.029980          0.000000  \n",
       "...                                   ...               ...  \n",
       "2023-02-06 06:00:00+00:00        0.006724          0.006724  \n",
       "2023-02-07 06:00:00+00:00        0.012690          0.012690  \n",
       "2023-02-08 06:00:00+00:00       -0.026737         -0.026737  \n",
       "2023-02-09 06:00:00+00:00       -0.035497         -0.035497  \n",
       "2023-02-10 06:00:00+00:00       -0.009290         -0.009290  \n",
       "\n",
       "[1080 rows x 10 columns]"
      ]
     },
     "execution_count": 538,
     "metadata": {},
     "output_type": "execute_result"
    }
   ],
   "source": [
    "# ichimoku_signal_df = pd.concat([ichimoku_df, ohlcv_df['close']], axis=1)\n",
    "ichimoku_signal_df"
   ]
  },
  {
   "cell_type": "code",
   "execution_count": 539,
   "metadata": {},
   "outputs": [],
   "source": [
    "\n",
    "# ichimoku_signal_df['signal'] = 0\n",
    "# ichimoku_signal_df[\"signal\"] = np.where((ichimoku_signal_df[\"TENKAN\"] > ichimoku_signal_df[\"KIJUN\"]) &\n",
    "#                                 (ichimoku_signal_df[\"close\"] > ichimoku_signal_df[\"senkou_span_a\"]), 1, 0)\n",
    "\n",
    "# ichimoku_signal_df['entry/exit'] = ichimoku_signal_df['signal'].diff()\n",
    "\n",
    "# #ichimoku_signal_df\n"
   ]
  },
  {
   "cell_type": "code",
   "execution_count": 540,
   "metadata": {},
   "outputs": [],
   "source": [
    "# ichimoku_signal_df['actual_returns'] = ichimoku_signal_df['close'].pct_change()\n",
    "# ichimoku_signal_df[\"strategy_returns\"] = ichimoku_signal_df[\"actual_returns\"] * ichimoku_signal_df[\"signal\"].shift() \n"
   ]
  },
  {
   "cell_type": "code",
   "execution_count": 541,
   "metadata": {},
   "outputs": [],
   "source": [
    "#ichimoku_signal_df"
   ]
  },
  {
   "cell_type": "code",
   "execution_count": 542,
   "metadata": {},
   "outputs": [],
   "source": [
    "\n",
    "\n",
    "def get_open_positions(api_key_id, api_secret_key):\n",
    "    # Initialize the Alpaca API client\n",
    "   # api = tradeapi.REST(api_key_id, api_secret_key, api_version='v2')\n",
    "    api = tradeapi.REST(api_key_id, api_secret_key, base_url='https://paper-api.alpaca.markets', api_version='v2')\n",
    "\n",
    "    # Get a list of all open positions\n",
    "    open_positions = api.list_positions()\n",
    "    \n",
    "    # Return the list of open positions\n",
    "    \n",
    "    return open_positions\n"
   ]
  },
  {
   "cell_type": "code",
   "execution_count": 543,
   "metadata": {},
   "outputs": [],
   "source": [
    "open_positions = get_open_positions(api_key_id, api_secret_key)\n"
   ]
  },
  {
   "cell_type": "code",
   "execution_count": 544,
   "metadata": {},
   "outputs": [
    {
     "data": {
      "text/plain": [
       "[Position({   'asset_class': 'crypto',\n",
       "     'asset_id': '64bbff51-59d6-4b3c-9351-13ad85e3c752',\n",
       "     'asset_marginable': False,\n",
       "     'avg_entry_price': '21927.892204675868242',\n",
       "     'change_today': '-0.0135751932665143',\n",
       "     'cost_basis': '1973.5101887813671184',\n",
       "     'current_price': '21620.38',\n",
       "     'exchange': 'FTXU',\n",
       "     'lastday_price': '21917.92',\n",
       "     'market_value': '1945.8340918981',\n",
       "     'qty': '0.089999995',\n",
       "     'qty_available': '0.089999995',\n",
       "     'side': 'long',\n",
       "     'symbol': 'BTCUSD',\n",
       "     'unrealized_intraday_pl': '-26.7785985123',\n",
       "     'unrealized_intraday_plpc': '-0.0135751932665143',\n",
       "     'unrealized_pl': '-27.6760968832671184',\n",
       "     'unrealized_plpc': '-0.0140237922462194'}),\n",
       " Position({   'asset_class': 'us_equity',\n",
       "     'asset_id': '8ccae427-5dd0-45b3-b5fe-7ba5e422c766',\n",
       "     'asset_marginable': False,\n",
       "     'avg_entry_price': '143.04',\n",
       "     'change_today': '-0.0489581323557785',\n",
       "     'cost_basis': '14304',\n",
       "     'current_price': '197.17',\n",
       "     'exchange': 'NASDAQ',\n",
       "     'lastday_price': '207.32',\n",
       "     'market_value': '19717',\n",
       "     'qty': '100',\n",
       "     'qty_available': '100',\n",
       "     'side': 'long',\n",
       "     'symbol': 'TSLA',\n",
       "     'unrealized_intraday_pl': '-1015',\n",
       "     'unrealized_intraday_plpc': '-0.0489581323557785',\n",
       "     'unrealized_pl': '5413',\n",
       "     'unrealized_plpc': '0.378425615212528'})]"
      ]
     },
     "execution_count": 544,
     "metadata": {},
     "output_type": "execute_result"
    }
   ],
   "source": [
    "open_positions"
   ]
  },
  {
   "cell_type": "code",
   "execution_count": 545,
   "metadata": {},
   "outputs": [
    {
     "data": {
      "text/plain": [
       "[Position({   'asset_class': 'crypto',\n",
       "     'asset_id': '64bbff51-59d6-4b3c-9351-13ad85e3c752',\n",
       "     'asset_marginable': False,\n",
       "     'avg_entry_price': '21927.892204675868242',\n",
       "     'change_today': '-0.0135751932665143',\n",
       "     'cost_basis': '1973.5101887813671184',\n",
       "     'current_price': '21620.38',\n",
       "     'exchange': 'FTXU',\n",
       "     'lastday_price': '21917.92',\n",
       "     'market_value': '1945.8340918981',\n",
       "     'qty': '0.089999995',\n",
       "     'qty_available': '0.089999995',\n",
       "     'side': 'long',\n",
       "     'symbol': 'BTCUSD',\n",
       "     'unrealized_intraday_pl': '-26.7785985123',\n",
       "     'unrealized_intraday_plpc': '-0.0135751932665143',\n",
       "     'unrealized_pl': '-27.6760968832671184',\n",
       "     'unrealized_plpc': '-0.0140237922462194'}),\n",
       " Position({   'asset_class': 'us_equity',\n",
       "     'asset_id': '8ccae427-5dd0-45b3-b5fe-7ba5e422c766',\n",
       "     'asset_marginable': False,\n",
       "     'avg_entry_price': '143.04',\n",
       "     'change_today': '-0.0489098977426201',\n",
       "     'cost_basis': '14304',\n",
       "     'current_price': '197.18',\n",
       "     'exchange': 'NASDAQ',\n",
       "     'lastday_price': '207.32',\n",
       "     'market_value': '19718',\n",
       "     'qty': '100',\n",
       "     'qty_available': '100',\n",
       "     'side': 'long',\n",
       "     'symbol': 'TSLA',\n",
       "     'unrealized_intraday_pl': '-1014',\n",
       "     'unrealized_intraday_plpc': '-0.0489098977426201',\n",
       "     'unrealized_pl': '5414',\n",
       "     'unrealized_plpc': '0.3784955257270694'})]"
      ]
     },
     "execution_count": 545,
     "metadata": {},
     "output_type": "execute_result"
    }
   ],
   "source": [
    "open_positions = get_open_positions(api_key_id, api_secret_key)\n",
    "open_positions\n",
    "\n"
   ]
  },
  {
   "cell_type": "code",
   "execution_count": 546,
   "metadata": {},
   "outputs": [],
   "source": [
    "#actual_returns = ichimoku_signal_df['actual_returns'].cumsum()\n",
    "\n",
    "actual_returns_plot =  (1 + ichimoku_signal_df[['actual_returns']]).cumprod().hvplot(\n",
    "    color='lightblue'\n",
    ")"
   ]
  },
  {
   "cell_type": "code",
   "execution_count": 547,
   "metadata": {},
   "outputs": [],
   "source": [
    "strategy_returns_plot = (1 + ichimoku_signal_df[['strategy_returns']]).cumprod().hvplot(\n",
    "    color='lightgreen'\n",
    ")"
   ]
  },
  {
   "cell_type": "code",
   "execution_count": 548,
   "metadata": {},
   "outputs": [],
   "source": [
    "#ichimoku_signal_df"
   ]
  },
  {
   "cell_type": "code",
   "execution_count": 549,
   "metadata": {},
   "outputs": [],
   "source": [
    "#ichimoku_signal_df['entry/exit'].value_counts()"
   ]
  },
  {
   "cell_type": "code",
   "execution_count": 550,
   "metadata": {},
   "outputs": [],
   "source": [
    "entry = ichimoku_signal_df[ichimoku_signal_df['entry/exit']==1]['close'].hvplot.scatter(\n",
    "    color='green',\n",
    "    marker= '^'\n",
    ")\n",
    "\n",
    "exit = ichimoku_signal_df[ichimoku_signal_df['entry/exit']==-1]['close'].hvplot.scatter(\n",
    "    color='red',\n",
    "    marker= 'v'\n",
    ")\n",
    "\n",
    "close = ichimoku_signal_df['close'].hvplot(\n",
    "    color='lightgray',\n",
    "    \n",
    ")\n",
    "\n",
    "#actual_returns = actual_returns.hvplot(\n",
    " #   color='lightblue'\n",
    "#)\n",
    "\n",
    "#strategy_returns = ichimoku_signal_df['strategy_returns'].hvplot(\n",
    " #   color='lightgreen',\n",
    "#)"
   ]
  },
  {
   "cell_type": "code",
   "execution_count": 551,
   "metadata": {},
   "outputs": [
    {
     "data": {
      "text/plain": [
       " 0.0    1064\n",
       " 1.0       8\n",
       "-1.0       7\n",
       "Name: entry/exit, dtype: int64"
      ]
     },
     "execution_count": 551,
     "metadata": {},
     "output_type": "execute_result"
    }
   ],
   "source": [
    "ichimoku_signal_df['entry/exit'].value_counts()"
   ]
  },
  {
   "cell_type": "code",
   "execution_count": 552,
   "metadata": {},
   "outputs": [
    {
     "data": {},
     "metadata": {},
     "output_type": "display_data"
    },
    {
     "data": {
      "application/vnd.holoviews_exec.v0+json": "",
      "text/html": [
       "<div id='5583'>\n",
       "  <div class=\"bk-root\" id=\"bcb01c8a-c4dc-48f0-bb07-69df65d6b5b0\" data-root-id=\"5583\"></div>\n",
       "</div>\n",
       "<script type=\"application/javascript\">(function(root) {\n",
       "  function embed_document(root) {\n",
       "    var docs_json = {\"95345ac7-b00a-4eae-8f08-bcfbc97d9cc3\":{\"defs\":[{\"extends\":null,\"module\":null,\"name\":\"ReactiveHTML1\",\"overrides\":[],\"properties\":[]},{\"extends\":null,\"module\":null,\"name\":\"FlexBox1\",\"overrides\":[],\"properties\":[{\"default\":\"flex-start\",\"kind\":null,\"name\":\"align_content\"},{\"default\":\"flex-start\",\"kind\":null,\"name\":\"align_items\"},{\"default\":\"row\",\"kind\":null,\"name\":\"flex_direction\"},{\"default\":\"wrap\",\"kind\":null,\"name\":\"flex_wrap\"},{\"default\":\"flex-start\",\"kind\":null,\"name\":\"justify_content\"}]},{\"extends\":null,\"module\":null,\"name\":\"GridStack1\",\"overrides\":[],\"properties\":[{\"default\":\"warn\",\"kind\":null,\"name\":\"mode\"},{\"default\":null,\"kind\":null,\"name\":\"ncols\"},{\"default\":null,\"kind\":null,\"name\":\"nrows\"},{\"default\":true,\"kind\":null,\"name\":\"allow_resize\"},{\"default\":true,\"kind\":null,\"name\":\"allow_drag\"},{\"default\":[],\"kind\":null,\"name\":\"state\"}]},{\"extends\":null,\"module\":null,\"name\":\"click1\",\"overrides\":[],\"properties\":[{\"default\":\"\",\"kind\":null,\"name\":\"terminal_output\"},{\"default\":\"\",\"kind\":null,\"name\":\"debug_name\"},{\"default\":0,\"kind\":null,\"name\":\"clears\"}]},{\"extends\":null,\"module\":null,\"name\":\"NotificationAreaBase1\",\"overrides\":[],\"properties\":[{\"default\":\"bottom-right\",\"kind\":null,\"name\":\"position\"},{\"default\":0,\"kind\":null,\"name\":\"_clear\"}]},{\"extends\":null,\"module\":null,\"name\":\"NotificationArea1\",\"overrides\":[],\"properties\":[{\"default\":[],\"kind\":null,\"name\":\"notifications\"},{\"default\":\"bottom-right\",\"kind\":null,\"name\":\"position\"},{\"default\":0,\"kind\":null,\"name\":\"_clear\"},{\"default\":[{\"background\":\"#ffc107\",\"icon\":{\"className\":\"fas fa-exclamation-triangle\",\"color\":\"white\",\"tagName\":\"i\"},\"type\":\"warning\"},{\"background\":\"#007bff\",\"icon\":{\"className\":\"fas fa-info-circle\",\"color\":\"white\",\"tagName\":\"i\"},\"type\":\"info\"}],\"kind\":null,\"name\":\"types\"}]},{\"extends\":null,\"module\":null,\"name\":\"Notification\",\"overrides\":[],\"properties\":[{\"default\":null,\"kind\":null,\"name\":\"background\"},{\"default\":3000,\"kind\":null,\"name\":\"duration\"},{\"default\":null,\"kind\":null,\"name\":\"icon\"},{\"default\":\"\",\"kind\":null,\"name\":\"message\"},{\"default\":null,\"kind\":null,\"name\":\"notification_type\"},{\"default\":false,\"kind\":null,\"name\":\"_destroyed\"}]},{\"extends\":null,\"module\":null,\"name\":\"TemplateActions1\",\"overrides\":[],\"properties\":[{\"default\":0,\"kind\":null,\"name\":\"open_modal\"},{\"default\":0,\"kind\":null,\"name\":\"close_modal\"}]},{\"extends\":null,\"module\":null,\"name\":\"MaterialTemplateActions1\",\"overrides\":[],\"properties\":[{\"default\":0,\"kind\":null,\"name\":\"open_modal\"},{\"default\":0,\"kind\":null,\"name\":\"close_modal\"}]}],\"roots\":{\"references\":[{\"attributes\":{\"children\":[{\"id\":\"5584\"},{\"id\":\"5590\"},{\"id\":\"5753\"}],\"margin\":[0,0,0,0],\"name\":\"Row06433\",\"tags\":[\"embedded\"]},\"id\":\"5583\",\"type\":\"Row\"},{\"attributes\":{},\"id\":\"5608\",\"type\":\"PanTool\"},{\"attributes\":{},\"id\":\"5622\",\"type\":\"AllLabels\"},{\"attributes\":{\"axis\":{\"id\":\"5603\"},\"coordinates\":null,\"dimension\":1,\"grid_line_color\":null,\"group\":null,\"ticker\":null},\"id\":\"5606\",\"type\":\"Grid\"},{\"attributes\":{},\"id\":\"5609\",\"type\":\"WheelZoomTool\"},{\"attributes\":{},\"id\":\"5607\",\"type\":\"SaveTool\"},{\"attributes\":{\"overlay\":{\"id\":\"5612\"}},\"id\":\"5610\",\"type\":\"BoxZoomTool\"},{\"attributes\":{},\"id\":\"5611\",\"type\":\"ResetTool\"},{\"attributes\":{\"bottom_units\":\"screen\",\"coordinates\":null,\"fill_alpha\":0.5,\"fill_color\":\"lightgrey\",\"group\":null,\"left_units\":\"screen\",\"level\":\"overlay\",\"line_alpha\":1.0,\"line_color\":\"black\",\"line_dash\":[4,4],\"line_width\":2,\"right_units\":\"screen\",\"syncable\":false,\"top_units\":\"screen\"},\"id\":\"5612\",\"type\":\"BoxAnnotation\"},{\"attributes\":{},\"id\":\"5621\",\"type\":\"DatetimeTickFormatter\"},{\"attributes\":{\"data\":{\"close\":{\"__ndarray__\":\"ZmZmZoYlwkBcj8L1qGzFQJqZmZkZRutAZmZmZvbS5EAUrkfh2jHnQGZmZmYmf+NAAAAAADCW40A=\",\"dtype\":\"float64\",\"order\":\"little\",\"shape\":[7]},\"timestamp\":{\"__ndarray__\":\"AABIg3Ezd0IAAIi7S0p3QgAACI8Jk3dCAABI/FnCd0IAAHAM7td3QgAASONvAXhCAACIFGcCeEI=\",\"dtype\":\"float64\",\"order\":\"little\",\"shape\":[7]}},\"selected\":{\"id\":\"5693\"},\"selection_policy\":{\"id\":\"5711\"}},\"id\":\"5692\",\"type\":\"ColumnDataSource\"},{\"attributes\":{},\"id\":\"5693\",\"type\":\"Selection\"},{\"attributes\":{\"line_color\":\"lightgray\",\"line_width\":2,\"x\":{\"field\":\"timestamp\"},\"y\":{\"field\":\"close\"}},\"id\":\"5658\",\"type\":\"Line\"},{\"attributes\":{\"data\":{\"close\":{\"__ndarray__\":\"mpmZmXkPwkCF61G4HvXDQJqZmZl5IMZAexSuR5km5UAfhetRQNPrQArXo3CViuVAPQrXo1gq5EDsUbgepVnSQA==\",\"dtype\":\"float64\",\"order\":\"little\",\"shape\":[8]},\"timestamp\":{\"__ndarray__\":\"AAAIjZ0ud0IAAEjflzh3QgAAyHb8UndCAABIUZ2xd0IAAMiM28Z3QgAAyLuk+3dCAADIrhQCeEIAADAFSVp4Qg==\",\"dtype\":\"float64\",\"order\":\"little\",\"shape\":[8]}},\"selected\":{\"id\":\"5660\"},\"selection_policy\":{\"id\":\"5676\"}},\"id\":\"5659\",\"type\":\"ColumnDataSource\"},{\"attributes\":{\"angle\":{\"value\":3.141592653589793},\"fill_alpha\":{\"value\":1.0},\"fill_color\":{\"value\":\"red\"},\"hatch_alpha\":{\"value\":1.0},\"hatch_color\":{\"value\":\"red\"},\"hatch_scale\":{\"value\":12.0},\"hatch_weight\":{\"value\":1.0},\"line_alpha\":{\"value\":1.0},\"line_cap\":{\"value\":\"butt\"},\"line_color\":{\"value\":\"red\"},\"line_dash\":{\"value\":[]},\"line_dash_offset\":{\"value\":0},\"line_join\":{\"value\":\"bevel\"},\"line_width\":{\"value\":1},\"marker\":{\"value\":\"triangle\"},\"size\":{\"value\":5.477225575051661},\"x\":{\"field\":\"timestamp\"},\"y\":{\"field\":\"close\"}},\"id\":\"5726\",\"type\":\"Scatter\"},{\"attributes\":{\"tools\":[{\"id\":\"5587\"},{\"id\":\"5607\"},{\"id\":\"5608\"},{\"id\":\"5609\"},{\"id\":\"5610\"},{\"id\":\"5611\"}]},\"id\":\"5613\",\"type\":\"Toolbar\"},{\"attributes\":{\"fill_alpha\":{\"value\":0.2},\"fill_color\":{\"value\":\"green\"},\"hatch_alpha\":{\"value\":0.2},\"hatch_color\":{\"value\":\"green\"},\"line_alpha\":{\"value\":0.2},\"line_color\":{\"value\":\"green\"},\"marker\":{\"value\":\"triangle\"},\"size\":{\"value\":5.477225575051661},\"x\":{\"field\":\"timestamp\"},\"y\":{\"field\":\"close\"}},\"id\":\"5664\",\"type\":\"Scatter\"},{\"attributes\":{\"fill_alpha\":{\"value\":0.1},\"fill_color\":{\"value\":\"green\"},\"hatch_alpha\":{\"value\":0.1},\"hatch_color\":{\"value\":\"green\"},\"line_alpha\":{\"value\":0.1},\"line_color\":{\"value\":\"green\"},\"marker\":{\"value\":\"triangle\"},\"size\":{\"value\":5.477225575051661},\"x\":{\"field\":\"timestamp\"},\"y\":{\"field\":\"close\"}},\"id\":\"5663\",\"type\":\"Scatter\"},{\"attributes\":{\"line_color\":\"lightgray\",\"line_width\":2,\"x\":{\"field\":\"timestamp\"},\"y\":{\"field\":\"close\"}},\"id\":\"5629\",\"type\":\"Line\"},{\"attributes\":{\"line_alpha\":0.1,\"line_color\":\"lightgray\",\"line_width\":2,\"x\":{\"field\":\"timestamp\"},\"y\":{\"field\":\"close\"}},\"id\":\"5630\",\"type\":\"Line\"},{\"attributes\":{},\"id\":\"5624\",\"type\":\"BasicTickFormatter\"},{\"attributes\":{\"months\":[0,4,8]},\"id\":\"5653\",\"type\":\"MonthsTicker\"},{\"attributes\":{},\"id\":\"5625\",\"type\":\"AllLabels\"},{\"attributes\":{\"source\":{\"id\":\"5659\"}},\"id\":\"5666\",\"type\":\"CDSView\"},{\"attributes\":{\"months\":[0,2,4,6,8,10]},\"id\":\"5652\",\"type\":\"MonthsTicker\"},{\"attributes\":{\"coordinates\":null,\"data_source\":{\"id\":\"5659\"},\"glyph\":{\"id\":\"5662\"},\"group\":null,\"hover_glyph\":null,\"muted_glyph\":{\"id\":\"5664\"},\"nonselection_glyph\":{\"id\":\"5663\"},\"selection_glyph\":{\"id\":\"5691\"},\"view\":{\"id\":\"5666\"}},\"id\":\"5665\",\"type\":\"GlyphRenderer\"},{\"attributes\":{\"months\":[0,6]},\"id\":\"5654\",\"type\":\"MonthsTicker\"},{\"attributes\":{\"data\":{\"close\":{\"__ndarray__\":\"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\",\"dtype\":\"float64\",\"order\":\"little\",\"shape\":[1080]},\"timestamp\":{\"__ndarray__\":\"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\",\"dtype\":\"float64\",\"order\":\"little\",\"shape\":[1080]}},\"selected\":{\"id\":\"5627\"},\"selection_policy\":{\"id\":\"5641\"}},\"id\":\"5626\",\"type\":\"ColumnDataSource\"},{\"attributes\":{\"fill_color\":{\"value\":\"green\"},\"hatch_color\":{\"value\":\"green\"},\"line_color\":{\"value\":\"green\"},\"marker\":{\"value\":\"triangle\"},\"size\":{\"value\":5.477225575051661},\"x\":{\"field\":\"timestamp\"},\"y\":{\"field\":\"close\"}},\"id\":\"5662\",\"type\":\"Scatter\"},{\"attributes\":{\"days\":[1,8,15,22]},\"id\":\"5649\",\"type\":\"DaysTicker\"},{\"attributes\":{\"days\":[1,4,7,10,13,16,19,22,25,28]},\"id\":\"5648\",\"type\":\"DaysTicker\"},{\"attributes\":{\"coordinates\":null,\"data_source\":{\"id\":\"5626\"},\"glyph\":{\"id\":\"5629\"},\"group\":null,\"hover_glyph\":null,\"muted_glyph\":{\"id\":\"5631\"},\"nonselection_glyph\":{\"id\":\"5630\"},\"selection_glyph\":{\"id\":\"5658\"},\"view\":{\"id\":\"5633\"}},\"id\":\"5632\",\"type\":\"GlyphRenderer\"},{\"attributes\":{\"angle\":{\"value\":3.141592653589793},\"fill_color\":{\"value\":\"red\"},\"hatch_color\":{\"value\":\"red\"},\"line_color\":{\"value\":\"red\"},\"marker\":{\"value\":\"triangle\"},\"size\":{\"value\":5.477225575051661},\"x\":{\"field\":\"timestamp\"},\"y\":{\"field\":\"close\"}},\"id\":\"5695\",\"type\":\"Scatter\"},{\"attributes\":{},\"id\":\"5676\",\"type\":\"UnionRenderers\"},{\"attributes\":{\"click_policy\":\"mute\",\"coordinates\":null,\"group\":null,\"items\":[{\"id\":\"5657\"}],\"location\":[0,0]},\"id\":\"5656\",\"type\":\"Legend\"},{\"attributes\":{},\"id\":\"5627\",\"type\":\"Selection\"},{\"attributes\":{\"source\":{\"id\":\"5626\"}},\"id\":\"5633\",\"type\":\"CDSView\"},{\"attributes\":{},\"id\":\"5660\",\"type\":\"Selection\"},{\"attributes\":{\"margin\":[5,5,5,5],\"name\":\"HSpacer06437\",\"sizing_mode\":\"stretch_width\"},\"id\":\"5584\",\"type\":\"Spacer\"},{\"attributes\":{},\"id\":\"5595\",\"type\":\"LinearScale\"},{\"attributes\":{},\"id\":\"5641\",\"type\":\"UnionRenderers\"},{\"attributes\":{\"coordinates\":null,\"group\":null,\"text\":\"close\",\"text_color\":\"black\",\"text_font_size\":\"12pt\"},\"id\":\"5591\",\"type\":\"Title\"},{\"attributes\":{\"angle\":{\"value\":3.141592653589793},\"fill_alpha\":{\"value\":0.2},\"fill_color\":{\"value\":\"red\"},\"hatch_alpha\":{\"value\":0.2},\"hatch_color\":{\"value\":\"red\"},\"line_alpha\":{\"value\":0.2},\"line_color\":{\"value\":\"red\"},\"marker\":{\"value\":\"triangle\"},\"size\":{\"value\":5.477225575051661},\"x\":{\"field\":\"timestamp\"},\"y\":{\"field\":\"close\"}},\"id\":\"5697\",\"type\":\"Scatter\"},{\"attributes\":{\"source\":{\"id\":\"5692\"}},\"id\":\"5699\",\"type\":\"CDSView\"},{\"attributes\":{\"callback\":null,\"formatters\":{\"@{timestamp}\":\"datetime\"},\"renderers\":[{\"id\":\"5632\"},{\"id\":\"5665\"},{\"id\":\"5698\"}],\"tags\":[\"hv_created\"],\"tooltips\":[[\"timestamp\",\"@{timestamp}{%F %T}\"],[\"close\",\"@{close}\"]]},\"id\":\"5587\",\"type\":\"HoverTool\"},{\"attributes\":{\"end\":1676008800000.0,\"reset_end\":1676008800000.0,\"reset_start\":1582783200000.0,\"start\":1582783200000.0,\"tags\":[[[\"timestamp\",\"timestamp\",null]]]},\"id\":\"5585\",\"type\":\"Range1d\"},{\"attributes\":{\"angle\":{\"value\":3.141592653589793},\"fill_alpha\":{\"value\":0.1},\"fill_color\":{\"value\":\"red\"},\"hatch_alpha\":{\"value\":0.1},\"hatch_color\":{\"value\":\"red\"},\"line_alpha\":{\"value\":0.1},\"line_color\":{\"value\":\"red\"},\"marker\":{\"value\":\"triangle\"},\"size\":{\"value\":5.477225575051661},\"x\":{\"field\":\"timestamp\"},\"y\":{\"field\":\"close\"}},\"id\":\"5696\",\"type\":\"Scatter\"},{\"attributes\":{\"end\":74487.735,\"reset_end\":74487.735,\"reset_start\":-1481.085000000001,\"start\":-1481.085000000001,\"tags\":[[[\"close\",\"close\",null]]]},\"id\":\"5586\",\"type\":\"Range1d\"},{\"attributes\":{},\"id\":\"5711\",\"type\":\"UnionRenderers\"},{\"attributes\":{\"angle\":{\"value\":0},\"fill_alpha\":{\"value\":1.0},\"fill_color\":{\"value\":\"green\"},\"hatch_alpha\":{\"value\":1.0},\"hatch_color\":{\"value\":\"green\"},\"hatch_scale\":{\"value\":12.0},\"hatch_weight\":{\"value\":1.0},\"line_alpha\":{\"value\":1.0},\"line_cap\":{\"value\":\"butt\"},\"line_color\":{\"value\":\"green\"},\"line_dash\":{\"value\":[]},\"line_dash_offset\":{\"value\":0},\"line_join\":{\"value\":\"bevel\"},\"line_width\":{\"value\":1},\"marker\":{\"value\":\"triangle\"},\"size\":{\"value\":5.477225575051661},\"x\":{\"field\":\"timestamp\"},\"y\":{\"field\":\"close\"}},\"id\":\"5691\",\"type\":\"Scatter\"},{\"attributes\":{\"margin\":[5,5,5,5],\"name\":\"HSpacer06438\",\"sizing_mode\":\"stretch_width\"},\"id\":\"5753\",\"type\":\"Spacer\"},{\"attributes\":{\"below\":[{\"id\":\"5599\"}],\"center\":[{\"id\":\"5602\"},{\"id\":\"5606\"}],\"height\":300,\"left\":[{\"id\":\"5603\"}],\"margin\":[5,5,5,5],\"min_border_bottom\":10,\"min_border_left\":10,\"min_border_right\":10,\"min_border_top\":10,\"renderers\":[{\"id\":\"5632\"},{\"id\":\"5665\"},{\"id\":\"5698\"}],\"right\":[{\"id\":\"5656\"}],\"sizing_mode\":\"fixed\",\"title\":{\"id\":\"5591\"},\"toolbar\":{\"id\":\"5613\"},\"width\":700,\"x_range\":{\"id\":\"5585\"},\"x_scale\":{\"id\":\"5595\"},\"y_range\":{\"id\":\"5586\"},\"y_scale\":{\"id\":\"5597\"}},\"id\":\"5590\",\"subtype\":\"Figure\",\"type\":\"Plot\"},{\"attributes\":{\"coordinates\":null,\"data_source\":{\"id\":\"5692\"},\"glyph\":{\"id\":\"5695\"},\"group\":null,\"hover_glyph\":null,\"muted_glyph\":{\"id\":\"5697\"},\"nonselection_glyph\":{\"id\":\"5696\"},\"selection_glyph\":{\"id\":\"5726\"},\"view\":{\"id\":\"5699\"}},\"id\":\"5698\",\"type\":\"GlyphRenderer\"},{\"attributes\":{\"axis_label\":\"\",\"coordinates\":null,\"formatter\":{\"id\":\"5624\"},\"group\":null,\"major_label_policy\":{\"id\":\"5625\"},\"ticker\":{\"id\":\"5604\"}},\"id\":\"5603\",\"type\":\"LinearAxis\"},{\"attributes\":{\"line_alpha\":0.2,\"line_color\":\"lightgray\",\"line_width\":2,\"x\":{\"field\":\"timestamp\"},\"y\":{\"field\":\"close\"}},\"id\":\"5631\",\"type\":\"Line\"},{\"attributes\":{},\"id\":\"5597\",\"type\":\"LinearScale\"},{\"attributes\":{\"label\":{\"value\":\"close\"},\"renderers\":[{\"id\":\"5632\"},{\"id\":\"5665\"},{\"id\":\"5698\"}]},\"id\":\"5657\",\"type\":\"LegendItem\"},{\"attributes\":{\"mantissas\":[1,2,5],\"max_interval\":500.0,\"num_minor_ticks\":0},\"id\":\"5644\",\"type\":\"AdaptiveTicker\"},{\"attributes\":{\"axis_label\":\"timestamp\",\"coordinates\":null,\"formatter\":{\"id\":\"5621\"},\"group\":null,\"major_label_policy\":{\"id\":\"5622\"},\"ticker\":{\"id\":\"5600\"}},\"id\":\"5599\",\"type\":\"DatetimeAxis\"},{\"attributes\":{\"base\":60,\"mantissas\":[1,2,5,10,15,20,30],\"max_interval\":1800000.0,\"min_interval\":1000.0,\"num_minor_ticks\":0},\"id\":\"5645\",\"type\":\"AdaptiveTicker\"},{\"attributes\":{},\"id\":\"5604\",\"type\":\"BasicTicker\"},{\"attributes\":{\"base\":24,\"mantissas\":[1,2,4,6,8,12],\"max_interval\":43200000.0,\"min_interval\":3600000.0,\"num_minor_ticks\":0},\"id\":\"5646\",\"type\":\"AdaptiveTicker\"},{\"attributes\":{\"months\":[0,1,2,3,4,5,6,7,8,9,10,11]},\"id\":\"5651\",\"type\":\"MonthsTicker\"},{\"attributes\":{},\"id\":\"5655\",\"type\":\"YearsTicker\"},{\"attributes\":{\"axis\":{\"id\":\"5599\"},\"coordinates\":null,\"grid_line_color\":null,\"group\":null,\"ticker\":null},\"id\":\"5602\",\"type\":\"Grid\"},{\"attributes\":{\"num_minor_ticks\":5,\"tickers\":[{\"id\":\"5644\"},{\"id\":\"5645\"},{\"id\":\"5646\"},{\"id\":\"5647\"},{\"id\":\"5648\"},{\"id\":\"5649\"},{\"id\":\"5650\"},{\"id\":\"5651\"},{\"id\":\"5652\"},{\"id\":\"5653\"},{\"id\":\"5654\"},{\"id\":\"5655\"}]},\"id\":\"5600\",\"type\":\"DatetimeTicker\"},{\"attributes\":{\"days\":[1,15]},\"id\":\"5650\",\"type\":\"DaysTicker\"},{\"attributes\":{\"days\":[1,2,3,4,5,6,7,8,9,10,11,12,13,14,15,16,17,18,19,20,21,22,23,24,25,26,27,28,29,30,31]},\"id\":\"5647\",\"type\":\"DaysTicker\"}],\"root_ids\":[\"5583\"]},\"title\":\"Bokeh Application\",\"version\":\"2.4.3\"}};\n",
       "    var render_items = [{\"docid\":\"95345ac7-b00a-4eae-8f08-bcfbc97d9cc3\",\"root_ids\":[\"5583\"],\"roots\":{\"5583\":\"bcb01c8a-c4dc-48f0-bb07-69df65d6b5b0\"}}];\n",
       "    root.Bokeh.embed.embed_items_notebook(docs_json, render_items);\n",
       "  }\n",
       "  if (root.Bokeh !== undefined && root.Bokeh.Panel !== undefined) {\n",
       "    embed_document(root);\n",
       "  } else {\n",
       "    var attempts = 0;\n",
       "    var timer = setInterval(function(root) {\n",
       "      if (root.Bokeh !== undefined && root.Bokeh.Panel !== undefined) {\n",
       "        clearInterval(timer);\n",
       "        embed_document(root);\n",
       "      } else if (document.readyState == \"complete\") {\n",
       "        attempts++;\n",
       "        if (attempts > 200) {\n",
       "          clearInterval(timer);\n",
       "          console.log(\"Bokeh: ERROR: Unable to run BokehJS code because BokehJS library is missing\");\n",
       "        }\n",
       "      }\n",
       "    }, 25, root)\n",
       "  }\n",
       "})(window);</script>"
      ],
      "text/plain": [
       ":Overlay\n",
       "   .Curve.Close      :Curve   [timestamp]   (close)\n",
       "   .Scatter.Close.I  :Scatter   [timestamp]   (close)\n",
       "   .Scatter.Close.II :Scatter   [timestamp]   (close)"
      ]
     },
     "execution_count": 552,
     "metadata": {
      "application/vnd.holoviews_exec.v0+json": {
       "id": "5583"
      }
     },
     "output_type": "execute_result"
    }
   ],
   "source": [
    "close * entry * exit"
   ]
  },
  {
   "cell_type": "code",
   "execution_count": 553,
   "metadata": {},
   "outputs": [
    {
     "data": {},
     "metadata": {},
     "output_type": "display_data"
    },
    {
     "data": {
      "application/vnd.holoviews_exec.v0+json": "",
      "text/html": [
       "<div id='5885'>\n",
       "  <div class=\"bk-root\" id=\"0287ba4a-7e1b-49d9-b3ec-16ba9c7ceed1\" data-root-id=\"5885\"></div>\n",
       "</div>\n",
       "<script type=\"application/javascript\">(function(root) {\n",
       "  function embed_document(root) {\n",
       "    var docs_json = {\"c4ebe04d-ae0b-4171-8ac9-59f5fb343248\":{\"defs\":[{\"extends\":null,\"module\":null,\"name\":\"ReactiveHTML1\",\"overrides\":[],\"properties\":[]},{\"extends\":null,\"module\":null,\"name\":\"FlexBox1\",\"overrides\":[],\"properties\":[{\"default\":\"flex-start\",\"kind\":null,\"name\":\"align_content\"},{\"default\":\"flex-start\",\"kind\":null,\"name\":\"align_items\"},{\"default\":\"row\",\"kind\":null,\"name\":\"flex_direction\"},{\"default\":\"wrap\",\"kind\":null,\"name\":\"flex_wrap\"},{\"default\":\"flex-start\",\"kind\":null,\"name\":\"justify_content\"}]},{\"extends\":null,\"module\":null,\"name\":\"GridStack1\",\"overrides\":[],\"properties\":[{\"default\":\"warn\",\"kind\":null,\"name\":\"mode\"},{\"default\":null,\"kind\":null,\"name\":\"ncols\"},{\"default\":null,\"kind\":null,\"name\":\"nrows\"},{\"default\":true,\"kind\":null,\"name\":\"allow_resize\"},{\"default\":true,\"kind\":null,\"name\":\"allow_drag\"},{\"default\":[],\"kind\":null,\"name\":\"state\"}]},{\"extends\":null,\"module\":null,\"name\":\"click1\",\"overrides\":[],\"properties\":[{\"default\":\"\",\"kind\":null,\"name\":\"terminal_output\"},{\"default\":\"\",\"kind\":null,\"name\":\"debug_name\"},{\"default\":0,\"kind\":null,\"name\":\"clears\"}]},{\"extends\":null,\"module\":null,\"name\":\"NotificationAreaBase1\",\"overrides\":[],\"properties\":[{\"default\":\"bottom-right\",\"kind\":null,\"name\":\"position\"},{\"default\":0,\"kind\":null,\"name\":\"_clear\"}]},{\"extends\":null,\"module\":null,\"name\":\"NotificationArea1\",\"overrides\":[],\"properties\":[{\"default\":[],\"kind\":null,\"name\":\"notifications\"},{\"default\":\"bottom-right\",\"kind\":null,\"name\":\"position\"},{\"default\":0,\"kind\":null,\"name\":\"_clear\"},{\"default\":[{\"background\":\"#ffc107\",\"icon\":{\"className\":\"fas fa-exclamation-triangle\",\"color\":\"white\",\"tagName\":\"i\"},\"type\":\"warning\"},{\"background\":\"#007bff\",\"icon\":{\"className\":\"fas fa-info-circle\",\"color\":\"white\",\"tagName\":\"i\"},\"type\":\"info\"}],\"kind\":null,\"name\":\"types\"}]},{\"extends\":null,\"module\":null,\"name\":\"Notification\",\"overrides\":[],\"properties\":[{\"default\":null,\"kind\":null,\"name\":\"background\"},{\"default\":3000,\"kind\":null,\"name\":\"duration\"},{\"default\":null,\"kind\":null,\"name\":\"icon\"},{\"default\":\"\",\"kind\":null,\"name\":\"message\"},{\"default\":null,\"kind\":null,\"name\":\"notification_type\"},{\"default\":false,\"kind\":null,\"name\":\"_destroyed\"}]},{\"extends\":null,\"module\":null,\"name\":\"TemplateActions1\",\"overrides\":[],\"properties\":[{\"default\":0,\"kind\":null,\"name\":\"open_modal\"},{\"default\":0,\"kind\":null,\"name\":\"close_modal\"}]},{\"extends\":null,\"module\":null,\"name\":\"MaterialTemplateActions1\",\"overrides\":[],\"properties\":[{\"default\":0,\"kind\":null,\"name\":\"open_modal\"},{\"default\":0,\"kind\":null,\"name\":\"close_modal\"}]}],\"roots\":{\"references\":[{\"attributes\":{\"below\":[{\"id\":\"5900\"}],\"center\":[{\"id\":\"5903\"},{\"id\":\"5907\"}],\"height\":300,\"left\":[{\"id\":\"5904\"}],\"margin\":[5,5,5,5],\"min_border_bottom\":10,\"min_border_left\":10,\"min_border_right\":10,\"min_border_top\":10,\"renderers\":[{\"id\":\"5934\"},{\"id\":\"5943\"}],\"sizing_mode\":\"fixed\",\"title\":{\"id\":\"5892\"},\"toolbar\":{\"id\":\"5914\"},\"width\":700,\"x_range\":{\"id\":\"5887\"},\"x_scale\":{\"id\":\"5896\"},\"y_range\":{\"id\":\"5888\"},\"y_scale\":{\"id\":\"5898\"}},\"id\":\"5891\",\"subtype\":\"Figure\",\"type\":\"Plot\"},{\"attributes\":{\"num_minor_ticks\":5,\"tickers\":[{\"id\":\"5958\"},{\"id\":\"5959\"},{\"id\":\"5960\"},{\"id\":\"5961\"},{\"id\":\"5962\"},{\"id\":\"5963\"},{\"id\":\"5964\"},{\"id\":\"5965\"},{\"id\":\"5966\"},{\"id\":\"5967\"},{\"id\":\"5968\"},{\"id\":\"5969\"}]},\"id\":\"5901\",\"type\":\"DatetimeTicker\"},{\"attributes\":{\"axis_label\":\"timestamp\",\"coordinates\":null,\"formatter\":{\"id\":\"5923\"},\"group\":null,\"major_label_policy\":{\"id\":\"5924\"},\"ticker\":{\"id\":\"5901\"}},\"id\":\"5900\",\"type\":\"DatetimeAxis\"},{\"attributes\":{\"data\":{\"actual_returns\":{\"__ndarray__\":\"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\",\"dtype\":\"float64\",\"order\":\"little\",\"shape\":[1080]},\"timestamp\":{\"__ndarray__\":\"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\",\"dtype\":\"float64\",\"order\":\"little\",\"shape\":[1080]}},\"selected\":{\"id\":\"5929\"},\"selection_policy\":{\"id\":\"5953\"}},\"id\":\"5928\",\"type\":\"ColumnDataSource\"},{\"attributes\":{},\"id\":\"5898\",\"type\":\"LinearScale\"},{\"attributes\":{},\"id\":\"5909\",\"type\":\"PanTool\"},{\"attributes\":{},\"id\":\"5955\",\"type\":\"UnionRenderers\"},{\"attributes\":{\"axis\":{\"id\":\"5900\"},\"coordinates\":null,\"grid_line_color\":null,\"group\":null,\"ticker\":null},\"id\":\"5903\",\"type\":\"Grid\"},{\"attributes\":{},\"id\":\"5924\",\"type\":\"AllLabels\"},{\"attributes\":{\"line_color\":\"lightgreen\",\"line_width\":2,\"x\":{\"field\":\"timestamp\"},\"y\":{\"field\":\"strategy_returns\"}},\"id\":\"5945\",\"type\":\"Line\"},{\"attributes\":{\"axis\":{\"id\":\"5904\"},\"coordinates\":null,\"dimension\":1,\"grid_line_color\":null,\"group\":null,\"ticker\":null},\"id\":\"5907\",\"type\":\"Grid\"},{\"attributes\":{},\"id\":\"5905\",\"type\":\"BasicTicker\"},{\"attributes\":{\"callback\":null,\"formatters\":{\"@{timestamp}\":\"datetime\"},\"renderers\":[{\"id\":\"5934\"}],\"tags\":[\"hv_created\"],\"tooltips\":[[\"timestamp\",\"@{timestamp}{%F %T}\"],[\"actual_returns\",\"@{actual_returns}\"]]},\"id\":\"5889\",\"type\":\"HoverTool\"},{\"attributes\":{},\"id\":\"5910\",\"type\":\"WheelZoomTool\"},{\"attributes\":{},\"id\":\"5926\",\"type\":\"BasicTickFormatter\"},{\"attributes\":{},\"id\":\"5908\",\"type\":\"SaveTool\"},{\"attributes\":{\"months\":[0,4,8]},\"id\":\"5967\",\"type\":\"MonthsTicker\"},{\"attributes\":{\"source\":{\"id\":\"5937\"}},\"id\":\"5944\",\"type\":\"CDSView\"},{\"attributes\":{\"overlay\":{\"id\":\"5913\"}},\"id\":\"5911\",\"type\":\"BoxZoomTool\"},{\"attributes\":{},\"id\":\"5896\",\"type\":\"LinearScale\"},{\"attributes\":{},\"id\":\"5912\",\"type\":\"ResetTool\"},{\"attributes\":{\"months\":[0,2,4,6,8,10]},\"id\":\"5966\",\"type\":\"MonthsTicker\"},{\"attributes\":{\"months\":[0,6]},\"id\":\"5968\",\"type\":\"MonthsTicker\"},{\"attributes\":{\"days\":[1,8,15,22]},\"id\":\"5963\",\"type\":\"DaysTicker\"},{\"attributes\":{},\"id\":\"5953\",\"type\":\"UnionRenderers\"},{\"attributes\":{\"bottom_units\":\"screen\",\"coordinates\":null,\"fill_alpha\":0.5,\"fill_color\":\"lightgrey\",\"group\":null,\"left_units\":\"screen\",\"level\":\"overlay\",\"line_alpha\":1.0,\"line_color\":\"black\",\"line_dash\":[4,4],\"line_width\":2,\"right_units\":\"screen\",\"syncable\":false,\"top_units\":\"screen\"},\"id\":\"5913\",\"type\":\"BoxAnnotation\"},{\"attributes\":{\"days\":[1,4,7,10,13,16,19,22,25,28]},\"id\":\"5962\",\"type\":\"DaysTicker\"},{\"attributes\":{\"margin\":[5,5,5,5],\"name\":\"HSpacer06506\",\"sizing_mode\":\"stretch_width\"},\"id\":\"5886\",\"type\":\"Spacer\"},{\"attributes\":{},\"id\":\"5927\",\"type\":\"AllLabels\"},{\"attributes\":{\"days\":[1,2,3,4,5,6,7,8,9,10,11,12,13,14,15,16,17,18,19,20,21,22,23,24,25,26,27,28,29,30,31]},\"id\":\"5961\",\"type\":\"DaysTicker\"},{\"attributes\":{\"days\":[1,15]},\"id\":\"5964\",\"type\":\"DaysTicker\"},{\"attributes\":{\"callback\":null,\"formatters\":{\"@{timestamp}\":\"datetime\"},\"renderers\":[{\"id\":\"5943\"}],\"tags\":[\"hv_created\"],\"tooltips\":[[\"timestamp\",\"@{timestamp}{%F %T}\"],[\"strategy_returns\",\"@{strategy_returns}\"]]},\"id\":\"5890\",\"type\":\"HoverTool\"},{\"attributes\":{\"children\":[{\"id\":\"5886\"},{\"id\":\"5891\"},{\"id\":\"5970\"}],\"margin\":[0,0,0,0],\"name\":\"Row06502\",\"tags\":[\"embedded\"]},\"id\":\"5885\",\"type\":\"Row\"},{\"attributes\":{\"months\":[0,1,2,3,4,5,6,7,8,9,10,11]},\"id\":\"5965\",\"type\":\"MonthsTicker\"},{\"attributes\":{},\"id\":\"5969\",\"type\":\"YearsTicker\"},{\"attributes\":{\"base\":24,\"mantissas\":[1,2,4,6,8,12],\"max_interval\":43200000.0,\"min_interval\":3600000.0,\"num_minor_ticks\":0},\"id\":\"5960\",\"type\":\"AdaptiveTicker\"},{\"attributes\":{\"base\":60,\"mantissas\":[1,2,5,10,15,20,30],\"max_interval\":1800000.0,\"min_interval\":1000.0,\"num_minor_ticks\":0},\"id\":\"5959\",\"type\":\"AdaptiveTicker\"},{\"attributes\":{\"coordinates\":null,\"data_source\":{\"id\":\"5937\"},\"glyph\":{\"id\":\"5940\"},\"group\":null,\"hover_glyph\":null,\"muted_glyph\":{\"id\":\"5942\"},\"nonselection_glyph\":{\"id\":\"5941\"},\"selection_glyph\":{\"id\":\"5945\"},\"view\":{\"id\":\"5944\"}},\"id\":\"5943\",\"type\":\"GlyphRenderer\"},{\"attributes\":{\"mantissas\":[1,2,5],\"max_interval\":500.0,\"num_minor_ticks\":0},\"id\":\"5958\",\"type\":\"AdaptiveTicker\"},{\"attributes\":{\"end\":1676008800000.0,\"reset_end\":1676008800000.0,\"reset_start\":1582783200000.0,\"start\":1582783200000.0,\"tags\":[[[\"timestamp\",\"timestamp\",null]]]},\"id\":\"5887\",\"type\":\"Range1d\"},{\"attributes\":{\"line_color\":\"lightblue\",\"line_width\":2,\"x\":{\"field\":\"timestamp\"},\"y\":{\"field\":\"actual_returns\"}},\"id\":\"5936\",\"type\":\"Line\"},{\"attributes\":{\"source\":{\"id\":\"5928\"}},\"id\":\"5935\",\"type\":\"CDSView\"},{\"attributes\":{},\"id\":\"5923\",\"type\":\"DatetimeTickFormatter\"},{\"attributes\":{\"coordinates\":null,\"data_source\":{\"id\":\"5928\"},\"glyph\":{\"id\":\"5931\"},\"group\":null,\"hover_glyph\":null,\"muted_glyph\":{\"id\":\"5933\"},\"nonselection_glyph\":{\"id\":\"5932\"},\"selection_glyph\":{\"id\":\"5936\"},\"view\":{\"id\":\"5935\"}},\"id\":\"5934\",\"type\":\"GlyphRenderer\"},{\"attributes\":{\"data\":{\"strategy_returns\":{\"__ndarray__\":\"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\",\"dtype\":\"float64\",\"order\":\"little\",\"shape\":[1080]},\"timestamp\":{\"__ndarray__\":\"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\",\"dtype\":\"float64\",\"order\":\"little\",\"shape\":[1080]}},\"selected\":{\"id\":\"5938\"},\"selection_policy\":{\"id\":\"5955\"}},\"id\":\"5937\",\"type\":\"ColumnDataSource\"},{\"attributes\":{\"end\":8.477482035021751,\"reset_end\":8.477482035021751,\"reset_start\":-0.1685629383124645,\"start\":-0.1685629383124645,\"tags\":[[[\"actual_returns\",\"actual_returns\",null]]]},\"id\":\"5888\",\"type\":\"Range1d\"},{\"attributes\":{\"line_alpha\":0.2,\"line_color\":\"lightblue\",\"line_width\":2,\"x\":{\"field\":\"timestamp\"},\"y\":{\"field\":\"actual_returns\"}},\"id\":\"5933\",\"type\":\"Line\"},{\"attributes\":{},\"id\":\"5938\",\"type\":\"Selection\"},{\"attributes\":{\"line_color\":\"lightblue\",\"line_width\":2,\"x\":{\"field\":\"timestamp\"},\"y\":{\"field\":\"actual_returns\"}},\"id\":\"5931\",\"type\":\"Line\"},{\"attributes\":{\"line_color\":\"lightgreen\",\"line_width\":2,\"x\":{\"field\":\"timestamp\"},\"y\":{\"field\":\"strategy_returns\"}},\"id\":\"5940\",\"type\":\"Line\"},{\"attributes\":{\"axis_label\":\"actual_returns\",\"coordinates\":null,\"formatter\":{\"id\":\"5926\"},\"group\":null,\"major_label_policy\":{\"id\":\"5927\"},\"ticker\":{\"id\":\"5905\"}},\"id\":\"5904\",\"type\":\"LinearAxis\"},{\"attributes\":{\"line_alpha\":0.1,\"line_color\":\"lightblue\",\"line_width\":2,\"x\":{\"field\":\"timestamp\"},\"y\":{\"field\":\"actual_returns\"}},\"id\":\"5932\",\"type\":\"Line\"},{\"attributes\":{\"line_alpha\":0.2,\"line_color\":\"lightgreen\",\"line_width\":2,\"x\":{\"field\":\"timestamp\"},\"y\":{\"field\":\"strategy_returns\"}},\"id\":\"5942\",\"type\":\"Line\"},{\"attributes\":{\"line_alpha\":0.1,\"line_color\":\"lightgreen\",\"line_width\":2,\"x\":{\"field\":\"timestamp\"},\"y\":{\"field\":\"strategy_returns\"}},\"id\":\"5941\",\"type\":\"Line\"},{\"attributes\":{},\"id\":\"5929\",\"type\":\"Selection\"},{\"attributes\":{\"coordinates\":null,\"group\":null,\"text_color\":\"black\",\"text_font_size\":\"12pt\"},\"id\":\"5892\",\"type\":\"Title\"},{\"attributes\":{\"tools\":[{\"id\":\"5889\"},{\"id\":\"5890\"},{\"id\":\"5908\"},{\"id\":\"5909\"},{\"id\":\"5910\"},{\"id\":\"5911\"},{\"id\":\"5912\"}]},\"id\":\"5914\",\"type\":\"Toolbar\"},{\"attributes\":{\"margin\":[5,5,5,5],\"name\":\"HSpacer06507\",\"sizing_mode\":\"stretch_width\"},\"id\":\"5970\",\"type\":\"Spacer\"}],\"root_ids\":[\"5885\"]},\"title\":\"Bokeh Application\",\"version\":\"2.4.3\"}};\n",
       "    var render_items = [{\"docid\":\"c4ebe04d-ae0b-4171-8ac9-59f5fb343248\",\"root_ids\":[\"5885\"],\"roots\":{\"5885\":\"0287ba4a-7e1b-49d9-b3ec-16ba9c7ceed1\"}}];\n",
       "    root.Bokeh.embed.embed_items_notebook(docs_json, render_items);\n",
       "  }\n",
       "  if (root.Bokeh !== undefined && root.Bokeh.Panel !== undefined) {\n",
       "    embed_document(root);\n",
       "  } else {\n",
       "    var attempts = 0;\n",
       "    var timer = setInterval(function(root) {\n",
       "      if (root.Bokeh !== undefined && root.Bokeh.Panel !== undefined) {\n",
       "        clearInterval(timer);\n",
       "        embed_document(root);\n",
       "      } else if (document.readyState == \"complete\") {\n",
       "        attempts++;\n",
       "        if (attempts > 200) {\n",
       "          clearInterval(timer);\n",
       "          console.log(\"Bokeh: ERROR: Unable to run BokehJS code because BokehJS library is missing\");\n",
       "        }\n",
       "      }\n",
       "    }, 25, root)\n",
       "  }\n",
       "})(window);</script>"
      ],
      "text/plain": [
       ":Overlay\n",
       "   .Curve.I  :Curve   [timestamp]   (actual_returns)\n",
       "   .Curve.II :Curve   [timestamp]   (strategy_returns)"
      ]
     },
     "execution_count": 553,
     "metadata": {
      "application/vnd.holoviews_exec.v0+json": {
       "id": "5885"
      }
     },
     "output_type": "execute_result"
    }
   ],
   "source": [
    "actual_returns_plot * strategy_returns_plot"
   ]
  },
  {
   "cell_type": "code",
   "execution_count": 554,
   "metadata": {},
   "outputs": [
    {
     "data": {
      "text/plain": [
       "strategy_returns    0.456349\n",
       "dtype: float64"
      ]
     },
     "execution_count": 554,
     "metadata": {},
     "output_type": "execute_result"
    }
   ],
   "source": [
    "strategy_returns_annual_volitility = ichimoku_signal_df[['strategy_returns']].std()*np.sqrt(365)\n",
    "strategy_returns_annual_volitility\n",
    "\n"
   ]
  },
  {
   "cell_type": "code",
   "execution_count": 555,
   "metadata": {},
   "outputs": [
    {
     "data": {
      "text/plain": [
       "0.6054668016354536"
      ]
     },
     "metadata": {},
     "output_type": "display_data"
    },
    {
     "data": {
      "text/plain": [
       "0.45634878283325636"
      ]
     },
     "metadata": {},
     "output_type": "display_data"
    },
    {
     "data": {
      "text/plain": [
       "1.327"
      ]
     },
     "metadata": {},
     "output_type": "display_data"
    }
   ],
   "source": [
    "annualized_return = ichimoku_signal_df[\"strategy_returns\"].mean() * 365\n",
    "annualized_std = ichimoku_signal_df[\"strategy_returns\"].std() * np.sqrt(365)\n",
    "sharpe_ratio = round(annualized_return/annualized_std, 3)\n",
    "\n",
    "\n",
    "display(annualized_return)\n",
    "display(annualized_std)\n",
    "display(sharpe_ratio)"
   ]
  },
  {
   "cell_type": "code",
   "execution_count": 556,
   "metadata": {},
   "outputs": [],
   "source": [
    "# ichimoku_df.hvplot()"
   ]
  },
  {
   "cell_type": "code",
   "execution_count": 557,
   "metadata": {},
   "outputs": [
    {
     "name": "stdout",
     "output_type": "stream",
     "text": [
      "            bitcoin  isPartial\n",
      "date                          \n",
      "2022-02-13       44      False\n",
      "2022-02-20       58      False\n",
      "2022-02-27       55      False\n",
      "2022-03-06       48      False\n",
      "2022-03-13       42      False\n",
      "2022-03-20       40      False\n",
      "2022-03-27       43      False\n",
      "2022-04-03       38      False\n",
      "2022-04-10       35      False\n",
      "2022-04-17       33      False\n",
      "2022-04-24       34      False\n",
      "2022-05-01       35      False\n",
      "2022-05-08       80      False\n",
      "2022-05-15       55      False\n",
      "2022-05-22       43      False\n",
      "2022-05-29       38      False\n",
      "2022-06-05       35      False\n",
      "2022-06-12      100      False\n",
      "2022-06-19       73      False\n",
      "2022-06-26       53      False\n",
      "2022-07-03       47      False\n",
      "2022-07-10       43      False\n",
      "2022-07-17       47      False\n",
      "2022-07-24       39      False\n",
      "2022-07-31       35      False\n",
      "2022-08-07       34      False\n",
      "2022-08-14       32      False\n",
      "2022-08-21       31      False\n",
      "2022-08-28       32      False\n",
      "2022-09-04       32      False\n",
      "2022-09-11       32      False\n",
      "2022-09-18       33      False\n",
      "2022-09-25       30      False\n",
      "2022-10-02       26      False\n",
      "2022-10-09       26      False\n",
      "2022-10-16       24      False\n",
      "2022-10-23       25      False\n",
      "2022-10-30       26      False\n",
      "2022-11-06       48      False\n",
      "2022-11-13       45      False\n",
      "2022-11-20       32      False\n",
      "2022-11-27       30      False\n",
      "2022-12-04       27      False\n",
      "2022-12-11       28      False\n",
      "2022-12-18       26      False\n",
      "2022-12-25       26      False\n",
      "2023-01-01       26      False\n",
      "2023-01-08       29      False\n",
      "2023-01-15       34      False\n",
      "2023-01-22       31      False\n",
      "2023-01-29       31      False\n",
      "2023-02-05       28       True\n"
     ]
    }
   ],
   "source": [
    "from pytrends.request import TrendReq\n",
    "\n",
    "pytrends = TrendReq(hl='en-US', tz=360)\n",
    "\n",
    "def get_trends(keywords):\n",
    "    pytrends.build_payload(kw_list=keywords, timeframe='today 12-m')  \n",
    "    interest_over_time_data = pytrends.interest_over_time()\n",
    "    return interest_over_time_data\n",
    "\n",
    "keywords = ['bitcoin']\n",
    "trends_data = get_trends(keywords)\n",
    "print(trends_data)\n"
   ]
  },
  {
   "cell_type": "code",
   "execution_count": 558,
   "metadata": {},
   "outputs": [],
   "source": [
    "trends_data_plot =  trends_data['bitcoin'].hvplot(\n",
    "    color='red',\n",
    "    \n",
    ")"
   ]
  },
  {
   "cell_type": "markdown",
   "metadata": {},
   "source": []
  }
 ],
 "metadata": {
  "kernelspec": {
   "display_name": "Python 3 (ipykernel)",
   "language": "python",
   "name": "python3"
  },
  "language_info": {
   "codemirror_mode": {
    "name": "ipython",
    "version": 3
   },
   "file_extension": ".py",
   "mimetype": "text/x-python",
   "name": "python",
   "nbconvert_exporter": "python",
   "pygments_lexer": "ipython3",
   "version": "3.9.12"
  },
  "vscode": {
   "interpreter": {
    "hash": "996ffda76004d767ccbaaba7e2437ee3b45ec97388b0612ddf8c69ff1d3b8680"
   }
  }
 },
 "nbformat": 4,
 "nbformat_minor": 2
}

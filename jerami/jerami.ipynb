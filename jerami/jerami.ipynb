{
 "cells": [
  {
   "cell_type": "code",
   "execution_count": 399,
   "metadata": {},
   "outputs": [],
   "source": [
    "import pandas as pd\n",
    "from pathlib import Path\n",
    "import numpy as np\n",
    "import alpaca_trade_api as tradeapi\n",
    "from alpaca.data.historical import CryptoHistoricalDataClient\n",
    "from alpaca.data.requests import CryptoBarsRequest\n",
    "from alpaca.data.timeframe import TimeFrame\n",
    "\n",
    "from finta import TA\n",
    "from finta.utils import resample_calendar\n",
    "import json\n",
    "import hvplot.pandas\n",
    "import matplotlib.pyplot as plt\n",
    "from sklearn.preprocessing import StandardScaler\n",
    "from sklearn import svm\n",
    "from sklearn.ensemble import AdaBoostClassifier\n",
    "from pandas.tseries.offsets import DateOffset\n",
    "from sklearn.metrics import classification_report\n",
    "\n",
    "# Alpaca for data\n",
    "import alpaca_trade_api as api\n",
    "from alpaca_trade_api.rest import TimeFrame\n",
    "\n",
    "# pandas for analysis\n",
    "import pandas as pd\n",
    "\n",
    "# Plotly for charting\n",
    "import plotly.graph_objects as go\n",
    "import plotly.express as px\n",
    "\n",
    "# Set default charting for pandas to plotly\n",
    "pd.options.plotting.backend = \"plotly\"\n",
    "\n",
    "import datetime as dt\n",
    "import pytz\n",
    "\n",
    "import os\n",
    "import requests\n",
    "\n"
   ]
  },
  {
   "cell_type": "code",
   "execution_count": 400,
   "metadata": {},
   "outputs": [],
   "source": [
    "# Initial imports\n",
    "import os\n",
    "import requests\n",
    "import pandas as pd\n",
    "from dotenv import load_dotenv\n",
    "import alpaca_trade_api as tradeapi\n",
    "import warnings\n",
    "warnings.filterwarnings(\"ignore\")\n",
    "\n",
    "%matplotlib inline"
   ]
  },
  {
   "cell_type": "code",
   "execution_count": 401,
   "metadata": {},
   "outputs": [
    {
     "data": {
      "text/plain": [
       "True"
      ]
     },
     "execution_count": 401,
     "metadata": {},
     "output_type": "execute_result"
    }
   ],
   "source": [
    "load_dotenv()"
   ]
  },
  {
   "cell_type": "code",
   "execution_count": 402,
   "metadata": {},
   "outputs": [],
   "source": [
    "# Our API keys for Alpaca\n",
    "API_KEY = os.getenv('ALPACA_API_KEY')\n",
    "\n",
    "API_SECRET_KEY = os.getenv('ALPACA_SECRET_KEY')"
   ]
  },
  {
   "cell_type": "code",
   "execution_count": 403,
   "metadata": {},
   "outputs": [],
   "source": [
    "def alpaca_data_import(coin):\n",
    "\n",
    "    # Load .env environment variables\n",
    "\n",
    "    # Our API keys for Alpaca\n",
    "    API_KEY = os.getenv('ALPACA_API_KEY')\n",
    "\n",
    "    API_SECRET_KEY = os.getenv('ALPACA_SECRET_KEY')\n",
    "\n",
    "    #today = dt.date.today()\n",
    "    # symbols we will be looking at\n",
    "    #btc = \"BTCUSD\"\n",
    "    #spy = \"SPY\"\n",
    "\n",
    "    # start dates and end dates for backtest\n",
    "    #start_date = \"2020-01-01\"\n",
    "    #end_date = today \n",
    "    #end_date = '2023-02-06'\n",
    "\n",
    "    end_date = (dt.datetime.now(pytz.timezone('US/Eastern'))-dt.timedelta(hours=1)).isoformat()\n",
    "\n",
    "    start_date = (dt.datetime.now(pytz.timezone('US/Eastern'))-dt.timedelta(days=1080)).isoformat()\n",
    "\n",
    "    # time frame for backtests\n",
    "    timeframe = TimeFrame.Day\n",
    "\n",
    "    # Setup instance of alpaca api\n",
    "    alpaca = api.REST(API_KEY, API_SECRET_KEY)\n",
    "\n",
    "    # # # Request historical bar data for SPY and BTC using Alpaca Data API\n",
    "    # for equities, use .get_bars\n",
    "    #spy_data = alpaca.get_bars(spy, timeframe, start_date, end_date).df\n",
    "\n",
    "    # for crypto, use .get_crypto_bars, from multiple exchanges\n",
    "    #btc_data = alpaca.get_crypto_bars(btc, timeframe, start_date, end_date).df\n",
    "    df = alpaca.get_crypto_bars(coin, timeframe, start_date, end_date).df\n",
    "\n",
    "    df = df[df['exchange'] == 'CBSE']\n",
    "\n",
    "    # display crypto bar data\n",
    "    display(df)\n",
    "    #display(spy_data)\n",
    "\n",
    "    return df"
   ]
  },
  {
   "cell_type": "code",
   "execution_count": 404,
   "metadata": {},
   "outputs": [
    {
     "data": {
      "text/html": [
       "<div>\n",
       "<style scoped>\n",
       "    .dataframe tbody tr th:only-of-type {\n",
       "        vertical-align: middle;\n",
       "    }\n",
       "\n",
       "    .dataframe tbody tr th {\n",
       "        vertical-align: top;\n",
       "    }\n",
       "\n",
       "    .dataframe thead th {\n",
       "        text-align: right;\n",
       "    }\n",
       "</style>\n",
       "<table border=\"1\" class=\"dataframe\">\n",
       "  <thead>\n",
       "    <tr style=\"text-align: right;\">\n",
       "      <th></th>\n",
       "      <th>exchange</th>\n",
       "      <th>open</th>\n",
       "      <th>high</th>\n",
       "      <th>low</th>\n",
       "      <th>close</th>\n",
       "      <th>volume</th>\n",
       "      <th>trade_count</th>\n",
       "      <th>vwap</th>\n",
       "    </tr>\n",
       "    <tr>\n",
       "      <th>timestamp</th>\n",
       "      <th></th>\n",
       "      <th></th>\n",
       "      <th></th>\n",
       "      <th></th>\n",
       "      <th></th>\n",
       "      <th></th>\n",
       "      <th></th>\n",
       "      <th></th>\n",
       "    </tr>\n",
       "  </thead>\n",
       "  <tbody>\n",
       "    <tr>\n",
       "      <th>2020-02-26 06:00:00+00:00</th>\n",
       "      <td>CBSE</td>\n",
       "      <td>223.78</td>\n",
       "      <td>223.85</td>\n",
       "      <td>209.26</td>\n",
       "      <td>221.30</td>\n",
       "      <td>134709.482245</td>\n",
       "      <td>21078</td>\n",
       "      <td>216.340006</td>\n",
       "    </tr>\n",
       "    <tr>\n",
       "      <th>2020-02-27 06:00:00+00:00</th>\n",
       "      <td>CBSE</td>\n",
       "      <td>221.24</td>\n",
       "      <td>239.00</td>\n",
       "      <td>220.44</td>\n",
       "      <td>227.63</td>\n",
       "      <td>206467.398755</td>\n",
       "      <td>40734</td>\n",
       "      <td>230.396797</td>\n",
       "    </tr>\n",
       "    <tr>\n",
       "      <th>2020-02-28 06:00:00+00:00</th>\n",
       "      <td>CBSE</td>\n",
       "      <td>227.32</td>\n",
       "      <td>231.70</td>\n",
       "      <td>213.63</td>\n",
       "      <td>227.37</td>\n",
       "      <td>194844.543125</td>\n",
       "      <td>37121</td>\n",
       "      <td>222.664852</td>\n",
       "    </tr>\n",
       "    <tr>\n",
       "      <th>2020-02-29 06:00:00+00:00</th>\n",
       "      <td>CBSE</td>\n",
       "      <td>217.36</td>\n",
       "      <td>225.78</td>\n",
       "      <td>215.99</td>\n",
       "      <td>222.55</td>\n",
       "      <td>43624.244923</td>\n",
       "      <td>9155</td>\n",
       "      <td>221.489948</td>\n",
       "    </tr>\n",
       "    <tr>\n",
       "      <th>2020-03-01 06:00:00+00:00</th>\n",
       "      <td>CBSE</td>\n",
       "      <td>217.34</td>\n",
       "      <td>222.00</td>\n",
       "      <td>215.75</td>\n",
       "      <td>221.23</td>\n",
       "      <td>53762.055802</td>\n",
       "      <td>9977</td>\n",
       "      <td>219.222261</td>\n",
       "    </tr>\n",
       "    <tr>\n",
       "      <th>...</th>\n",
       "      <td>...</td>\n",
       "      <td>...</td>\n",
       "      <td>...</td>\n",
       "      <td>...</td>\n",
       "      <td>...</td>\n",
       "      <td>...</td>\n",
       "      <td>...</td>\n",
       "      <td>...</td>\n",
       "    </tr>\n",
       "    <tr>\n",
       "      <th>2023-02-05 06:00:00+00:00</th>\n",
       "      <td>CBSE</td>\n",
       "      <td>1667.37</td>\n",
       "      <td>1673.81</td>\n",
       "      <td>1608.88</td>\n",
       "      <td>1621.98</td>\n",
       "      <td>104806.275250</td>\n",
       "      <td>217676</td>\n",
       "      <td>1634.370727</td>\n",
       "    </tr>\n",
       "    <tr>\n",
       "      <th>2023-02-06 06:00:00+00:00</th>\n",
       "      <td>CBSE</td>\n",
       "      <td>1622.05</td>\n",
       "      <td>1658.41</td>\n",
       "      <td>1605.00</td>\n",
       "      <td>1634.84</td>\n",
       "      <td>125163.004585</td>\n",
       "      <td>227345</td>\n",
       "      <td>1633.363333</td>\n",
       "    </tr>\n",
       "    <tr>\n",
       "      <th>2023-02-07 06:00:00+00:00</th>\n",
       "      <td>CBSE</td>\n",
       "      <td>1634.92</td>\n",
       "      <td>1699.66</td>\n",
       "      <td>1624.53</td>\n",
       "      <td>1676.09</td>\n",
       "      <td>184986.858212</td>\n",
       "      <td>283839</td>\n",
       "      <td>1658.896055</td>\n",
       "    </tr>\n",
       "    <tr>\n",
       "      <th>2023-02-08 06:00:00+00:00</th>\n",
       "      <td>CBSE</td>\n",
       "      <td>1676.08</td>\n",
       "      <td>1682.11</td>\n",
       "      <td>1609.19</td>\n",
       "      <td>1628.04</td>\n",
       "      <td>169911.199803</td>\n",
       "      <td>271645</td>\n",
       "      <td>1648.385267</td>\n",
       "    </tr>\n",
       "    <tr>\n",
       "      <th>2023-02-09 06:00:00+00:00</th>\n",
       "      <td>CBSE</td>\n",
       "      <td>1628.00</td>\n",
       "      <td>1649.78</td>\n",
       "      <td>1524.31</td>\n",
       "      <td>1545.38</td>\n",
       "      <td>173940.254052</td>\n",
       "      <td>288808</td>\n",
       "      <td>1586.481984</td>\n",
       "    </tr>\n",
       "  </tbody>\n",
       "</table>\n",
       "<p>1080 rows × 8 columns</p>\n",
       "</div>"
      ],
      "text/plain": [
       "                          exchange     open     high      low    close  \\\n",
       "timestamp                                                                \n",
       "2020-02-26 06:00:00+00:00     CBSE   223.78   223.85   209.26   221.30   \n",
       "2020-02-27 06:00:00+00:00     CBSE   221.24   239.00   220.44   227.63   \n",
       "2020-02-28 06:00:00+00:00     CBSE   227.32   231.70   213.63   227.37   \n",
       "2020-02-29 06:00:00+00:00     CBSE   217.36   225.78   215.99   222.55   \n",
       "2020-03-01 06:00:00+00:00     CBSE   217.34   222.00   215.75   221.23   \n",
       "...                            ...      ...      ...      ...      ...   \n",
       "2023-02-05 06:00:00+00:00     CBSE  1667.37  1673.81  1608.88  1621.98   \n",
       "2023-02-06 06:00:00+00:00     CBSE  1622.05  1658.41  1605.00  1634.84   \n",
       "2023-02-07 06:00:00+00:00     CBSE  1634.92  1699.66  1624.53  1676.09   \n",
       "2023-02-08 06:00:00+00:00     CBSE  1676.08  1682.11  1609.19  1628.04   \n",
       "2023-02-09 06:00:00+00:00     CBSE  1628.00  1649.78  1524.31  1545.38   \n",
       "\n",
       "                                  volume  trade_count         vwap  \n",
       "timestamp                                                           \n",
       "2020-02-26 06:00:00+00:00  134709.482245        21078   216.340006  \n",
       "2020-02-27 06:00:00+00:00  206467.398755        40734   230.396797  \n",
       "2020-02-28 06:00:00+00:00  194844.543125        37121   222.664852  \n",
       "2020-02-29 06:00:00+00:00   43624.244923         9155   221.489948  \n",
       "2020-03-01 06:00:00+00:00   53762.055802         9977   219.222261  \n",
       "...                                  ...          ...          ...  \n",
       "2023-02-05 06:00:00+00:00  104806.275250       217676  1634.370727  \n",
       "2023-02-06 06:00:00+00:00  125163.004585       227345  1633.363333  \n",
       "2023-02-07 06:00:00+00:00  184986.858212       283839  1658.896055  \n",
       "2023-02-08 06:00:00+00:00  169911.199803       271645  1648.385267  \n",
       "2023-02-09 06:00:00+00:00  173940.254052       288808  1586.481984  \n",
       "\n",
       "[1080 rows x 8 columns]"
      ]
     },
     "metadata": {},
     "output_type": "display_data"
    }
   ],
   "source": [
    "btc_data = alpaca_data_import('ETHUSD')"
   ]
  },
  {
   "cell_type": "code",
   "execution_count": null,
   "metadata": {},
   "outputs": [],
   "source": []
  },
  {
   "cell_type": "code",
   "execution_count": 405,
   "metadata": {},
   "outputs": [],
   "source": [
    "\n",
    "# #today = dt.date.today()\n",
    "# # symbols we will be looking at\n",
    "# btc = \"BTCUSD\"\n",
    "# #spy = \"SPY\"\n",
    "\n",
    "# # start dates and end dates for backtest\n",
    "# #start_date = \"2020-01-01\"\n",
    "# #end_date = today \n",
    "# #end_date = '2023-02-06'\n",
    "\n",
    "# end_date = (dt.datetime.now(pytz.timezone('US/Eastern'))-dt.timedelta(hours=1)).isoformat()\n",
    "\n",
    "# start_date = (dt.datetime.now(pytz.timezone('US/Eastern'))-dt.timedelta(days=1080)).isoformat()\n",
    "\n",
    "# # time frame for backtests\n",
    "# timeframe = TimeFrame.Day"
   ]
  },
  {
   "cell_type": "code",
   "execution_count": 406,
   "metadata": {},
   "outputs": [],
   "source": [
    "# # Our API keys for Alpaca\n",
    "# API_KEY = os.getenv('ALPACA_API_KEY')\n",
    "\n",
    "# API_SECRET_KEY = os.getenv('ALPACA_SECRET_KEY')\n",
    "\n",
    "# # Setup instance of alpaca api\n",
    "# alpaca = api.REST(ALPACA_API_KEY, ALPACA_SECRET_KEY)\n",
    "\n",
    "# # # # Request historical bar data for SPY and BTC using Alpaca Data API\n",
    "# # for equities, use .get_bars\n",
    "# #spy_data = alpaca.get_bars(spy, timeframe, start_date, end_date).df\n",
    "\n",
    "# # for crypto, use .get_crypto_bars, from multiple exchanges\n",
    "# btc_data = alpaca.get_crypto_bars(btc, timeframe, start_date, end_date).df\n",
    "\n",
    "# btc_data = btc_data[btc_data['exchange'] == 'CBSE']\n",
    "\n",
    "# # display crypto bar data\n",
    "# display(btc_data)\n",
    "# #display(spy_data)"
   ]
  },
  {
   "cell_type": "code",
   "execution_count": 407,
   "metadata": {},
   "outputs": [],
   "source": [
    "def process_data_ohlcv(df):\n",
    "\n",
    "    ohlcv_df = df.drop(columns=['exchange','trade_count','vwap'])\n",
    "    #ohlc_df = df.drop(columns=['volume'])\n",
    "    #ichimoku_df = TA.ICHIMOKU(ohlcv_df, tenkan_period= 20, kijun_period= 60, senkou_period= 120, chikou_period= 30)\n",
    "    ichimoku_df = TA.ICHIMOKU(ohlcv_df, tenkan_period= 13, kijun_period= 34, senkou_period= 55, chikou_period= 21)\n",
    "\n",
    "    ichimoku_df = pd.concat([ichimoku_df, ohlcv_df['close']], axis=1)\n",
    "\n",
    "    return ichimoku_df\n",
    "#ohlcv_df\n",
    "\n",
    "#ohlcv_df = resample_calendar(ohlcv_df, '4h')\n",
    "#ohlcv_df = ohlcv_df.dropna()\n"
   ]
  },
  {
   "cell_type": "code",
   "execution_count": 408,
   "metadata": {},
   "outputs": [],
   "source": [
    "ichimoku_df = process_data_ohlcv(btc_data)\n",
    "#ichimoku_df"
   ]
  },
  {
   "cell_type": "code",
   "execution_count": 409,
   "metadata": {},
   "outputs": [],
   "source": [
    "def get_signal(df):\n",
    "    \n",
    "    df['signal'] = 0\n",
    "    df[\"signal\"] = np.where((df[\"TENKAN\"] > df[\"KIJUN\"]) &\n",
    "                                (df[\"close\"] > df[\"senkou_span_a\"]), 1, 0)\n",
    "\n",
    "    df['entry/exit'] = df['signal'].diff()\n",
    "    \n",
    "    df['actual_returns'] = df['close'].pct_change()\n",
    "    df[\"strategy_returns\"] = df[\"actual_returns\"] * df[\"signal\"].shift() \n",
    "\n",
    "    actual_returns = df['actual_returns'].cumsum()\n",
    "    \n",
    "    \n",
    "    return df"
   ]
  },
  {
   "cell_type": "code",
   "execution_count": 410,
   "metadata": {},
   "outputs": [
    {
     "data": {
      "text/plain": [
       "timestamp\n",
       "2022-11-02 05:00:00+00:00    False\n",
       "2022-11-03 05:00:00+00:00    False\n",
       "2022-11-04 05:00:00+00:00    False\n",
       "2022-11-05 05:00:00+00:00    False\n",
       "2022-11-06 05:00:00+00:00    False\n",
       "                             ...  \n",
       "2023-02-05 06:00:00+00:00    False\n",
       "2023-02-06 06:00:00+00:00    False\n",
       "2023-02-07 06:00:00+00:00    False\n",
       "2023-02-08 06:00:00+00:00    False\n",
       "2023-02-09 06:00:00+00:00    False\n",
       "Name: entry/exit, Length: 100, dtype: bool"
      ]
     },
     "execution_count": 410,
     "metadata": {},
     "output_type": "execute_result"
    }
   ],
   "source": [
    "ichimoku_signal_df =  get_signal(ichimoku_df)\n",
    "#ichimoku_signal_df\n",
    "sell_signals_df = ichimoku_signal_df['entry/exit'] == -1.0\n",
    "sell_signals_df.tail(100)"
   ]
  },
  {
   "cell_type": "code",
   "execution_count": 411,
   "metadata": {},
   "outputs": [],
   "source": [
    "def create_order(symbol, qty, side, order_type, time_in_force, api_key_id, api_secret_key):\n",
    "    headers = {\n",
    "        \"Apca-Api-Key-Id\": api_key_id,\n",
    "        \"Apca-Api-Secret-Key\": api_secret_key,\n",
    "        \"Content-Type\": \"application/json\"\n",
    "    }\n",
    "\n",
    "    data = {\n",
    "        \"symbol\": symbol,\n",
    "        \"qty\": qty,\n",
    "        \"side\": side,\n",
    "        \"type\": order_type,\n",
    "        \"time_in_force\": time_in_force\n",
    "    }\n",
    "\n",
    "    url = \"https://paper-api.alpaca.markets/v2/orders\"\n",
    "    response = requests.post(url, headers=headers, json=data)\n",
    "\n",
    "    if response.status_code != 200:\n",
    "        raise ValueError(\"Failed to create order: \" + response.text)\n",
    "\n",
    "    return response.json()\n"
   ]
  },
  {
   "cell_type": "code",
   "execution_count": 412,
   "metadata": {},
   "outputs": [],
   "source": [
    "\n",
    "api_key_id = API_KEY\n",
    "api_secret_key = API_SECRET_KEY\n",
    "\n",
    "#result = create_order(\"BTC/USD\", \"1.0\", \"buy\", \"market\", \"gtc\", api_key_id, api_secret_key)\n",
    "#print(result)\n"
   ]
  },
  {
   "cell_type": "code",
   "execution_count": 413,
   "metadata": {},
   "outputs": [
    {
     "data": {
      "text/plain": [
       "0.0"
      ]
     },
     "execution_count": 413,
     "metadata": {},
     "output_type": "execute_result"
    }
   ],
   "source": [
    "ichimoku_signal_df['entry/exit'].iloc[-1] "
   ]
  },
  {
   "cell_type": "code",
   "execution_count": 414,
   "metadata": {},
   "outputs": [
    {
     "name": "stdout",
     "output_type": "stream",
     "text": [
      "No Trades Today!\n"
     ]
    }
   ],
   "source": [
    "if ichimoku_signal_df['entry/exit'].iloc[-1] == 1.0:\n",
    "    create_order(\"BTC/USD\", \"1.0\", \"buy\", \"market\", \"gtc\", api_key_id, api_secret_key)\n",
    "elif ichimoku_signal_df['entry/exit'].iloc[-1] == -1.0:\n",
    "    create_order(\"BTC/USD\", \"1.0\", \"sell\", \"market\", \"gtc\", api_key_id, api_secret_key)\n",
    "else:\n",
    "    print('No Trades Today!')"
   ]
  },
  {
   "cell_type": "code",
   "execution_count": 415,
   "metadata": {},
   "outputs": [],
   "source": [
    "# ohlc_df = ohlcv_df.drop(columns=['volume'])\n",
    "# #ohlc_df"
   ]
  },
  {
   "cell_type": "code",
   "execution_count": 416,
   "metadata": {},
   "outputs": [],
   "source": [
    "# ichimoku_df = TA.ICHIMOKU(ohlcv_df, tenkan_period= 20, kijun_period= 60, senkou_period= 120, chikou_period= 30)\n",
    "# #ichimoku_df"
   ]
  },
  {
   "cell_type": "code",
   "execution_count": 417,
   "metadata": {},
   "outputs": [
    {
     "data": {
      "text/html": [
       "<div>\n",
       "<style scoped>\n",
       "    .dataframe tbody tr th:only-of-type {\n",
       "        vertical-align: middle;\n",
       "    }\n",
       "\n",
       "    .dataframe tbody tr th {\n",
       "        vertical-align: top;\n",
       "    }\n",
       "\n",
       "    .dataframe thead th {\n",
       "        text-align: right;\n",
       "    }\n",
       "</style>\n",
       "<table border=\"1\" class=\"dataframe\">\n",
       "  <thead>\n",
       "    <tr style=\"text-align: right;\">\n",
       "      <th></th>\n",
       "      <th>TENKAN</th>\n",
       "      <th>KIJUN</th>\n",
       "      <th>senkou_span_a</th>\n",
       "      <th>SENKOU</th>\n",
       "      <th>CHIKOU</th>\n",
       "      <th>close</th>\n",
       "      <th>signal</th>\n",
       "      <th>entry/exit</th>\n",
       "      <th>actual_returns</th>\n",
       "      <th>strategy_returns</th>\n",
       "    </tr>\n",
       "    <tr>\n",
       "      <th>timestamp</th>\n",
       "      <th></th>\n",
       "      <th></th>\n",
       "      <th></th>\n",
       "      <th></th>\n",
       "      <th></th>\n",
       "      <th></th>\n",
       "      <th></th>\n",
       "      <th></th>\n",
       "      <th></th>\n",
       "      <th></th>\n",
       "    </tr>\n",
       "  </thead>\n",
       "  <tbody>\n",
       "    <tr>\n",
       "      <th>2020-02-26 06:00:00+00:00</th>\n",
       "      <td>NaN</td>\n",
       "      <td>NaN</td>\n",
       "      <td>NaN</td>\n",
       "      <td>NaN</td>\n",
       "      <td>116.51</td>\n",
       "      <td>221.30</td>\n",
       "      <td>0</td>\n",
       "      <td>NaN</td>\n",
       "      <td>NaN</td>\n",
       "      <td>NaN</td>\n",
       "    </tr>\n",
       "    <tr>\n",
       "      <th>2020-02-27 06:00:00+00:00</th>\n",
       "      <td>NaN</td>\n",
       "      <td>NaN</td>\n",
       "      <td>NaN</td>\n",
       "      <td>NaN</td>\n",
       "      <td>137.00</td>\n",
       "      <td>227.63</td>\n",
       "      <td>0</td>\n",
       "      <td>0.0</td>\n",
       "      <td>0.028604</td>\n",
       "      <td>0.000000</td>\n",
       "    </tr>\n",
       "    <tr>\n",
       "      <th>2020-02-28 06:00:00+00:00</th>\n",
       "      <td>NaN</td>\n",
       "      <td>NaN</td>\n",
       "      <td>NaN</td>\n",
       "      <td>NaN</td>\n",
       "      <td>133.27</td>\n",
       "      <td>227.37</td>\n",
       "      <td>0</td>\n",
       "      <td>0.0</td>\n",
       "      <td>-0.001142</td>\n",
       "      <td>-0.000000</td>\n",
       "    </tr>\n",
       "    <tr>\n",
       "      <th>2020-02-29 06:00:00+00:00</th>\n",
       "      <td>NaN</td>\n",
       "      <td>NaN</td>\n",
       "      <td>NaN</td>\n",
       "      <td>NaN</td>\n",
       "      <td>135.01</td>\n",
       "      <td>222.55</td>\n",
       "      <td>0</td>\n",
       "      <td>0.0</td>\n",
       "      <td>-0.021199</td>\n",
       "      <td>-0.000000</td>\n",
       "    </tr>\n",
       "    <tr>\n",
       "      <th>2020-03-01 06:00:00+00:00</th>\n",
       "      <td>NaN</td>\n",
       "      <td>NaN</td>\n",
       "      <td>NaN</td>\n",
       "      <td>NaN</td>\n",
       "      <td>125.00</td>\n",
       "      <td>221.23</td>\n",
       "      <td>0</td>\n",
       "      <td>0.0</td>\n",
       "      <td>-0.005931</td>\n",
       "      <td>-0.000000</td>\n",
       "    </tr>\n",
       "    <tr>\n",
       "      <th>...</th>\n",
       "      <td>...</td>\n",
       "      <td>...</td>\n",
       "      <td>...</td>\n",
       "      <td>...</td>\n",
       "      <td>...</td>\n",
       "      <td>...</td>\n",
       "      <td>...</td>\n",
       "      <td>...</td>\n",
       "      <td>...</td>\n",
       "      <td>...</td>\n",
       "    </tr>\n",
       "    <tr>\n",
       "      <th>2023-02-05 06:00:00+00:00</th>\n",
       "      <td>1614.30</td>\n",
       "      <td>1459.435</td>\n",
       "      <td>1230.2525</td>\n",
       "      <td>1211.490</td>\n",
       "      <td>NaN</td>\n",
       "      <td>1621.98</td>\n",
       "      <td>1</td>\n",
       "      <td>0.0</td>\n",
       "      <td>-0.027223</td>\n",
       "      <td>-0.027223</td>\n",
       "    </tr>\n",
       "    <tr>\n",
       "      <th>2023-02-06 06:00:00+00:00</th>\n",
       "      <td>1619.80</td>\n",
       "      <td>1474.515</td>\n",
       "      <td>1234.3125</td>\n",
       "      <td>1212.645</td>\n",
       "      <td>NaN</td>\n",
       "      <td>1634.84</td>\n",
       "      <td>1</td>\n",
       "      <td>0.0</td>\n",
       "      <td>0.007929</td>\n",
       "      <td>0.007929</td>\n",
       "    </tr>\n",
       "    <tr>\n",
       "      <th>2023-02-07 06:00:00+00:00</th>\n",
       "      <td>1624.77</td>\n",
       "      <td>1474.515</td>\n",
       "      <td>1238.5650</td>\n",
       "      <td>1212.645</td>\n",
       "      <td>NaN</td>\n",
       "      <td>1676.09</td>\n",
       "      <td>1</td>\n",
       "      <td>0.0</td>\n",
       "      <td>0.025232</td>\n",
       "      <td>0.025232</td>\n",
       "    </tr>\n",
       "    <tr>\n",
       "      <th>2023-02-08 06:00:00+00:00</th>\n",
       "      <td>1624.77</td>\n",
       "      <td>1474.515</td>\n",
       "      <td>1238.5650</td>\n",
       "      <td>1212.645</td>\n",
       "      <td>NaN</td>\n",
       "      <td>1628.04</td>\n",
       "      <td>1</td>\n",
       "      <td>0.0</td>\n",
       "      <td>-0.028668</td>\n",
       "      <td>-0.028668</td>\n",
       "    </tr>\n",
       "    <tr>\n",
       "      <th>2023-02-09 06:00:00+00:00</th>\n",
       "      <td>1619.57</td>\n",
       "      <td>1486.085</td>\n",
       "      <td>1239.7125</td>\n",
       "      <td>1212.645</td>\n",
       "      <td>NaN</td>\n",
       "      <td>1545.38</td>\n",
       "      <td>1</td>\n",
       "      <td>0.0</td>\n",
       "      <td>-0.050773</td>\n",
       "      <td>-0.050773</td>\n",
       "    </tr>\n",
       "  </tbody>\n",
       "</table>\n",
       "<p>1080 rows × 10 columns</p>\n",
       "</div>"
      ],
      "text/plain": [
       "                            TENKAN     KIJUN  senkou_span_a    SENKOU  CHIKOU  \\\n",
       "timestamp                                                                       \n",
       "2020-02-26 06:00:00+00:00      NaN       NaN            NaN       NaN  116.51   \n",
       "2020-02-27 06:00:00+00:00      NaN       NaN            NaN       NaN  137.00   \n",
       "2020-02-28 06:00:00+00:00      NaN       NaN            NaN       NaN  133.27   \n",
       "2020-02-29 06:00:00+00:00      NaN       NaN            NaN       NaN  135.01   \n",
       "2020-03-01 06:00:00+00:00      NaN       NaN            NaN       NaN  125.00   \n",
       "...                            ...       ...            ...       ...     ...   \n",
       "2023-02-05 06:00:00+00:00  1614.30  1459.435      1230.2525  1211.490     NaN   \n",
       "2023-02-06 06:00:00+00:00  1619.80  1474.515      1234.3125  1212.645     NaN   \n",
       "2023-02-07 06:00:00+00:00  1624.77  1474.515      1238.5650  1212.645     NaN   \n",
       "2023-02-08 06:00:00+00:00  1624.77  1474.515      1238.5650  1212.645     NaN   \n",
       "2023-02-09 06:00:00+00:00  1619.57  1486.085      1239.7125  1212.645     NaN   \n",
       "\n",
       "                             close  signal  entry/exit  actual_returns  \\\n",
       "timestamp                                                                \n",
       "2020-02-26 06:00:00+00:00   221.30       0         NaN             NaN   \n",
       "2020-02-27 06:00:00+00:00   227.63       0         0.0        0.028604   \n",
       "2020-02-28 06:00:00+00:00   227.37       0         0.0       -0.001142   \n",
       "2020-02-29 06:00:00+00:00   222.55       0         0.0       -0.021199   \n",
       "2020-03-01 06:00:00+00:00   221.23       0         0.0       -0.005931   \n",
       "...                            ...     ...         ...             ...   \n",
       "2023-02-05 06:00:00+00:00  1621.98       1         0.0       -0.027223   \n",
       "2023-02-06 06:00:00+00:00  1634.84       1         0.0        0.007929   \n",
       "2023-02-07 06:00:00+00:00  1676.09       1         0.0        0.025232   \n",
       "2023-02-08 06:00:00+00:00  1628.04       1         0.0       -0.028668   \n",
       "2023-02-09 06:00:00+00:00  1545.38       1         0.0       -0.050773   \n",
       "\n",
       "                           strategy_returns  \n",
       "timestamp                                    \n",
       "2020-02-26 06:00:00+00:00               NaN  \n",
       "2020-02-27 06:00:00+00:00          0.000000  \n",
       "2020-02-28 06:00:00+00:00         -0.000000  \n",
       "2020-02-29 06:00:00+00:00         -0.000000  \n",
       "2020-03-01 06:00:00+00:00         -0.000000  \n",
       "...                                     ...  \n",
       "2023-02-05 06:00:00+00:00         -0.027223  \n",
       "2023-02-06 06:00:00+00:00          0.007929  \n",
       "2023-02-07 06:00:00+00:00          0.025232  \n",
       "2023-02-08 06:00:00+00:00         -0.028668  \n",
       "2023-02-09 06:00:00+00:00         -0.050773  \n",
       "\n",
       "[1080 rows x 10 columns]"
      ]
     },
     "execution_count": 417,
     "metadata": {},
     "output_type": "execute_result"
    }
   ],
   "source": [
    "# ichimoku_signal_df = pd.concat([ichimoku_df, ohlcv_df['close']], axis=1)\n",
    "ichimoku_signal_df"
   ]
  },
  {
   "cell_type": "code",
   "execution_count": 418,
   "metadata": {},
   "outputs": [],
   "source": [
    "\n",
    "# ichimoku_signal_df['signal'] = 0\n",
    "# ichimoku_signal_df[\"signal\"] = np.where((ichimoku_signal_df[\"TENKAN\"] > ichimoku_signal_df[\"KIJUN\"]) &\n",
    "#                                 (ichimoku_signal_df[\"close\"] > ichimoku_signal_df[\"senkou_span_a\"]), 1, 0)\n",
    "\n",
    "# ichimoku_signal_df['entry/exit'] = ichimoku_signal_df['signal'].diff()\n",
    "\n",
    "# #ichimoku_signal_df\n"
   ]
  },
  {
   "cell_type": "code",
   "execution_count": 419,
   "metadata": {},
   "outputs": [],
   "source": [
    "# ichimoku_signal_df['actual_returns'] = ichimoku_signal_df['close'].pct_change()\n",
    "# ichimoku_signal_df[\"strategy_returns\"] = ichimoku_signal_df[\"actual_returns\"] * ichimoku_signal_df[\"signal\"].shift() \n"
   ]
  },
  {
   "cell_type": "code",
   "execution_count": 420,
   "metadata": {},
   "outputs": [],
   "source": [
    "#ichimoku_signal_df"
   ]
  },
  {
   "cell_type": "code",
   "execution_count": 421,
   "metadata": {},
   "outputs": [],
   "source": [
    "\n",
    "\n",
    "def get_open_positions(api_key_id, api_secret_key):\n",
    "    # Initialize the Alpaca API client\n",
    "   # api = tradeapi.REST(api_key_id, api_secret_key, api_version='v2')\n",
    "    api = tradeapi.REST(api_key_id, api_secret_key, base_url='https://paper-api.alpaca.markets', api_version='v2')\n",
    "\n",
    "    # Get a list of all open positions\n",
    "    open_positions = api.list_positions()\n",
    "    \n",
    "    # Return the list of open positions\n",
    "    \n",
    "    return open_positions\n"
   ]
  },
  {
   "cell_type": "code",
   "execution_count": 422,
   "metadata": {},
   "outputs": [],
   "source": [
    "open_positions = get_open_positions(api_key_id, api_secret_key)\n"
   ]
  },
  {
   "cell_type": "code",
   "execution_count": 423,
   "metadata": {},
   "outputs": [
    {
     "data": {
      "text/plain": [
       "[Position({   'asset_class': 'crypto',\n",
       "     'asset_id': '64bbff51-59d6-4b3c-9351-13ad85e3c752',\n",
       "     'asset_marginable': False,\n",
       "     'avg_entry_price': '21917.1052305093275553',\n",
       "     'change_today': '-0.0012975683824012',\n",
       "     'cost_basis': '65532.14452963736323789',\n",
       "     'current_price': '21889.48',\n",
       "     'exchange': 'FTXU',\n",
       "     'lastday_price': '21917.92',\n",
       "     'market_value': '65449.5450905526',\n",
       "     'qty': '2.989999995',\n",
       "     'qty_available': '2.989999995',\n",
       "     'side': 'long',\n",
       "     'symbol': 'BTCUSD',\n",
       "     'unrealized_intraday_pl': '-82.5994390847632378003622235',\n",
       "     'unrealized_intraday_plpc': '-0.001260441569212',\n",
       "     'unrealized_pl': '-82.59943908476323789',\n",
       "     'unrealized_plpc': '-0.001260441569212'}),\n",
       " Position({   'asset_class': 'us_equity',\n",
       "     'asset_id': '8ccae427-5dd0-45b3-b5fe-7ba5e422c766',\n",
       "     'asset_marginable': False,\n",
       "     'avg_entry_price': '143.04',\n",
       "     'change_today': '-0.0160138915685896',\n",
       "     'cost_basis': '14304',\n",
       "     'current_price': '204',\n",
       "     'exchange': 'NASDAQ',\n",
       "     'lastday_price': '207.32',\n",
       "     'market_value': '20400',\n",
       "     'qty': '100',\n",
       "     'qty_available': '100',\n",
       "     'side': 'long',\n",
       "     'symbol': 'TSLA',\n",
       "     'unrealized_intraday_pl': '-332',\n",
       "     'unrealized_intraday_plpc': '-0.0160138915685896',\n",
       "     'unrealized_pl': '6096',\n",
       "     'unrealized_plpc': '0.4261744966442953'})]"
      ]
     },
     "execution_count": 423,
     "metadata": {},
     "output_type": "execute_result"
    }
   ],
   "source": [
    "open_positions"
   ]
  },
  {
   "cell_type": "code",
   "execution_count": 424,
   "metadata": {},
   "outputs": [
    {
     "data": {
      "text/plain": [
       "[Position({   'asset_class': 'crypto',\n",
       "     'asset_id': '64bbff51-59d6-4b3c-9351-13ad85e3c752',\n",
       "     'asset_marginable': False,\n",
       "     'avg_entry_price': '21917.1052305093275553',\n",
       "     'change_today': '-0.0012975683824012',\n",
       "     'cost_basis': '65532.14452963736323789',\n",
       "     'current_price': '21889.48',\n",
       "     'exchange': 'FTXU',\n",
       "     'lastday_price': '21917.92',\n",
       "     'market_value': '65449.5450905526',\n",
       "     'qty': '2.989999995',\n",
       "     'qty_available': '2.989999995',\n",
       "     'side': 'long',\n",
       "     'symbol': 'BTCUSD',\n",
       "     'unrealized_intraday_pl': '-82.5994390847632378003622235',\n",
       "     'unrealized_intraday_plpc': '-0.001260441569212',\n",
       "     'unrealized_pl': '-82.59943908476323789',\n",
       "     'unrealized_plpc': '-0.001260441569212'}),\n",
       " Position({   'asset_class': 'us_equity',\n",
       "     'asset_id': '8ccae427-5dd0-45b3-b5fe-7ba5e422c766',\n",
       "     'asset_marginable': False,\n",
       "     'avg_entry_price': '143.04',\n",
       "     'change_today': '-0.0160138915685896',\n",
       "     'cost_basis': '14304',\n",
       "     'current_price': '204',\n",
       "     'exchange': 'NASDAQ',\n",
       "     'lastday_price': '207.32',\n",
       "     'market_value': '20400',\n",
       "     'qty': '100',\n",
       "     'qty_available': '100',\n",
       "     'side': 'long',\n",
       "     'symbol': 'TSLA',\n",
       "     'unrealized_intraday_pl': '-332',\n",
       "     'unrealized_intraday_plpc': '-0.0160138915685896',\n",
       "     'unrealized_pl': '6096',\n",
       "     'unrealized_plpc': '0.4261744966442953'})]"
      ]
     },
     "execution_count": 424,
     "metadata": {},
     "output_type": "execute_result"
    }
   ],
   "source": [
    "open_positions = get_open_positions(api_key_id, api_secret_key)\n",
    "open_positions\n",
    "\n"
   ]
  },
  {
   "cell_type": "code",
   "execution_count": 425,
   "metadata": {},
   "outputs": [],
   "source": [
    "#actual_returns = ichimoku_signal_df['actual_returns'].cumsum()\n",
    "\n",
    "actual_returns_plot =  (1 + ichimoku_signal_df[['actual_returns']]).cumprod().hvplot(\n",
    "    color='lightblue'\n",
    ")"
   ]
  },
  {
   "cell_type": "code",
   "execution_count": 426,
   "metadata": {},
   "outputs": [],
   "source": [
    "strategy_returns_plot = (1 + ichimoku_signal_df[['strategy_returns']]).cumprod().hvplot(\n",
    "    color='lightgreen'\n",
    ")"
   ]
  },
  {
   "cell_type": "code",
   "execution_count": 427,
   "metadata": {},
   "outputs": [],
   "source": [
    "#ichimoku_signal_df"
   ]
  },
  {
   "cell_type": "code",
   "execution_count": 428,
   "metadata": {},
   "outputs": [],
   "source": [
    "#ichimoku_signal_df['entry/exit'].value_counts()"
   ]
  },
  {
   "cell_type": "code",
   "execution_count": 429,
   "metadata": {},
   "outputs": [],
   "source": [
    "entry = ichimoku_signal_df[ichimoku_signal_df['entry/exit']==1]['close'].hvplot.scatter(\n",
    "    color='green',\n",
    "    marker= '^'\n",
    ")\n",
    "\n",
    "exit = ichimoku_signal_df[ichimoku_signal_df['entry/exit']==-1]['close'].hvplot.scatter(\n",
    "    color='red',\n",
    "    marker= 'v'\n",
    ")\n",
    "\n",
    "close = ichimoku_signal_df['close'].hvplot(\n",
    "    color='lightgray',\n",
    "    \n",
    ")\n",
    "\n",
    "#actual_returns = actual_returns.hvplot(\n",
    " #   color='lightblue'\n",
    "#)\n",
    "\n",
    "#strategy_returns = ichimoku_signal_df['strategy_returns'].hvplot(\n",
    " #   color='lightgreen',\n",
    "#)"
   ]
  },
  {
   "cell_type": "code",
   "execution_count": 430,
   "metadata": {},
   "outputs": [
    {
     "data": {
      "text/plain": [
       " 0.0    1052\n",
       " 1.0      14\n",
       "-1.0      13\n",
       "Name: entry/exit, dtype: int64"
      ]
     },
     "execution_count": 430,
     "metadata": {},
     "output_type": "execute_result"
    }
   ],
   "source": [
    "ichimoku_signal_df['entry/exit'].value_counts()"
   ]
  },
  {
   "cell_type": "code",
   "execution_count": 431,
   "metadata": {},
   "outputs": [
    {
     "data": {},
     "metadata": {},
     "output_type": "display_data"
    },
    {
     "data": {
      "application/vnd.holoviews_exec.v0+json": "",
      "text/html": [
       "<div id='4056'>\n",
       "  <div class=\"bk-root\" id=\"0c4f84bd-fa2c-4359-9fa8-a427c0685d22\" data-root-id=\"4056\"></div>\n",
       "</div>\n",
       "<script type=\"application/javascript\">(function(root) {\n",
       "  function embed_document(root) {\n",
       "    var docs_json = {\"1fe3865d-b2cf-4bf9-82f0-9c4597528923\":{\"defs\":[{\"extends\":null,\"module\":null,\"name\":\"ReactiveHTML1\",\"overrides\":[],\"properties\":[]},{\"extends\":null,\"module\":null,\"name\":\"FlexBox1\",\"overrides\":[],\"properties\":[{\"default\":\"flex-start\",\"kind\":null,\"name\":\"align_content\"},{\"default\":\"flex-start\",\"kind\":null,\"name\":\"align_items\"},{\"default\":\"row\",\"kind\":null,\"name\":\"flex_direction\"},{\"default\":\"wrap\",\"kind\":null,\"name\":\"flex_wrap\"},{\"default\":\"flex-start\",\"kind\":null,\"name\":\"justify_content\"}]},{\"extends\":null,\"module\":null,\"name\":\"GridStack1\",\"overrides\":[],\"properties\":[{\"default\":\"warn\",\"kind\":null,\"name\":\"mode\"},{\"default\":null,\"kind\":null,\"name\":\"ncols\"},{\"default\":null,\"kind\":null,\"name\":\"nrows\"},{\"default\":true,\"kind\":null,\"name\":\"allow_resize\"},{\"default\":true,\"kind\":null,\"name\":\"allow_drag\"},{\"default\":[],\"kind\":null,\"name\":\"state\"}]},{\"extends\":null,\"module\":null,\"name\":\"click1\",\"overrides\":[],\"properties\":[{\"default\":\"\",\"kind\":null,\"name\":\"terminal_output\"},{\"default\":\"\",\"kind\":null,\"name\":\"debug_name\"},{\"default\":0,\"kind\":null,\"name\":\"clears\"}]},{\"extends\":null,\"module\":null,\"name\":\"NotificationAreaBase1\",\"overrides\":[],\"properties\":[{\"default\":\"bottom-right\",\"kind\":null,\"name\":\"position\"},{\"default\":0,\"kind\":null,\"name\":\"_clear\"}]},{\"extends\":null,\"module\":null,\"name\":\"NotificationArea1\",\"overrides\":[],\"properties\":[{\"default\":[],\"kind\":null,\"name\":\"notifications\"},{\"default\":\"bottom-right\",\"kind\":null,\"name\":\"position\"},{\"default\":0,\"kind\":null,\"name\":\"_clear\"},{\"default\":[{\"background\":\"#ffc107\",\"icon\":{\"className\":\"fas fa-exclamation-triangle\",\"color\":\"white\",\"tagName\":\"i\"},\"type\":\"warning\"},{\"background\":\"#007bff\",\"icon\":{\"className\":\"fas fa-info-circle\",\"color\":\"white\",\"tagName\":\"i\"},\"type\":\"info\"}],\"kind\":null,\"name\":\"types\"}]},{\"extends\":null,\"module\":null,\"name\":\"Notification\",\"overrides\":[],\"properties\":[{\"default\":null,\"kind\":null,\"name\":\"background\"},{\"default\":3000,\"kind\":null,\"name\":\"duration\"},{\"default\":null,\"kind\":null,\"name\":\"icon\"},{\"default\":\"\",\"kind\":null,\"name\":\"message\"},{\"default\":null,\"kind\":null,\"name\":\"notification_type\"},{\"default\":false,\"kind\":null,\"name\":\"_destroyed\"}]},{\"extends\":null,\"module\":null,\"name\":\"TemplateActions1\",\"overrides\":[],\"properties\":[{\"default\":0,\"kind\":null,\"name\":\"open_modal\"},{\"default\":0,\"kind\":null,\"name\":\"close_modal\"}]},{\"extends\":null,\"module\":null,\"name\":\"MaterialTemplateActions1\",\"overrides\":[],\"properties\":[{\"default\":0,\"kind\":null,\"name\":\"open_modal\"},{\"default\":0,\"kind\":null,\"name\":\"close_modal\"}]}],\"roots\":{\"references\":[{\"attributes\":{},\"id\":\"4081\",\"type\":\"PanTool\"},{\"attributes\":{\"axis_label\":\"\",\"coordinates\":null,\"formatter\":{\"id\":\"4097\"},\"group\":null,\"major_label_policy\":{\"id\":\"4098\"},\"ticker\":{\"id\":\"4077\"}},\"id\":\"4076\",\"type\":\"LinearAxis\"},{\"attributes\":{\"axis\":{\"id\":\"4072\"},\"coordinates\":null,\"grid_line_color\":null,\"group\":null,\"ticker\":null},\"id\":\"4075\",\"type\":\"Grid\"},{\"attributes\":{\"angle\":{\"value\":0},\"fill_alpha\":{\"value\":1.0},\"fill_color\":{\"value\":\"green\"},\"hatch_alpha\":{\"value\":1.0},\"hatch_color\":{\"value\":\"green\"},\"hatch_scale\":{\"value\":12.0},\"hatch_weight\":{\"value\":1.0},\"line_alpha\":{\"value\":1.0},\"line_cap\":{\"value\":\"butt\"},\"line_color\":{\"value\":\"green\"},\"line_dash\":{\"value\":[]},\"line_dash_offset\":{\"value\":0},\"line_join\":{\"value\":\"bevel\"},\"line_width\":{\"value\":1},\"marker\":{\"value\":\"triangle\"},\"size\":{\"value\":5.477225575051661},\"x\":{\"field\":\"timestamp\"},\"y\":{\"field\":\"close\"}},\"id\":\"4164\",\"type\":\"Scatter\"},{\"attributes\":{\"axis\":{\"id\":\"4076\"},\"coordinates\":null,\"dimension\":1,\"grid_line_color\":null,\"group\":null,\"ticker\":null},\"id\":\"4079\",\"type\":\"Grid\"},{\"attributes\":{},\"id\":\"4077\",\"type\":\"BasicTicker\"},{\"attributes\":{},\"id\":\"4082\",\"type\":\"WheelZoomTool\"},{\"attributes\":{\"data\":{\"close\":{\"__ndarray__\":\"SOF6FK5HakAzMzMzM1tpQOF6FK5H+W1AXI/C9SjYd0DNzMzMzJqcQB+F61G425pAexSuR2HWoUCkcD0KV32jQIXrUbgeVKtA16NwPQqpp0AAAAAAAGiYQGZmZmZmiZhASOF6FK5nmEBcj8L1KLyUQA==\",\"dtype\":\"float64\",\"order\":\"little\",\"shape\":[14]},\"timestamp\":{\"__ndarray__\":\"AABIfI4dd0IAAAjVUCR3QgAASINxM3dCAADIDUZUd0IAAMjg6IN3QgAASNogh3dCAADIV2Wud0IAAEi6U7B3QgAAyIzbxndCAACIiq36d0IAAIg8TSF4QgAACAjyIXhCAADIlSpBeEIAAPDTUVl4Qg==\",\"dtype\":\"float64\",\"order\":\"little\",\"shape\":[14]}},\"selected\":{\"id\":\"4133\"},\"selection_policy\":{\"id\":\"4149\"}},\"id\":\"4132\",\"type\":\"ColumnDataSource\"},{\"attributes\":{},\"id\":\"4080\",\"type\":\"SaveTool\"},{\"attributes\":{\"source\":{\"id\":\"4165\"}},\"id\":\"4172\",\"type\":\"CDSView\"},{\"attributes\":{\"overlay\":{\"id\":\"4085\"}},\"id\":\"4083\",\"type\":\"BoxZoomTool\"},{\"attributes\":{},\"id\":\"4149\",\"type\":\"UnionRenderers\"},{\"attributes\":{},\"id\":\"4084\",\"type\":\"ResetTool\"},{\"attributes\":{\"bottom_units\":\"screen\",\"coordinates\":null,\"fill_alpha\":0.5,\"fill_color\":\"lightgrey\",\"group\":null,\"left_units\":\"screen\",\"level\":\"overlay\",\"line_alpha\":1.0,\"line_color\":\"black\",\"line_dash\":[4,4],\"line_width\":2,\"right_units\":\"screen\",\"syncable\":false,\"top_units\":\"screen\"},\"id\":\"4085\",\"type\":\"BoxAnnotation\"},{\"attributes\":{\"source\":{\"id\":\"4132\"}},\"id\":\"4139\",\"type\":\"CDSView\"},{\"attributes\":{\"fill_alpha\":{\"value\":0.2},\"fill_color\":{\"value\":\"green\"},\"hatch_alpha\":{\"value\":0.2},\"hatch_color\":{\"value\":\"green\"},\"line_alpha\":{\"value\":0.2},\"line_color\":{\"value\":\"green\"},\"marker\":{\"value\":\"triangle\"},\"size\":{\"value\":5.477225575051661},\"x\":{\"field\":\"timestamp\"},\"y\":{\"field\":\"close\"}},\"id\":\"4137\",\"type\":\"Scatter\"},{\"attributes\":{},\"id\":\"4114\",\"type\":\"UnionRenderers\"},{\"attributes\":{\"coordinates\":null,\"data_source\":{\"id\":\"4132\"},\"glyph\":{\"id\":\"4135\"},\"group\":null,\"hover_glyph\":null,\"muted_glyph\":{\"id\":\"4137\"},\"nonselection_glyph\":{\"id\":\"4136\"},\"selection_glyph\":{\"id\":\"4164\"},\"view\":{\"id\":\"4139\"}},\"id\":\"4138\",\"type\":\"GlyphRenderer\"},{\"attributes\":{\"fill_alpha\":{\"value\":0.1},\"fill_color\":{\"value\":\"green\"},\"hatch_alpha\":{\"value\":0.1},\"hatch_color\":{\"value\":\"green\"},\"line_alpha\":{\"value\":0.1},\"line_color\":{\"value\":\"green\"},\"marker\":{\"value\":\"triangle\"},\"size\":{\"value\":5.477225575051661},\"x\":{\"field\":\"timestamp\"},\"y\":{\"field\":\"close\"}},\"id\":\"4136\",\"type\":\"Scatter\"},{\"attributes\":{},\"id\":\"4094\",\"type\":\"DatetimeTickFormatter\"},{\"attributes\":{\"below\":[{\"id\":\"4072\"}],\"center\":[{\"id\":\"4075\"},{\"id\":\"4079\"}],\"height\":300,\"left\":[{\"id\":\"4076\"}],\"margin\":[5,5,5,5],\"min_border_bottom\":10,\"min_border_left\":10,\"min_border_right\":10,\"min_border_top\":10,\"renderers\":[{\"id\":\"4105\"},{\"id\":\"4138\"},{\"id\":\"4171\"}],\"right\":[{\"id\":\"4129\"}],\"sizing_mode\":\"fixed\",\"title\":{\"id\":\"4064\"},\"toolbar\":{\"id\":\"4086\"},\"width\":700,\"x_range\":{\"id\":\"4058\"},\"x_scale\":{\"id\":\"4068\"},\"y_range\":{\"id\":\"4059\"},\"y_scale\":{\"id\":\"4070\"}},\"id\":\"4063\",\"subtype\":\"Figure\",\"type\":\"Plot\"},{\"attributes\":{\"angle\":{\"value\":3.141592653589793},\"fill_alpha\":{\"value\":0.1},\"fill_color\":{\"value\":\"red\"},\"hatch_alpha\":{\"value\":0.1},\"hatch_color\":{\"value\":\"red\"},\"line_alpha\":{\"value\":0.1},\"line_color\":{\"value\":\"red\"},\"marker\":{\"value\":\"triangle\"},\"size\":{\"value\":5.477225575051661},\"x\":{\"field\":\"timestamp\"},\"y\":{\"field\":\"close\"}},\"id\":\"4169\",\"type\":\"Scatter\"},{\"attributes\":{\"end\":5300.639,\"reset_end\":5300.639,\"reset_start\":-361.549,\"start\":-361.549,\"tags\":[[[\"close\",\"close\",null]]]},\"id\":\"4059\",\"type\":\"Range1d\"},{\"attributes\":{\"tools\":[{\"id\":\"4060\"},{\"id\":\"4080\"},{\"id\":\"4081\"},{\"id\":\"4082\"},{\"id\":\"4083\"},{\"id\":\"4084\"}]},\"id\":\"4086\",\"type\":\"Toolbar\"},{\"attributes\":{\"click_policy\":\"mute\",\"coordinates\":null,\"group\":null,\"items\":[{\"id\":\"4130\"}],\"location\":[0,0]},\"id\":\"4129\",\"type\":\"Legend\"},{\"attributes\":{},\"id\":\"4070\",\"type\":\"LinearScale\"},{\"attributes\":{},\"id\":\"4100\",\"type\":\"Selection\"},{\"attributes\":{},\"id\":\"4095\",\"type\":\"AllLabels\"},{\"attributes\":{},\"id\":\"4166\",\"type\":\"Selection\"},{\"attributes\":{\"mantissas\":[1,2,5],\"max_interval\":500.0,\"num_minor_ticks\":0},\"id\":\"4117\",\"type\":\"AdaptiveTicker\"},{\"attributes\":{\"line_color\":\"lightgray\",\"line_width\":2,\"x\":{\"field\":\"timestamp\"},\"y\":{\"field\":\"close\"}},\"id\":\"4131\",\"type\":\"Line\"},{\"attributes\":{\"angle\":{\"value\":3.141592653589793},\"fill_color\":{\"value\":\"red\"},\"hatch_color\":{\"value\":\"red\"},\"line_color\":{\"value\":\"red\"},\"marker\":{\"value\":\"triangle\"},\"size\":{\"value\":5.477225575051661},\"x\":{\"field\":\"timestamp\"},\"y\":{\"field\":\"close\"}},\"id\":\"4168\",\"type\":\"Scatter\"},{\"attributes\":{\"source\":{\"id\":\"4099\"}},\"id\":\"4106\",\"type\":\"CDSView\"},{\"attributes\":{\"angle\":{\"value\":3.141592653589793},\"fill_alpha\":{\"value\":0.2},\"fill_color\":{\"value\":\"red\"},\"hatch_alpha\":{\"value\":0.2},\"hatch_color\":{\"value\":\"red\"},\"line_alpha\":{\"value\":0.2},\"line_color\":{\"value\":\"red\"},\"marker\":{\"value\":\"triangle\"},\"size\":{\"value\":5.477225575051661},\"x\":{\"field\":\"timestamp\"},\"y\":{\"field\":\"close\"}},\"id\":\"4170\",\"type\":\"Scatter\"},{\"attributes\":{\"coordinates\":null,\"data_source\":{\"id\":\"4099\"},\"glyph\":{\"id\":\"4102\"},\"group\":null,\"hover_glyph\":null,\"muted_glyph\":{\"id\":\"4104\"},\"nonselection_glyph\":{\"id\":\"4103\"},\"selection_glyph\":{\"id\":\"4131\"},\"view\":{\"id\":\"4106\"}},\"id\":\"4105\",\"type\":\"GlyphRenderer\"},{\"attributes\":{},\"id\":\"4184\",\"type\":\"UnionRenderers\"},{\"attributes\":{\"base\":60,\"mantissas\":[1,2,5,10,15,20,30],\"max_interval\":1800000.0,\"min_interval\":1000.0,\"num_minor_ticks\":0},\"id\":\"4118\",\"type\":\"AdaptiveTicker\"},{\"attributes\":{\"label\":{\"value\":\"close\"},\"renderers\":[{\"id\":\"4105\"},{\"id\":\"4138\"},{\"id\":\"4171\"}]},\"id\":\"4130\",\"type\":\"LegendItem\"},{\"attributes\":{\"base\":24,\"mantissas\":[1,2,4,6,8,12],\"max_interval\":43200000.0,\"min_interval\":3600000.0,\"num_minor_ticks\":0},\"id\":\"4119\",\"type\":\"AdaptiveTicker\"},{\"attributes\":{},\"id\":\"4128\",\"type\":\"YearsTicker\"},{\"attributes\":{\"coordinates\":null,\"data_source\":{\"id\":\"4165\"},\"glyph\":{\"id\":\"4168\"},\"group\":null,\"hover_glyph\":null,\"muted_glyph\":{\"id\":\"4170\"},\"nonselection_glyph\":{\"id\":\"4169\"},\"selection_glyph\":{\"id\":\"4199\"},\"view\":{\"id\":\"4172\"}},\"id\":\"4171\",\"type\":\"GlyphRenderer\"},{\"attributes\":{\"data\":{\"close\":{\"__ndarray__\":\"KVyPwvUgakA9CtejcDVsQAAAAAAA9HRA4XoUrkeZmEBSuB6F65aYQLgehevRF6NAzczMzMw/o0BSuB6Fa/SrQEjhehRutrBAH4XrUTgfqEAzMzMzMzSXQK5H4XoUqJZAw/UoXI9XlEA=\",\"dtype\":\"float64\",\"order\":\"little\",\"shape\":[13]},\"timestamp\":{\"__ndarray__\":\"AAAIPgcjd0IAAMiJOTB3QgAACCvKRXdCAACwig+Ad0IAAAipKYZ3QgAACOsvmHdCAAAIiVyvd0IAAAidz753QgAAsHgI1XdCAABIEQMEeEIAAEiinyF4QgAAiCItLnhCAABwL11FeEI=\",\"dtype\":\"float64\",\"order\":\"little\",\"shape\":[13]}},\"selected\":{\"id\":\"4166\"},\"selection_policy\":{\"id\":\"4184\"}},\"id\":\"4165\",\"type\":\"ColumnDataSource\"},{\"attributes\":{\"months\":[0,1,2,3,4,5,6,7,8,9,10,11]},\"id\":\"4124\",\"type\":\"MonthsTicker\"},{\"attributes\":{\"days\":[1,15]},\"id\":\"4123\",\"type\":\"DaysTicker\"},{\"attributes\":{\"days\":[1,2,3,4,5,6,7,8,9,10,11,12,13,14,15,16,17,18,19,20,21,22,23,24,25,26,27,28,29,30,31]},\"id\":\"4120\",\"type\":\"DaysTicker\"},{\"attributes\":{\"days\":[1,4,7,10,13,16,19,22,25,28]},\"id\":\"4121\",\"type\":\"DaysTicker\"},{\"attributes\":{\"days\":[1,8,15,22]},\"id\":\"4122\",\"type\":\"DaysTicker\"},{\"attributes\":{\"months\":[0,6]},\"id\":\"4127\",\"type\":\"MonthsTicker\"},{\"attributes\":{\"line_alpha\":0.1,\"line_color\":\"lightgray\",\"line_width\":2,\"x\":{\"field\":\"timestamp\"},\"y\":{\"field\":\"close\"}},\"id\":\"4103\",\"type\":\"Line\"},{\"attributes\":{\"months\":[0,2,4,6,8,10]},\"id\":\"4125\",\"type\":\"MonthsTicker\"},{\"attributes\":{\"callback\":null,\"formatters\":{\"@{timestamp}\":\"datetime\"},\"renderers\":[{\"id\":\"4105\"},{\"id\":\"4138\"},{\"id\":\"4171\"}],\"tags\":[\"hv_created\"],\"tooltips\":[[\"timestamp\",\"@{timestamp}{%F %T}\"],[\"close\",\"@{close}\"]]},\"id\":\"4060\",\"type\":\"HoverTool\"},{\"attributes\":{\"end\":1675922400000.0,\"reset_end\":1675922400000.0,\"reset_start\":1582696800000.0,\"start\":1582696800000.0,\"tags\":[[[\"timestamp\",\"timestamp\",null]]]},\"id\":\"4058\",\"type\":\"Range1d\"},{\"attributes\":{\"data\":{\"close\":{\"__ndarray__\":\"mpmZmZmpa0Bcj8L1KHRsQKRwPQrXa2xAmpmZmZnRa0CPwvUoXKdrQOxRuB6Fw2xAAAAAAAD4a0D2KFyPwqVsQBSuR+F6lGxAUrgehetxbkAUrkfherxsQLgehetRGGlAcT0K16NYaUCkcD0K1xNpQOxRuB6Fo2ZAMzMzMzOTW0C4HoXrUfBgQHsUrkfhil5A7FG4HoUrXkC4HoXrUdhbQPYoXI/CBV1AcT0K16MgXUAAAAAAACBhQHE9CtejqGBAuB6F61HgYEAAAAAAAEBfQAAAAAAAIGFApHA9CtcrYUC4HoXrUQhhQAAAAAAAYGFAmpmZmZkJYEAzMzMzM2tgQLgehetR6F9Aj8L1KFxfYEBcj8L1KJxgQArXo3A9CmFAKVyPwvWwYUAAAAAAAJBhQLgehetR6GFAKVyPwvWIYkAAAAAAAHBlQArXo3A9kmRAw/UoXI9CZUAAAAAAADhlQDMzMzMzw2NAKVyPwvWYY0DD9ShcjxpjQLgehetRmGNA9ihcj8L9Y0BSuB6F6xljQJqZmZmZkWVAAAAAAACgZUBcj8L1KHxnQBSuR+F6jGZAAAAAAABQZUAAAAAAAHBlQOF6FK5H6WZAhetRuB41Z0B7FK5H4XpnQDMzMzMzU2hASOF6FK63aEApXI/C9ZhoQDMzMzMz42hAmpmZmZnha0CPwvUoXMdpQIXrUbgepWpAUrgehespa0BI4XoUrkdqQArXo3A9QmpArkfhehTWaUDD9Shcj6JpQNejcD0Kj2pAexSuR+FyakBSuB6F60lnQI/C9Shcd2dA9ihcj8I9Z0AAAAAAANhnQNejcD0Kt2hAzczMzMxsaUAAAAAAADhpQHE9CtejIGlAmpmZmZnhaUDD9Shcj9pqQPYoXI/CpWpAKVyPwvUgakCkcD0K19NoQGZmZmZmHmpAUrgehesJakAzMzMzM1tpQFK4HoXrgWlAj8L1KFw3aUCamZmZmclpQK5H4XoUnmtAMzMzMzN7bEB7FK5H4XpuQAAAAAAA+G1ApHA9CtfzbkAfhetRuLZtQOxRuB6Fk25A9ihcj8JlbkDhehSuRwFuQD0K16NwVW5AUrgeheuZbkBmZmZmZl5uQClcj8L1gG5A16NwPQoPb0DNzMzMzMRsQClcj8L1sG1AMzMzMzOjbUDsUbgehUtsQI/C9Shc32xAXI/C9SgkbUAfhetRuDZtQDMzMzMzg2xAexSuR+G6bEDhehSuR6lsQNejcD0KV21AUrgehetBbkAzMzMzM/tuQK5H4XoUTm1AAAAAAAAQbUApXI/C9ahsQLgehetRmGtAuB6F61EYbEDD9Shcj0psQD0K16NwNWxAKVyPwvXgbECPwvUoXE9sQDMzMzMzQ2xAuB6F61GIbEApXI/C9YBsQM3MzMzMNG5ApHA9CtfjbUCuR+F6FJ5uQAAAAAAAQG5A4XoUrkf5bUA9CtejcBVuQFK4HoXrWW5ArkfhehTubUAUrkfhevxtQIXrUbgexW1AhetRuB4tbUDNzMzMzCRtQOF6FK5HeW1AcT0K16PQbUCamZmZmZltQOF6FK5HeW5AFK5H4XqEcEAfhetRuPZwQDMzMzMzu3FA9ihcj8LxckBSuB6F6zl0QKRwPQrXI3RACtejcD26c0CuR+F6FNpzQBSuR+F60HRA9ihcj8IldkDsUbgehVd3QI/C9ShcQ3dAw/UoXI+eeEAAAAAAAEh4QI/C9ShcE3lA16NwPQq/eEAAAAAAALx3QArXo3A9pnhAw/UoXI/GeEB7FK5H4a54QOxRuB6FW3dA7FG4HoWXeEBxPQrXo5x6QOF6FK5HbXtAzczMzMzEekDNzMzMzGh6QLgehetRyHpAKVyPwvXEeUA9CtejcHl5QBSuR+F69HlAzczMzMxAeEC4HoXrUVR4QD0K16NwiXhAKVyPwvUgeUCF61G4HhF4QBSuR+F68HdAMzMzMzNDeEDsUbgehbd4QB+F61G4PnlAPQrXo3CJekC4HoXrUdh7QIXrUbgeuX1AexSuR+E2e0BSuB6F6+13QJqZmZmZEXhAAAAAAAD0dECF61G4HqV1QI/C9ShcG3ZASOF6FK4XdUCuR+F6FFJ3QClcj8L1AHdAj8L1KFwvd0B7FK5H4SZ4QClcj8L1yHZAFK5H4XqUd0D2KFyPwp12QI/C9Shcr3dAMzMzMzNXeEAK16NwPQp4QNejcD0K23dA7FG4HoVfd0D2KFyPwkF1QMP1KFyPPnVAmpmZmZlBdEDXo3A9Cot1QDMzMzMzA3ZArkfhehQidkDXo3A9Cmt2QEjhehSuD3ZArkfhehQ+dkDhehSuR6l2QClcj8L19HVAMzMzMzObdUBcj8L1KKx1QFK4HoXr9XVAj8L1KFwjdkDhehSuRyV1QHsUrkfhWnVAPQrXo3DVdUAAAAAAAHx3QAAAAAAALHdA4XoUrkdhd0CkcD0K1wN4QFK4HoXr1XdAKVyPwvWUd0BxPQrXoxB3QIXrUbge2XZASOF6FK4Hd0CF61G4Hl13QGZmZmZmqndAXI/C9SjYd0AUrkfhenh4QDMzMzMz63lAuB6F61GYeUDhehSuR8l5QAAAAAAAhHlASOF6FK6reEAK16NwPV55QEjhehSua3hAmpmZmZk5eECuR+F6FPp3QFyPwvUoKHhAcT0K16PoeEDhehSuR/V3QKRwPQrX+3dAAAAAAAA4eUD2KFyPwv16QGZmZmZminxAmpmZmZk9e0AK16NwPV58QDMzMzMzH3xA16NwPQrDfEAzMzMzM898QNejcD0Kz3xACtejcD3SfUCPwvUoXNd8QFyPwvUoQHxA7FG4HoX7fEApXI/C9Wh9QI/C9Shc731ArkfhehRSfkB7FK5H4eZ/QM3MzMzM/oBAPQrXo3ApgkCuR+F6FAqDQJqZmZmZ64JACtejcD2IgEAfhetRuEKAQFK4HoXrC4BAuB6F61HsgECamZmZmTmCQArXo3A9BoNACtejcD1QgkBSuB6F62OCQIXrUbge34JAzczMzMy8gUC4HoXrUaqCQEjhehSuo4JAj8L1KFybgkDhehSuRyGBQNejcD0K64FACtejcD0CgUCkcD0K1wGBQGZmZmZmzIFAj8L1KFxJgkBI4XoUrjWCQOxRuB6FQYJA7FG4HoVBhEApXI/C9RqEQKRwPQrXaYRASOF6FK6XhEBI4XoUrg2EQMP1KFyPAINA16NwPQo3g0B7FK5H4UiCQFyPwvUoIoNAPQrXo3CVg0BSuB6F6yuEQAAAAAAASIZASOF6FK4PhkCuR+F6FN6GQHsUrkfhhodAXI/C9Sgwh0ApXI/C9fSGQMP1KFyPmohAhetRuB4DkUDsUbgehUmQQFK4HoXrPpFArkfhehTwkkDD9Shcj/ORQGZmZmZmBZNAj8L1KFyclEBxPQrXow+RQFyPwvUoA5FAZmZmZmZokEApXI/C9VmRQKRwPQrXgpJAZmZmZmZAkkBSuB6F6/+SQHsUrkfh3pJAMzMzMzOulEBcj8L1KGCVQEjhehSuZ5RAFK5H4XpakUBmZmZmZkaTQLgehetRuJRAFK5H4XqHlkB7FK5H4ZeUQJqZmZmZGJRApHA9Ctdjk0DsUbgehWWUQBSuR+F6j5VA9ihcj8IelUAAAAAAAKiUQFK4HoXrtZVAj8L1KFwlmEA9CtejcOSZQDMzMzMz9phAUrgehev7mUA9CtejcEKZQK5H4XoUJJlAzczMzMxGm0A9CtejcCacQB+F61G4O5tASOF6FK6Jm0AAAAAAANScQNejcD0KaJxAuB6F61H2mkAUrkfhes6bQHE9CtejUJtAuB6F61G0nUDsUbgeheidQAAAAAAAfJ9ApHA9CtftnUBxPQrXozSdQOxRuB6FU5lAuB6F61GnmEAzMzMzM2WZQIXrUbgep5ZAPQrXo3CFl0CkcD0K10+VQK5H4XoUbpZA4XoUrkePmEAfhetRuCeYQAAAAAAAa5hA4XoUrkcBl0DhehSuR5mYQK5H4XoUAZpApHA9Ctdem0CkcD0K18qcQOF6FK5HJZxAFK5H4XoNnECkcD0K10icQJqZmZmZrZtA9ihcj8KknUDNzMzMzBmdQKRwPQrXWJtA7FG4HoWvm0DNzMzMzJqcQMP1KFyP3JtA7FG4HoVFnECamZmZmambQJqZmZmZ75tA4XoUrkd7mkAfhetRuDOaQFK4HoXrlphAuB6F61HMmEDD9Shcj4SaQB+F61G425pAhetRuB6AmkBcj8L1KCmcQClcj8L1h5xAexSuR+HznUDXo3A9CiqfQDMzMzOzZqBAAAAAAABln0Bcj8L1KJ6fQGZmZmbmlqBAAAAAAABVoEBmZmZmZoifQD0K16NwN6BA16NwPYoZoUBcj8L1KKqgQNejcD0KzKBA4XoUrkfmoEDXo3A9CoqiQK5H4XoUAaNA16NwPQrzokDhehSuR/WiQEjhehSu3qBAUrgeheuCoUDD9ShcD7+gQDMzMzMzOaJAj8L1KFwco0DD9Shcj0ChQJqZmZkZhKJAFK5H4fogoUC4HoXrUS6jQOxRuB4FnKNAXI/C9aiTpEA9Ctej8PakQOxRuB6FoaVAexSuR+E8pkCkcD0K1wmnQLgehevR2qdACtejcD0uqkDsUbgeBVCpQD0K16Pwk6tAKVyPwnW/qkB7FK5HYd+rQOxRuB6Fmq5AAAAAAAACsEBmZmZm5tquQAAAAAAA0rBA7FG4HgWHrkApXI/CdQ6tQFyPwvWoT69A9ihcj8KrrUB7FK5HYf+pQHE9CtejpqlAzczMzMzUpkC4HoXr0RejQBSuR+H6wKVAH4XrUbgFo0C4HoXrUd+hQNejcD2KdqBAFK5H4Xq2pECF61G4HielQM3MzMzMJ6VAPQrXo/DCpECkcD0KV0yjQKRwPQpX9qFAmpmZmZkTokBSuB6F65qkQKRwPQrXlKRA9ihcj0KapUCF61G4nkalQI/C9ShcBaVAAAAAAICLpEA9CtejcKOlQNejcD0KjKNArkfhepQ0o0DXo3A9imakQGZmZmbmXaNAMzMzMzPXoUD2KFyPwk6iQHsUrkfhdKNAZmZmZuaUpEAAAAAAgMijQJqZmZmZ9KJASOF6FK5sokA9Ctej8HShQOxRuB6FPqFAuB6F61GUoEAAAAAAAL2eQJqZmZmZZp1AFK5H4XrBnkD2KFyPwuSeQB+F61G4qJxASOF6FK6UnEApXI/C9dSeQK5H4XqUR6BAuB6F61FfoEBmZmZmZkOhQOxRuB4FdqBAAAAAAADYoEBmZmZmZmKhQEjhehSusaFAzczMzEwbokBI4XoULrKiQM3MzMxMhqFAmpmZmRm8oECPwvUo3HegQBSuR+F6WqBAcT0K16PIoEAAAAAAAJufQOF6FK5Hjp1A9ihcj8LPnkDhehSuR/idQLgehetRYJ1A7FG4HoXgnkDNzMzMzKqdQGZmZmZmMptApHA9Ctfpm0AfhetRuDCfQAAAAAAAOaBAhetRuJ6boEBmZmZm5hOhQIXrUbieK6JA7FG4HoVooUB7FK5HYdahQKRwPQrX+KFAAAAAAIDfokDNzMzMzD+jQOxRuB4Fe6RAj8L1KNz2o0CkcD0KV32jQJqZmZmZf6NApHA9CtcMpUAzMzMzsxqmQArXo3C9HqdASOF6FC62qEApXI/C9RinQK5H4XoUOahAAAAAAAC+qEAAAAAAAM6oQD0K16PwZKhA7FG4HgWmqUA9Ctej8GSpQAAAAAAAoqlArkfhehT0qEDsUbgeBYanQEjhehQuTqdASOF6FK4tqUBcj8L1KK2pQArXo3A9X6lAmpmZmRkrqkCuR+F6lBGqQLgehevRz6hAPQrXo/CtqECPwvUo3DyoQKRwPQpXlalA4XoUrsfaqEC4HoXr0byoQM3MzMxMPKlASOF6FC4Lq0DhehSux+qtQBSuR+F6xa1AhetRuB7IrkDD9ShcD1+uQK5H4XoUqK5AH4XrUTibrkBSuB6F69mqQEjhehSuWKtAmpmZmRn5qkBxPQrXoxOpQNejcD2KhalAAAAAAICXqkC4HoXrUZypQK5H4XoUiKpA9ihcj0KGrEBSuB6Fa/SrQArXo3A9MatAUrgeheuoqkAUrkfh+gCpQB+F61E4PqdAZmZmZuY4pkDD9Shcj1aoQMP1KFwPEqhAAAAAAIDmpkDNzMzMzEKmQB+F61G4ZKhAcT0K1yMlp0AK16NwvbimQJqZmZkZladA7FG4HgVwp0CuR+F6FJOpQJqZmZkZjqpAzczMzEw3qkA9CtejcFKqQBSuR+F6JatAuB6F69Guq0CamZmZme+rQClcj8L1B6xAw/UoXI/mq0AAAAAAAIKrQIXrUbgeVKtAAAAAAIBoq0AfhetROI2sQGZmZmZm3q1AzczMzEz0rUD2KFyPwkWuQOF6FK7HLq5ArkfhehTSrUAAAAAAACWuQClcj8J1R7BAj8L1KFw2sEC4HoXrUYmvQM3MzMxMC7BA16NwPco0sEApXI/C9W6wQLgehesRt7BAMzMzM7M5r0D2KFyPAgSxQHE9Ctdj8bBArkfhepQSsUCuR+F6lIawQIXrUbheDrFASOF6FG6+sUDhehSuh+WxQFK4HoUrZ7FAKVyPwnWSsUBSuB6F68mxQBSuR+E6c7JA16NwPcrcskD2KFyPAl6yQClcj8J1MbJAw/UoXA+FskD2KFyPAguyQLgeheuRIrJA7FG4HkVWskA9Ctej8POwQJqZmZnZUbBAzczMzEyjsEDXo3A9iuGvQNejcD0KubBAH4XrUfgRsUAK16NwfVmwQLgehesRPbBAFK5H4bqtsEBI4XoUbrawQIXrUbjeUbFACtejcD36r0AUrkfherGvQOxRuB7F5bBA4XoUrsclsUAK16NwvWOyQLgeheuRsLFAAAAAAEDdsUDhehSux4+tQLgehesRcbBA16NwPQossEDsUbgeBf6wQI/C9Sgc6bBASOF6FC4psUCPwvUoHBqwQKRwPQpXgq9AMzMzMzOQr0CF61G4HpOvQDMzMzOzMa1ACtejcD0arkBcj8L1KCWvQDMzMzOz7q5A7FG4HgWDrkCPwvUo3CyvQD0K16NwEK5AMzMzM7Nbr0CF61G4noevQIXrUbge1q5ApHA9Clf3r0AAAAAAgKGvQClcj8L1fK9AAAAAAIDBr0C4HoXr0aSuQK5H4XqUta1A16NwPQq0rEApXI/CdTmtQK5H4XoULq1ACtejcL1BrUDXo3A9ismtQB+F61E4Pq1AZmZmZma4rUBxPQrXowGrQIXrUbieRalAMzMzM7MeqUAAAAAAgGeoQFK4HoVrzKhAcT0K16NPqEDXo3A9Cj6pQHsUrkdhFapAuB6F69HUqUD2KFyPwtqpQMP1KFyP2qlAXI/C9aiHqUB7FK5HYc6oQFyPwvWoRqhASOF6FC5zqEBmZmZm5lemQLgehetRg6NAAAAAAIBHo0BI4XoULhGjQB+F61G4s6JAcT0K16Nbo0DD9Shcj6uiQAAAAACAIqNA9ihcj8LOo0CF61G4nl6kQHE9Ctejm6NAhetRuJ5cpUCuR+F6lJmlQJqZmZmZwaRAFK5H4fqnpUAUrkfheqanQKRwPQpXnKdAFK5H4fotqEBcj8L1KOeoQJqZmZkZKqhAuB6F61HTqEAAAAAAANSnQOxRuB6F4KZAj8L1KNzGpkB7FK5H4UKmQHsUrkfhjqdArkfhehR0qEC4HoXrUf2nQMP1KFyPqaZAuB6F69H1pUA9CtejcMOkQKRwPQpXZqVAexSuR2GQo0BxPQrXo8WkQKRwPQpXOqJAXI/C9ShfpECamZmZGbOlQOF6FK7HK6VA4XoUrkdlpEDhehSuR8WmQD0K16NwdadAzczMzEympkA9CtejcEmlQPYoXI9ChKRAj8L1KNy0pEA9CtejcMWjQK5H4XqUuKNA4XoUrkc2pUAfhetRuEGkQK5H4XqUDKRArkfhehQ+pED2KFyPQjGkQIXrUbgeFaRAH4XrUTjmo0AK16NwPXikQMP1KFwPrqVAUrgeheu6pUBSuB6FawanQMP1KFwP0qZAcT0K16M+pkDXo3A9CqmnQHE9Ctej9qZAH4XrUTiop0BxPQrXo5SoQDMzMzOzU6hAKVyPwvWIqEBSuB6F6+6pQOF6FK5HfqpAmpmZmZlaqkDD9ShcD3+qQKRwPQpXYqlASOF6FK4uq0AUrkfh+iqrQFK4HoVrU6tAzczMzEyJq0C4HoXr0UCqQClcj8J1DalA4XoUrkd2qUCuR+F6lA+pQK5H4XoUbKlAw/UoXI/WqEApXI/C9XGnQGZmZmZm6KdAUrgehetRqEDsUbgeBbKnQHsUrkfhy6dAuB6F61G8p0DXo3A9CsOmQKRwPQpXzKdAH4XrUTgfqEBxPQrXIxmoQJqZmZmZj6dA7FG4HoUJp0C4HoXr0RCnQOF6FK7HY6ZAH4XrUbh8p0DhehSuRzamQLgehevRmaZAAAAAAADNpkCuR+F6lAumQArXo3C9qaVA9ihcj8JRpkCuR+F6lECmQIXrUbge06VA4XoUrkcCp0AfhetRuHSlQLgehetRxqRArkfhehTPo0AAAAAAgDijQEjhehQuUaJApHA9CtdgokDNzMzMzI+dQEjhehSuR6BAmpmZmZmLn0CamZmZmXCfQFK4HoXrKqBAw/UoXI8zoEBcj8L1KL2fQHsUrkfhZZ5A9ihcj8KHn0DhehSuR6ueQJqZmZmZr55AMzMzMzOnn0BSuB6F6wafQB+F61G4Tp9AMzMzMzNAnkAAAAAAADybQHsUrkfh4ppASOF6FK60m0AfhetRuECdQPYoXI/C+p5AXI/C9SgynkApXI/C9VqcQHE9CtejXJxA9ihcj8Kbm0ApXI/C9fWbQGZmZmZmWZ1AUrgehethm0AAAAAAAOybQK5H4XoUFJxAexSuR+H+m0DXo3A9CjCaQK5H4XoUrJZACtejcD0PlUAfhetRuAqSQLgehetRv5FAH4XrUbickkApXI/C9fOQQHsUrkfh3JBAzczMzMw0jkAzMzMzM66QQI/C9ShcqJFACtejcD0pkUAK16NwPfmQQGZmZmZm7ZFAAAAAAAARk0BSuB6F61OTQK5H4XoUHJNAUrgeheuFkkB7FK5H4fGRQArXo3A9C5FA16NwPQpjkED2KFyPwlCQQKRwPQrXuZBAZmZmZmZ6kEBcj8L1KPaRQI/C9ShcrZFAXI/C9ShKkkDNzMzMzJOTQHE9CtejBJNAXI/C9SiekkCuR+F6FPKRQM3MzMzM/JBArkfhehRrkEDD9Shcj0SRQPYoXI/CoJJACtejcD0Yk0AfhetRuB2VQHE9CtejEZZAmpmZmZm/l0AAAAAAAGiYQDMzMzMzNJdAZmZmZmaJmEDhehSuR82YQJqZmZmZZZhAZmZmZmbNl0DhehSuR02WQBSuR+F6a5ZAFK5H4XqEmUB7FK5H4TKbQOF6FK5HmppAw/UoXI+dmkBmZmZmZn6aQGZmZmZmpJhACtejcD06mUBmZmZmZtyZQKRwPQrX25lAH4XrUbgSm0AAAAAAAC+aQArXo3A9wppAPQrXo3DRm0BI4XoUrkCaQK5H4XoUlp1APQrXo3COnUCamZmZmSafQFK4HoXrIp9AMzMzMzP+nkAK16NwPUCdQJqZmZmZsp1AMzMzMzPRnECF61G4HmucQHsUrkfhvplAMzMzMzO9mECPwvUoXB6ZQBSuR+F6LZlAzczMzMxdmUAAAAAAADKaQEjhehSuSppAAAAAAABWl0BSuB6F6zyXQK5H4XoUqJZArkfhehS5mEA9CtejcBmZQLgehetRPphAcT0K16PnmECamZmZmXaYQPYoXI/CUZhACtejcD2lmEDhehSuR6OZQI/C9ShcnpdAZmZmZmaqmUCF61G4HoSaQClcj8L1FptAH4XrUbiAm0DD9Shcj/2aQPYoXI/CyppAKVyPwvVVmUD2KFyPwgeZQOF6FK5H9pZAhetRuB6DlkBcj8L1KLWWQAAAAAAAaJRAhetRuB40lUAUrkfheumUQLgehetRwJNA4XoUrkcXlUDXo3A9CsCUQPYoXI/CvpRAKVyPwvU4lEC4HoXrUZKVQD0K16NwD5RAPQrXo3D1lEDD9Shcj8KUQAAAAAAAxJRAXI/C9SiDlEAzMzMzMyCUQJqZmZmZwpRACtejcD0clUCF61G4HnSVQOxRuB6FIpVAMzMzMzPAlED2KFyPwoSUQNejcD0Ks5RASOF6FK70k0BSuB6F6y+UQD0K16NwEpRASOF6FK68lEBmZmZmZkuUQD0K16NwE5RAAAAAAABllEDsUbgehd6UQOF6FK5HXpRAUrgehesrlEAzMzMzMyCUQDMzMzMzRpRAH4XrUbh3lECamZmZmQ+VQGZmZmZmCpVAj8L1KFwjl0BI4XoUrmeYQB+F61G4kJdAH4XrUbi2mEBcj8L1KEuZQB+F61G41ZhAuB6F61HWmEBSuB6F69iYQKRwPQrXRZhAKVyPwvU7mEBxPQrXo66ZQBSuR+F6T5lAexSuR+HPmEApXI/C9fyWQMP1KFyPV5RAUrgehet9kkDD9Shcj7iTQFyPwvUocpNAUrgeheu3k0DhehSuR26SQOxRuB6Fe5NApHA9Ctehk0DhehSuR+iSQGZmZmZmA5NAKVyPwvXNkkDhehSuRwWTQJqZmZmZt5FAhetRuB4mkUCkcD0K1xOSQClcj8L1v5JArkfhehRQkkBI4XoUrg+TQBSuR+F6AZNA9ihcj8I8kkAUrkfhet2SQMP1KFyP25NAexSuR+EIlEBI4XoUruWTQHE9CtejI5RASOF6FK6wk0Bcj8L1KEeUQDMzMzMzo5NAuB6F61Gwk0DsUbgehTOTQGZmZmZmA5RAw/UoXI+9k0D2KFyPwu+TQNejcD0KfpNAAAAAAADik0ApXI/C9aGUQArXo3A9KpRAhetRuB7dk0DsUbgehWWSQDMzMzMzjpJAKVyPwvVskkAAAAAAAOKSQFyPwvUo65JAUrgehevrkkB7FK5H4ROTQM3MzMzMAZNA9ihcj8ILk0AK16NwPQ+TQGZmZmZmGpNAhetRuB6dkkBSuB6F66mSQFK4HoXrpJJAhetRuB6jkkBxPQrXo6WSQIXrUbgex5JAexSuR+EFk0D2KFyPwn6TQD0K16Nwk5NAMzMzMzOEk0DXo3A9CsCTQM3MzMzMvpNAcT0K16NvlEBcj8L1KLyUQIXrUbgeypRAcT0K16PLlUDXo3A9CvuVQOxRuB6FKZhAXI/C9Sjjl0C4HoXrUaKYQPYoXI/Ch5hAj8L1KFzOmECuR+F6FN+XQArXo3A9LJhAZmZmZma4mUCF61G4HnCZQPYoXI/CgplAH4XrUbiYmUC4HoXrUTaYQM3MzMzMT5lAUrgeheu8mECF61G4HgKZQK5H4XoU+JhAKVyPwvWPmUCuR+F6FGmYQM3MzMzMu5hASOF6FK4YmkD2KFyPwrCZQArXo3A9zZlAFK5H4XoNmkBSuB6F61eZQI/C9Shci5lAj8L1KFwwmkBcj8L1KHCZQOxRuB6FJZhA\",\"dtype\":\"float64\",\"order\":\"little\",\"shape\":[1080]},\"timestamp\":{\"__ndarray__\":\"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\",\"dtype\":\"float64\",\"order\":\"little\",\"shape\":[1080]}},\"selected\":{\"id\":\"4100\"},\"selection_policy\":{\"id\":\"4114\"}},\"id\":\"4099\",\"type\":\"ColumnDataSource\"},{\"attributes\":{\"months\":[0,4,8]},\"id\":\"4126\",\"type\":\"MonthsTicker\"},{\"attributes\":{},\"id\":\"4098\",\"type\":\"AllLabels\"},{\"attributes\":{},\"id\":\"4133\",\"type\":\"Selection\"},{\"attributes\":{\"coordinates\":null,\"group\":null,\"text\":\"close\",\"text_color\":\"black\",\"text_font_size\":\"12pt\"},\"id\":\"4064\",\"type\":\"Title\"},{\"attributes\":{\"margin\":[5,5,5,5],\"name\":\"HSpacer04634\",\"sizing_mode\":\"stretch_width\"},\"id\":\"4057\",\"type\":\"Spacer\"},{\"attributes\":{\"angle\":{\"value\":3.141592653589793},\"fill_alpha\":{\"value\":1.0},\"fill_color\":{\"value\":\"red\"},\"hatch_alpha\":{\"value\":1.0},\"hatch_color\":{\"value\":\"red\"},\"hatch_scale\":{\"value\":12.0},\"hatch_weight\":{\"value\":1.0},\"line_alpha\":{\"value\":1.0},\"line_cap\":{\"value\":\"butt\"},\"line_color\":{\"value\":\"red\"},\"line_dash\":{\"value\":[]},\"line_dash_offset\":{\"value\":0},\"line_join\":{\"value\":\"bevel\"},\"line_width\":{\"value\":1},\"marker\":{\"value\":\"triangle\"},\"size\":{\"value\":5.477225575051661},\"x\":{\"field\":\"timestamp\"},\"y\":{\"field\":\"close\"}},\"id\":\"4199\",\"type\":\"Scatter\"},{\"attributes\":{},\"id\":\"4068\",\"type\":\"LinearScale\"},{\"attributes\":{\"line_alpha\":0.2,\"line_color\":\"lightgray\",\"line_width\":2,\"x\":{\"field\":\"timestamp\"},\"y\":{\"field\":\"close\"}},\"id\":\"4104\",\"type\":\"Line\"},{\"attributes\":{\"fill_color\":{\"value\":\"green\"},\"hatch_color\":{\"value\":\"green\"},\"line_color\":{\"value\":\"green\"},\"marker\":{\"value\":\"triangle\"},\"size\":{\"value\":5.477225575051661},\"x\":{\"field\":\"timestamp\"},\"y\":{\"field\":\"close\"}},\"id\":\"4135\",\"type\":\"Scatter\"},{\"attributes\":{\"margin\":[5,5,5,5],\"name\":\"HSpacer04635\",\"sizing_mode\":\"stretch_width\"},\"id\":\"4226\",\"type\":\"Spacer\"},{\"attributes\":{\"axis_label\":\"timestamp\",\"coordinates\":null,\"formatter\":{\"id\":\"4094\"},\"group\":null,\"major_label_policy\":{\"id\":\"4095\"},\"ticker\":{\"id\":\"4073\"}},\"id\":\"4072\",\"type\":\"DatetimeAxis\"},{\"attributes\":{\"children\":[{\"id\":\"4057\"},{\"id\":\"4063\"},{\"id\":\"4226\"}],\"margin\":[0,0,0,0],\"name\":\"Row04630\",\"tags\":[\"embedded\"]},\"id\":\"4056\",\"type\":\"Row\"},{\"attributes\":{},\"id\":\"4097\",\"type\":\"BasicTickFormatter\"},{\"attributes\":{\"num_minor_ticks\":5,\"tickers\":[{\"id\":\"4117\"},{\"id\":\"4118\"},{\"id\":\"4119\"},{\"id\":\"4120\"},{\"id\":\"4121\"},{\"id\":\"4122\"},{\"id\":\"4123\"},{\"id\":\"4124\"},{\"id\":\"4125\"},{\"id\":\"4126\"},{\"id\":\"4127\"},{\"id\":\"4128\"}]},\"id\":\"4073\",\"type\":\"DatetimeTicker\"},{\"attributes\":{\"line_color\":\"lightgray\",\"line_width\":2,\"x\":{\"field\":\"timestamp\"},\"y\":{\"field\":\"close\"}},\"id\":\"4102\",\"type\":\"Line\"}],\"root_ids\":[\"4056\"]},\"title\":\"Bokeh Application\",\"version\":\"2.4.3\"}};\n",
       "    var render_items = [{\"docid\":\"1fe3865d-b2cf-4bf9-82f0-9c4597528923\",\"root_ids\":[\"4056\"],\"roots\":{\"4056\":\"0c4f84bd-fa2c-4359-9fa8-a427c0685d22\"}}];\n",
       "    root.Bokeh.embed.embed_items_notebook(docs_json, render_items);\n",
       "  }\n",
       "  if (root.Bokeh !== undefined && root.Bokeh.Panel !== undefined) {\n",
       "    embed_document(root);\n",
       "  } else {\n",
       "    var attempts = 0;\n",
       "    var timer = setInterval(function(root) {\n",
       "      if (root.Bokeh !== undefined && root.Bokeh.Panel !== undefined) {\n",
       "        clearInterval(timer);\n",
       "        embed_document(root);\n",
       "      } else if (document.readyState == \"complete\") {\n",
       "        attempts++;\n",
       "        if (attempts > 200) {\n",
       "          clearInterval(timer);\n",
       "          console.log(\"Bokeh: ERROR: Unable to run BokehJS code because BokehJS library is missing\");\n",
       "        }\n",
       "      }\n",
       "    }, 25, root)\n",
       "  }\n",
       "})(window);</script>"
      ],
      "text/plain": [
       ":Overlay\n",
       "   .Curve.Close      :Curve   [timestamp]   (close)\n",
       "   .Scatter.Close.I  :Scatter   [timestamp]   (close)\n",
       "   .Scatter.Close.II :Scatter   [timestamp]   (close)"
      ]
     },
     "execution_count": 431,
     "metadata": {
      "application/vnd.holoviews_exec.v0+json": {
       "id": "4056"
      }
     },
     "output_type": "execute_result"
    }
   ],
   "source": [
    "close * entry * exit"
   ]
  },
  {
   "cell_type": "code",
   "execution_count": 432,
   "metadata": {},
   "outputs": [
    {
     "data": {},
     "metadata": {},
     "output_type": "display_data"
    },
    {
     "data": {
      "application/vnd.holoviews_exec.v0+json": "",
      "text/html": [
       "<div id='4358'>\n",
       "  <div class=\"bk-root\" id=\"b737dc35-a613-4969-a338-6c2ae8e2981f\" data-root-id=\"4358\"></div>\n",
       "</div>\n",
       "<script type=\"application/javascript\">(function(root) {\n",
       "  function embed_document(root) {\n",
       "    var docs_json = {\"c5704e4a-0012-45b5-ac2f-03008fa925b2\":{\"defs\":[{\"extends\":null,\"module\":null,\"name\":\"ReactiveHTML1\",\"overrides\":[],\"properties\":[]},{\"extends\":null,\"module\":null,\"name\":\"FlexBox1\",\"overrides\":[],\"properties\":[{\"default\":\"flex-start\",\"kind\":null,\"name\":\"align_content\"},{\"default\":\"flex-start\",\"kind\":null,\"name\":\"align_items\"},{\"default\":\"row\",\"kind\":null,\"name\":\"flex_direction\"},{\"default\":\"wrap\",\"kind\":null,\"name\":\"flex_wrap\"},{\"default\":\"flex-start\",\"kind\":null,\"name\":\"justify_content\"}]},{\"extends\":null,\"module\":null,\"name\":\"GridStack1\",\"overrides\":[],\"properties\":[{\"default\":\"warn\",\"kind\":null,\"name\":\"mode\"},{\"default\":null,\"kind\":null,\"name\":\"ncols\"},{\"default\":null,\"kind\":null,\"name\":\"nrows\"},{\"default\":true,\"kind\":null,\"name\":\"allow_resize\"},{\"default\":true,\"kind\":null,\"name\":\"allow_drag\"},{\"default\":[],\"kind\":null,\"name\":\"state\"}]},{\"extends\":null,\"module\":null,\"name\":\"click1\",\"overrides\":[],\"properties\":[{\"default\":\"\",\"kind\":null,\"name\":\"terminal_output\"},{\"default\":\"\",\"kind\":null,\"name\":\"debug_name\"},{\"default\":0,\"kind\":null,\"name\":\"clears\"}]},{\"extends\":null,\"module\":null,\"name\":\"NotificationAreaBase1\",\"overrides\":[],\"properties\":[{\"default\":\"bottom-right\",\"kind\":null,\"name\":\"position\"},{\"default\":0,\"kind\":null,\"name\":\"_clear\"}]},{\"extends\":null,\"module\":null,\"name\":\"NotificationArea1\",\"overrides\":[],\"properties\":[{\"default\":[],\"kind\":null,\"name\":\"notifications\"},{\"default\":\"bottom-right\",\"kind\":null,\"name\":\"position\"},{\"default\":0,\"kind\":null,\"name\":\"_clear\"},{\"default\":[{\"background\":\"#ffc107\",\"icon\":{\"className\":\"fas fa-exclamation-triangle\",\"color\":\"white\",\"tagName\":\"i\"},\"type\":\"warning\"},{\"background\":\"#007bff\",\"icon\":{\"className\":\"fas fa-info-circle\",\"color\":\"white\",\"tagName\":\"i\"},\"type\":\"info\"}],\"kind\":null,\"name\":\"types\"}]},{\"extends\":null,\"module\":null,\"name\":\"Notification\",\"overrides\":[],\"properties\":[{\"default\":null,\"kind\":null,\"name\":\"background\"},{\"default\":3000,\"kind\":null,\"name\":\"duration\"},{\"default\":null,\"kind\":null,\"name\":\"icon\"},{\"default\":\"\",\"kind\":null,\"name\":\"message\"},{\"default\":null,\"kind\":null,\"name\":\"notification_type\"},{\"default\":false,\"kind\":null,\"name\":\"_destroyed\"}]},{\"extends\":null,\"module\":null,\"name\":\"TemplateActions1\",\"overrides\":[],\"properties\":[{\"default\":0,\"kind\":null,\"name\":\"open_modal\"},{\"default\":0,\"kind\":null,\"name\":\"close_modal\"}]},{\"extends\":null,\"module\":null,\"name\":\"MaterialTemplateActions1\",\"overrides\":[],\"properties\":[{\"default\":0,\"kind\":null,\"name\":\"open_modal\"},{\"default\":0,\"kind\":null,\"name\":\"close_modal\"}]}],\"roots\":{\"references\":[{\"attributes\":{\"months\":[0,1,2,3,4,5,6,7,8,9,10,11]},\"id\":\"4438\",\"type\":\"MonthsTicker\"},{\"attributes\":{\"data\":{\"strategy_returns\":{\"__ndarray__\":\"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\",\"dtype\":\"float64\",\"order\":\"little\",\"shape\":[1080]},\"timestamp\":{\"__ndarray__\":\"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\",\"dtype\":\"float64\",\"order\":\"little\",\"shape\":[1080]}},\"selected\":{\"id\":\"4411\"},\"selection_policy\":{\"id\":\"4428\"}},\"id\":\"4410\",\"type\":\"ColumnDataSource\"},{\"attributes\":{\"callback\":null,\"formatters\":{\"@{timestamp}\":\"datetime\"},\"renderers\":[{\"id\":\"4416\"}],\"tags\":[\"hv_created\"],\"tooltips\":[[\"timestamp\",\"@{timestamp}{%F %T}\"],[\"strategy_returns\",\"@{strategy_returns}\"]]},\"id\":\"4363\",\"type\":\"HoverTool\"},{\"attributes\":{},\"id\":\"4396\",\"type\":\"DatetimeTickFormatter\"},{\"attributes\":{\"days\":[1,8,15,22]},\"id\":\"4436\",\"type\":\"DaysTicker\"},{\"attributes\":{\"end\":1675922400000.0,\"reset_end\":1675922400000.0,\"reset_start\":1582696800000.0,\"start\":1582696800000.0,\"tags\":[[[\"timestamp\",\"timestamp\",null]]]},\"id\":\"4360\",\"type\":\"Range1d\"},{\"attributes\":{},\"id\":\"4442\",\"type\":\"YearsTicker\"},{\"attributes\":{\"line_alpha\":0.1,\"line_color\":\"lightgreen\",\"line_width\":2,\"x\":{\"field\":\"timestamp\"},\"y\":{\"field\":\"strategy_returns\"}},\"id\":\"4414\",\"type\":\"Line\"},{\"attributes\":{\"line_color\":\"lightblue\",\"line_width\":2,\"x\":{\"field\":\"timestamp\"},\"y\":{\"field\":\"actual_returns\"}},\"id\":\"4409\",\"type\":\"Line\"},{\"attributes\":{\"tools\":[{\"id\":\"4362\"},{\"id\":\"4363\"},{\"id\":\"4381\"},{\"id\":\"4382\"},{\"id\":\"4383\"},{\"id\":\"4384\"},{\"id\":\"4385\"}]},\"id\":\"4387\",\"type\":\"Toolbar\"},{\"attributes\":{},\"id\":\"4428\",\"type\":\"UnionRenderers\"},{\"attributes\":{\"bottom_units\":\"screen\",\"coordinates\":null,\"fill_alpha\":0.5,\"fill_color\":\"lightgrey\",\"group\":null,\"left_units\":\"screen\",\"level\":\"overlay\",\"line_alpha\":1.0,\"line_color\":\"black\",\"line_dash\":[4,4],\"line_width\":2,\"right_units\":\"screen\",\"syncable\":false,\"top_units\":\"screen\"},\"id\":\"4386\",\"type\":\"BoxAnnotation\"},{\"attributes\":{\"callback\":null,\"formatters\":{\"@{timestamp}\":\"datetime\"},\"renderers\":[{\"id\":\"4407\"}],\"tags\":[\"hv_created\"],\"tooltips\":[[\"timestamp\",\"@{timestamp}{%F %T}\"],[\"actual_returns\",\"@{actual_returns}\"]]},\"id\":\"4362\",\"type\":\"HoverTool\"},{\"attributes\":{\"coordinates\":null,\"group\":null,\"text_color\":\"black\",\"text_font_size\":\"12pt\"},\"id\":\"4365\",\"type\":\"Title\"},{\"attributes\":{\"margin\":[5,5,5,5],\"name\":\"HSpacer04703\",\"sizing_mode\":\"stretch_width\"},\"id\":\"4359\",\"type\":\"Spacer\"},{\"attributes\":{\"num_minor_ticks\":5,\"tickers\":[{\"id\":\"4431\"},{\"id\":\"4432\"},{\"id\":\"4433\"},{\"id\":\"4434\"},{\"id\":\"4435\"},{\"id\":\"4436\"},{\"id\":\"4437\"},{\"id\":\"4438\"},{\"id\":\"4439\"},{\"id\":\"4440\"},{\"id\":\"4441\"},{\"id\":\"4442\"}]},\"id\":\"4374\",\"type\":\"DatetimeTicker\"},{\"attributes\":{\"source\":{\"id\":\"4401\"}},\"id\":\"4408\",\"type\":\"CDSView\"},{\"attributes\":{\"below\":[{\"id\":\"4373\"}],\"center\":[{\"id\":\"4376\"},{\"id\":\"4380\"}],\"height\":300,\"left\":[{\"id\":\"4377\"}],\"margin\":[5,5,5,5],\"min_border_bottom\":10,\"min_border_left\":10,\"min_border_right\":10,\"min_border_top\":10,\"renderers\":[{\"id\":\"4407\"},{\"id\":\"4416\"}],\"sizing_mode\":\"fixed\",\"title\":{\"id\":\"4365\"},\"toolbar\":{\"id\":\"4387\"},\"width\":700,\"x_range\":{\"id\":\"4360\"},\"x_scale\":{\"id\":\"4369\"},\"y_range\":{\"id\":\"4361\"},\"y_scale\":{\"id\":\"4371\"}},\"id\":\"4364\",\"subtype\":\"Figure\",\"type\":\"Plot\"},{\"attributes\":{\"axis_label\":\"timestamp\",\"coordinates\":null,\"formatter\":{\"id\":\"4396\"},\"group\":null,\"major_label_policy\":{\"id\":\"4397\"},\"ticker\":{\"id\":\"4374\"}},\"id\":\"4373\",\"type\":\"DatetimeAxis\"},{\"attributes\":{},\"id\":\"4371\",\"type\":\"LinearScale\"},{\"attributes\":{},\"id\":\"4382\",\"type\":\"PanTool\"},{\"attributes\":{\"axis\":{\"id\":\"4373\"},\"coordinates\":null,\"grid_line_color\":null,\"group\":null,\"ticker\":null},\"id\":\"4376\",\"type\":\"Grid\"},{\"attributes\":{\"line_alpha\":0.1,\"line_color\":\"lightblue\",\"line_width\":2,\"x\":{\"field\":\"timestamp\"},\"y\":{\"field\":\"actual_returns\"}},\"id\":\"4405\",\"type\":\"Line\"},{\"attributes\":{},\"id\":\"4399\",\"type\":\"BasicTickFormatter\"},{\"attributes\":{\"axis\":{\"id\":\"4377\"},\"coordinates\":null,\"dimension\":1,\"grid_line_color\":null,\"group\":null,\"ticker\":null},\"id\":\"4380\",\"type\":\"Grid\"},{\"attributes\":{\"line_color\":\"lightgreen\",\"line_width\":2,\"x\":{\"field\":\"timestamp\"},\"y\":{\"field\":\"strategy_returns\"}},\"id\":\"4418\",\"type\":\"Line\"},{\"attributes\":{},\"id\":\"4378\",\"type\":\"BasicTicker\"},{\"attributes\":{},\"id\":\"4400\",\"type\":\"AllLabels\"},{\"attributes\":{},\"id\":\"4383\",\"type\":\"WheelZoomTool\"},{\"attributes\":{},\"id\":\"4402\",\"type\":\"Selection\"},{\"attributes\":{\"end\":23.9522774514233,\"reset_end\":23.9522774514233,\"reset_start\":-1.6337505648440938,\"start\":-1.6337505648440938,\"tags\":[[[\"actual_returns\",\"actual_returns\",null]]]},\"id\":\"4361\",\"type\":\"Range1d\"},{\"attributes\":{\"source\":{\"id\":\"4410\"}},\"id\":\"4417\",\"type\":\"CDSView\"},{\"attributes\":{},\"id\":\"4381\",\"type\":\"SaveTool\"},{\"attributes\":{},\"id\":\"4397\",\"type\":\"AllLabels\"},{\"attributes\":{\"axis_label\":\"actual_returns\",\"coordinates\":null,\"formatter\":{\"id\":\"4399\"},\"group\":null,\"major_label_policy\":{\"id\":\"4400\"},\"ticker\":{\"id\":\"4378\"}},\"id\":\"4377\",\"type\":\"LinearAxis\"},{\"attributes\":{\"overlay\":{\"id\":\"4386\"}},\"id\":\"4384\",\"type\":\"BoxZoomTool\"},{\"attributes\":{},\"id\":\"4385\",\"type\":\"ResetTool\"},{\"attributes\":{\"line_alpha\":0.2,\"line_color\":\"lightblue\",\"line_width\":2,\"x\":{\"field\":\"timestamp\"},\"y\":{\"field\":\"actual_returns\"}},\"id\":\"4406\",\"type\":\"Line\"},{\"attributes\":{\"line_color\":\"lightblue\",\"line_width\":2,\"x\":{\"field\":\"timestamp\"},\"y\":{\"field\":\"actual_returns\"}},\"id\":\"4404\",\"type\":\"Line\"},{\"attributes\":{\"mantissas\":[1,2,5],\"max_interval\":500.0,\"num_minor_ticks\":0},\"id\":\"4431\",\"type\":\"AdaptiveTicker\"},{\"attributes\":{\"coordinates\":null,\"data_source\":{\"id\":\"4401\"},\"glyph\":{\"id\":\"4404\"},\"group\":null,\"hover_glyph\":null,\"muted_glyph\":{\"id\":\"4406\"},\"nonselection_glyph\":{\"id\":\"4405\"},\"selection_glyph\":{\"id\":\"4409\"},\"view\":{\"id\":\"4408\"}},\"id\":\"4407\",\"type\":\"GlyphRenderer\"},{\"attributes\":{\"days\":[1,15]},\"id\":\"4437\",\"type\":\"DaysTicker\"},{\"attributes\":{\"months\":[0,4,8]},\"id\":\"4440\",\"type\":\"MonthsTicker\"},{\"attributes\":{\"margin\":[5,5,5,5],\"name\":\"HSpacer04704\",\"sizing_mode\":\"stretch_width\"},\"id\":\"4443\",\"type\":\"Spacer\"},{\"attributes\":{\"line_alpha\":0.2,\"line_color\":\"lightgreen\",\"line_width\":2,\"x\":{\"field\":\"timestamp\"},\"y\":{\"field\":\"strategy_returns\"}},\"id\":\"4415\",\"type\":\"Line\"},{\"attributes\":{\"base\":60,\"mantissas\":[1,2,5,10,15,20,30],\"max_interval\":1800000.0,\"min_interval\":1000.0,\"num_minor_ticks\":0},\"id\":\"4432\",\"type\":\"AdaptiveTicker\"},{\"attributes\":{\"data\":{\"actual_returns\":{\"__ndarray__\":\"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\",\"dtype\":\"float64\",\"order\":\"little\",\"shape\":[1080]},\"timestamp\":{\"__ndarray__\":\"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\",\"dtype\":\"float64\",\"order\":\"little\",\"shape\":[1080]}},\"selected\":{\"id\":\"4402\"},\"selection_policy\":{\"id\":\"4426\"}},\"id\":\"4401\",\"type\":\"ColumnDataSource\"},{\"attributes\":{\"base\":24,\"mantissas\":[1,2,4,6,8,12],\"max_interval\":43200000.0,\"min_interval\":3600000.0,\"num_minor_ticks\":0},\"id\":\"4433\",\"type\":\"AdaptiveTicker\"},{\"attributes\":{\"line_color\":\"lightgreen\",\"line_width\":2,\"x\":{\"field\":\"timestamp\"},\"y\":{\"field\":\"strategy_returns\"}},\"id\":\"4413\",\"type\":\"Line\"},{\"attributes\":{\"coordinates\":null,\"data_source\":{\"id\":\"4410\"},\"glyph\":{\"id\":\"4413\"},\"group\":null,\"hover_glyph\":null,\"muted_glyph\":{\"id\":\"4415\"},\"nonselection_glyph\":{\"id\":\"4414\"},\"selection_glyph\":{\"id\":\"4418\"},\"view\":{\"id\":\"4417\"}},\"id\":\"4416\",\"type\":\"GlyphRenderer\"},{\"attributes\":{\"days\":[1,4,7,10,13,16,19,22,25,28]},\"id\":\"4435\",\"type\":\"DaysTicker\"},{\"attributes\":{},\"id\":\"4426\",\"type\":\"UnionRenderers\"},{\"attributes\":{},\"id\":\"4411\",\"type\":\"Selection\"},{\"attributes\":{\"months\":[0,2,4,6,8,10]},\"id\":\"4439\",\"type\":\"MonthsTicker\"},{\"attributes\":{},\"id\":\"4369\",\"type\":\"LinearScale\"},{\"attributes\":{\"days\":[1,2,3,4,5,6,7,8,9,10,11,12,13,14,15,16,17,18,19,20,21,22,23,24,25,26,27,28,29,30,31]},\"id\":\"4434\",\"type\":\"DaysTicker\"},{\"attributes\":{\"months\":[0,6]},\"id\":\"4441\",\"type\":\"MonthsTicker\"},{\"attributes\":{\"children\":[{\"id\":\"4359\"},{\"id\":\"4364\"},{\"id\":\"4443\"}],\"margin\":[0,0,0,0],\"name\":\"Row04699\",\"tags\":[\"embedded\"]},\"id\":\"4358\",\"type\":\"Row\"}],\"root_ids\":[\"4358\"]},\"title\":\"Bokeh Application\",\"version\":\"2.4.3\"}};\n",
       "    var render_items = [{\"docid\":\"c5704e4a-0012-45b5-ac2f-03008fa925b2\",\"root_ids\":[\"4358\"],\"roots\":{\"4358\":\"b737dc35-a613-4969-a338-6c2ae8e2981f\"}}];\n",
       "    root.Bokeh.embed.embed_items_notebook(docs_json, render_items);\n",
       "  }\n",
       "  if (root.Bokeh !== undefined && root.Bokeh.Panel !== undefined) {\n",
       "    embed_document(root);\n",
       "  } else {\n",
       "    var attempts = 0;\n",
       "    var timer = setInterval(function(root) {\n",
       "      if (root.Bokeh !== undefined && root.Bokeh.Panel !== undefined) {\n",
       "        clearInterval(timer);\n",
       "        embed_document(root);\n",
       "      } else if (document.readyState == \"complete\") {\n",
       "        attempts++;\n",
       "        if (attempts > 200) {\n",
       "          clearInterval(timer);\n",
       "          console.log(\"Bokeh: ERROR: Unable to run BokehJS code because BokehJS library is missing\");\n",
       "        }\n",
       "      }\n",
       "    }, 25, root)\n",
       "  }\n",
       "})(window);</script>"
      ],
      "text/plain": [
       ":Overlay\n",
       "   .Curve.I  :Curve   [timestamp]   (actual_returns)\n",
       "   .Curve.II :Curve   [timestamp]   (strategy_returns)"
      ]
     },
     "execution_count": 432,
     "metadata": {
      "application/vnd.holoviews_exec.v0+json": {
       "id": "4358"
      }
     },
     "output_type": "execute_result"
    }
   ],
   "source": [
    "actual_returns_plot * strategy_returns_plot"
   ]
  },
  {
   "cell_type": "code",
   "execution_count": 433,
   "metadata": {},
   "outputs": [
    {
     "data": {
      "text/plain": [
       "strategy_returns    0.651258\n",
       "dtype: float64"
      ]
     },
     "execution_count": 433,
     "metadata": {},
     "output_type": "execute_result"
    }
   ],
   "source": [
    "strategy_returns_annual_volitility = ichimoku_signal_df[['strategy_returns']].std()*np.sqrt(365)\n",
    "strategy_returns_annual_volitility\n",
    "\n"
   ]
  },
  {
   "cell_type": "code",
   "execution_count": 434,
   "metadata": {},
   "outputs": [
    {
     "data": {
      "text/plain": [
       "1.0728361211894628"
      ]
     },
     "metadata": {},
     "output_type": "display_data"
    },
    {
     "data": {
      "text/plain": [
       "0.651257557430867"
      ]
     },
     "metadata": {},
     "output_type": "display_data"
    },
    {
     "data": {
      "text/plain": [
       "1.647"
      ]
     },
     "metadata": {},
     "output_type": "display_data"
    }
   ],
   "source": [
    "annualized_return = ichimoku_signal_df[\"strategy_returns\"].mean() * 365\n",
    "annualized_std = ichimoku_signal_df[\"strategy_returns\"].std() * np.sqrt(365)\n",
    "sharpe_ratio = round(annualized_return/annualized_std, 3)\n",
    "\n",
    "\n",
    "display(annualized_return)\n",
    "display(annualized_std)\n",
    "display(sharpe_ratio)"
   ]
  },
  {
   "cell_type": "code",
   "execution_count": 435,
   "metadata": {},
   "outputs": [],
   "source": [
    "# ichimoku_df.hvplot()"
   ]
  },
  {
   "cell_type": "code",
   "execution_count": 436,
   "metadata": {},
   "outputs": [
    {
     "name": "stdout",
     "output_type": "stream",
     "text": [
      "            bitcoin  isPartial\n",
      "date                          \n",
      "2022-02-13       44      False\n",
      "2022-02-20       58      False\n",
      "2022-02-27       57      False\n",
      "2022-03-06       47      False\n",
      "2022-03-13       42      False\n",
      "2022-03-20       40      False\n",
      "2022-03-27       43      False\n",
      "2022-04-03       38      False\n",
      "2022-04-10       38      False\n",
      "2022-04-17       33      False\n",
      "2022-04-24       34      False\n",
      "2022-05-01       35      False\n",
      "2022-05-08       80      False\n",
      "2022-05-15       53      False\n",
      "2022-05-22       44      False\n",
      "2022-05-29       38      False\n",
      "2022-06-05       36      False\n",
      "2022-06-12      100      False\n",
      "2022-06-19       72      False\n",
      "2022-06-26       53      False\n",
      "2022-07-03       48      False\n",
      "2022-07-10       43      False\n",
      "2022-07-17       46      False\n",
      "2022-07-24       37      False\n",
      "2022-07-31       35      False\n",
      "2022-08-07       34      False\n",
      "2022-08-14       32      False\n",
      "2022-08-21       31      False\n",
      "2022-08-28       32      False\n",
      "2022-09-04       31      False\n",
      "2022-09-11       32      False\n",
      "2022-09-18       33      False\n",
      "2022-09-25       30      False\n",
      "2022-10-02       26      False\n",
      "2022-10-09       26      False\n",
      "2022-10-16       24      False\n",
      "2022-10-23       25      False\n",
      "2022-10-30       26      False\n",
      "2022-11-06       48      False\n",
      "2022-11-13       45      False\n",
      "2022-11-20       32      False\n",
      "2022-11-27       29      False\n",
      "2022-12-04       27      False\n",
      "2022-12-11       28      False\n",
      "2022-12-18       27      False\n",
      "2022-12-25       26      False\n",
      "2023-01-01       26      False\n",
      "2023-01-08       29      False\n",
      "2023-01-15       35      False\n",
      "2023-01-22       33      False\n",
      "2023-01-29       31      False\n",
      "2023-02-05       28       True\n"
     ]
    }
   ],
   "source": [
    "from pytrends.request import TrendReq\n",
    "\n",
    "pytrends = TrendReq(hl='en-US', tz=360)\n",
    "\n",
    "def get_trends(keywords):\n",
    "    pytrends.build_payload(kw_list=keywords, timeframe='today 12-m')  \n",
    "    interest_over_time_data = pytrends.interest_over_time()\n",
    "    return interest_over_time_data\n",
    "\n",
    "keywords = ['bitcoin']\n",
    "trends_data = get_trends(keywords)\n",
    "print(trends_data)\n"
   ]
  },
  {
   "cell_type": "code",
   "execution_count": 437,
   "metadata": {},
   "outputs": [],
   "source": [
    "trends_data_plot =  trends_data['bitcoin'].hvplot(\n",
    "    color='red',\n",
    "    \n",
    ")"
   ]
  },
  {
   "cell_type": "markdown",
   "metadata": {},
   "source": []
  }
 ],
 "metadata": {
  "kernelspec": {
   "display_name": "Python 3 (ipykernel)",
   "language": "python",
   "name": "python3"
  },
  "language_info": {
   "codemirror_mode": {
    "name": "ipython",
    "version": 3
   },
   "file_extension": ".py",
   "mimetype": "text/x-python",
   "name": "python",
   "nbconvert_exporter": "python",
   "pygments_lexer": "ipython3",
   "version": "3.9.12"
  },
  "vscode": {
   "interpreter": {
    "hash": "996ffda76004d767ccbaaba7e2437ee3b45ec97388b0612ddf8c69ff1d3b8680"
   }
  }
 },
 "nbformat": 4,
 "nbformat_minor": 2
}

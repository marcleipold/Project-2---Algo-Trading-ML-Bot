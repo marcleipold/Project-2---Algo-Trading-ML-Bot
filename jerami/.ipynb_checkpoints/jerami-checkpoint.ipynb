{
 "cells": [
  {
   "cell_type": "code",
   "execution_count": 49,
   "metadata": {},
   "outputs": [],
   "source": [
    "import pandas as pd\n",
    "from pathlib import Path\n",
    "import numpy as np\n",
    "import alpaca_trade_api as tradeapi\n",
    "from alpaca.data.historical import CryptoHistoricalDataClient\n",
    "from alpaca.data.requests import CryptoBarsRequest\n",
    "from alpaca.data.timeframe import TimeFrame\n",
    "\n",
    "from finta import TA\n",
    "from finta.utils import resample_calendar\n",
    "import json\n",
    "import hvplot.pandas\n",
    "import matplotlib.pyplot as plt\n",
    "from sklearn.preprocessing import StandardScaler\n",
    "from sklearn import svm\n",
    "from sklearn.ensemble import AdaBoostClassifier\n",
    "from pandas.tseries.offsets import DateOffset\n",
    "from sklearn.metrics import classification_report\n",
    "\n",
    "# Alpaca for data\n",
    "import alpaca_trade_api as api\n",
    "from alpaca_trade_api.rest import TimeFrame\n",
    "\n",
    "# pandas for analysis\n",
    "import pandas as pd\n",
    "\n",
    "# Plotly for charting\n",
    "import plotly.graph_objects as go\n",
    "import plotly.express as px\n",
    "\n",
    "# Set default charting for pandas to plotly\n",
    "pd.options.plotting.backend = \"plotly\"\n",
    "\n",
    "import datetime as dt\n",
    "import pytz\n",
    "\n",
    "import os\n",
    "import requests\n",
    "\n"
   ]
  },
  {
   "cell_type": "code",
   "execution_count": 50,
   "metadata": {},
   "outputs": [],
   "source": [
    "# Initial imports\n",
    "import os\n",
    "import requests\n",
    "import pandas as pd\n",
    "from dotenv import load_dotenv\n",
    "import alpaca_trade_api as tradeapi\n",
    "import warnings\n",
    "warnings.filterwarnings(\"ignore\")\n",
    "\n",
    "%matplotlib inline"
   ]
  },
  {
   "cell_type": "code",
   "execution_count": 51,
   "metadata": {},
   "outputs": [
    {
     "data": {
      "text/plain": [
       "True"
      ]
     },
     "execution_count": 51,
     "metadata": {},
     "output_type": "execute_result"
    }
   ],
   "source": [
    "load_dotenv()"
   ]
  },
  {
   "cell_type": "code",
   "execution_count": 52,
   "metadata": {},
   "outputs": [],
   "source": [
    "# Our API keys for Alpaca\n",
    "API_KEY = os.getenv('ALPACA_API_KEY')\n",
    "\n",
    "API_SECRET_KEY = os.getenv('ALPACA_SECRET_KEY')"
   ]
  },
  {
   "cell_type": "code",
   "execution_count": 53,
   "metadata": {},
   "outputs": [],
   "source": [
    "def alpaca_data_import(coin):\n",
    "\n",
    "    # Load .env environment variables\n",
    "\n",
    "    # Our API keys for Alpaca\n",
    "    API_KEY = os.getenv('ALPACA_API_KEY')\n",
    "\n",
    "    API_SECRET_KEY = os.getenv('ALPACA_SECRET_KEY')\n",
    "\n",
    "    #today = dt.date.today()\n",
    "    # symbols we will be looking at\n",
    "    #btc = \"BTCUSD\"\n",
    "    #spy = \"SPY\"\n",
    "\n",
    "    # start dates and end dates for backtest\n",
    "    #start_date = \"2020-01-01\"\n",
    "    #end_date = today \n",
    "    #end_date = '2023-02-06'\n",
    "\n",
    "    end_date = (dt.datetime.now(pytz.timezone('US/Eastern'))-dt.timedelta(hours=1)).isoformat()\n",
    "\n",
    "    start_date = (dt.datetime.now(pytz.timezone('US/Eastern'))-dt.timedelta(days=1080)).isoformat()\n",
    "\n",
    "    # time frame for backtests\n",
    "    timeframe = TimeFrame.Day\n",
    "\n",
    "    # Setup instance of alpaca api\n",
    "    alpaca = api.REST(API_KEY, API_SECRET_KEY)\n",
    "\n",
    "    # # # Request historical bar data for SPY and BTC using Alpaca Data API\n",
    "    # for equities, use .get_bars\n",
    "    #spy_data = alpaca.get_bars(spy, timeframe, start_date, end_date).df\n",
    "\n",
    "    # for crypto, use .get_crypto_bars, from multiple exchanges\n",
    "    #btc_data = alpaca.get_crypto_bars(btc, timeframe, start_date, end_date).df\n",
    "    df = alpaca.get_crypto_bars(coin, timeframe, start_date, end_date).df\n",
    "\n",
    "    df = df[df['exchange'] == 'CBSE']\n",
    "\n",
    "    # display crypto bar data\n",
    "    display(df)\n",
    "    #display(spy_data)\n",
    "\n",
    "    return df"
   ]
  },
  {
   "cell_type": "code",
   "execution_count": 54,
   "metadata": {},
   "outputs": [
    {
     "data": {
      "text/html": [
       "<div>\n",
       "<style scoped>\n",
       "    .dataframe tbody tr th:only-of-type {\n",
       "        vertical-align: middle;\n",
       "    }\n",
       "\n",
       "    .dataframe tbody tr th {\n",
       "        vertical-align: top;\n",
       "    }\n",
       "\n",
       "    .dataframe thead th {\n",
       "        text-align: right;\n",
       "    }\n",
       "</style>\n",
       "<table border=\"1\" class=\"dataframe\">\n",
       "  <thead>\n",
       "    <tr style=\"text-align: right;\">\n",
       "      <th></th>\n",
       "      <th>exchange</th>\n",
       "      <th>open</th>\n",
       "      <th>high</th>\n",
       "      <th>low</th>\n",
       "      <th>close</th>\n",
       "      <th>volume</th>\n",
       "      <th>trade_count</th>\n",
       "      <th>vwap</th>\n",
       "    </tr>\n",
       "    <tr>\n",
       "      <th>timestamp</th>\n",
       "      <th></th>\n",
       "      <th></th>\n",
       "      <th></th>\n",
       "      <th></th>\n",
       "      <th></th>\n",
       "      <th></th>\n",
       "      <th></th>\n",
       "      <th></th>\n",
       "    </tr>\n",
       "  </thead>\n",
       "  <tbody>\n",
       "    <tr>\n",
       "      <th>2020-02-26 06:00:00+00:00</th>\n",
       "      <td>CBSE</td>\n",
       "      <td>9188.84</td>\n",
       "      <td>9280.00</td>\n",
       "      <td>8609.91</td>\n",
       "      <td>8778.30</td>\n",
       "      <td>15585.993780</td>\n",
       "      <td>79012</td>\n",
       "      <td>8894.716505</td>\n",
       "    </tr>\n",
       "    <tr>\n",
       "      <th>2020-02-27 06:00:00+00:00</th>\n",
       "      <td>CBSE</td>\n",
       "      <td>8814.90</td>\n",
       "      <td>8899.94</td>\n",
       "      <td>8779.06</td>\n",
       "      <td>8786.54</td>\n",
       "      <td>1819.421690</td>\n",
       "      <td>15034</td>\n",
       "      <td>8848.335058</td>\n",
       "    </tr>\n",
       "    <tr>\n",
       "      <th>2020-02-28 06:00:00+00:00</th>\n",
       "      <td>CBSE</td>\n",
       "      <td>8786.53</td>\n",
       "      <td>8813.12</td>\n",
       "      <td>8428.80</td>\n",
       "      <td>8708.89</td>\n",
       "      <td>11572.123138</td>\n",
       "      <td>63193</td>\n",
       "      <td>8624.928084</td>\n",
       "    </tr>\n",
       "    <tr>\n",
       "      <th>2020-02-29 06:00:00+00:00</th>\n",
       "      <td>CBSE</td>\n",
       "      <td>8523.33</td>\n",
       "      <td>8671.56</td>\n",
       "      <td>8508.96</td>\n",
       "      <td>8588.26</td>\n",
       "      <td>1926.708790</td>\n",
       "      <td>15954</td>\n",
       "      <td>8585.057963</td>\n",
       "    </tr>\n",
       "    <tr>\n",
       "      <th>2020-03-01 06:00:00+00:00</th>\n",
       "      <td>CBSE</td>\n",
       "      <td>8522.30</td>\n",
       "      <td>8656.23</td>\n",
       "      <td>8487.33</td>\n",
       "      <td>8655.51</td>\n",
       "      <td>2329.079350</td>\n",
       "      <td>15138</td>\n",
       "      <td>8596.448236</td>\n",
       "    </tr>\n",
       "    <tr>\n",
       "      <th>...</th>\n",
       "      <td>...</td>\n",
       "      <td>...</td>\n",
       "      <td>...</td>\n",
       "      <td>...</td>\n",
       "      <td>...</td>\n",
       "      <td>...</td>\n",
       "      <td>...</td>\n",
       "      <td>...</td>\n",
       "    </tr>\n",
       "    <tr>\n",
       "      <th>2023-02-05 06:00:00+00:00</th>\n",
       "      <td>CBSE</td>\n",
       "      <td>23382.81</td>\n",
       "      <td>23433.20</td>\n",
       "      <td>22637.51</td>\n",
       "      <td>22781.90</td>\n",
       "      <td>8385.600370</td>\n",
       "      <td>261845</td>\n",
       "      <td>22969.010291</td>\n",
       "    </tr>\n",
       "    <tr>\n",
       "      <th>2023-02-06 06:00:00+00:00</th>\n",
       "      <td>CBSE</td>\n",
       "      <td>22781.29</td>\n",
       "      <td>23163.05</td>\n",
       "      <td>22639.39</td>\n",
       "      <td>22935.08</td>\n",
       "      <td>10397.136521</td>\n",
       "      <td>236952</td>\n",
       "      <td>22910.702025</td>\n",
       "    </tr>\n",
       "    <tr>\n",
       "      <th>2023-02-07 06:00:00+00:00</th>\n",
       "      <td>CBSE</td>\n",
       "      <td>22934.51</td>\n",
       "      <td>23451.01</td>\n",
       "      <td>22770.58</td>\n",
       "      <td>23226.12</td>\n",
       "      <td>9926.531595</td>\n",
       "      <td>294835</td>\n",
       "      <td>23091.005413</td>\n",
       "    </tr>\n",
       "    <tr>\n",
       "      <th>2023-02-08 06:00:00+00:00</th>\n",
       "      <td>CBSE</td>\n",
       "      <td>23225.45</td>\n",
       "      <td>23239.79</td>\n",
       "      <td>22360.16</td>\n",
       "      <td>22605.13</td>\n",
       "      <td>11523.796942</td>\n",
       "      <td>317759</td>\n",
       "      <td>22801.309970</td>\n",
       "    </tr>\n",
       "    <tr>\n",
       "      <th>2023-02-09 06:00:00+00:00</th>\n",
       "      <td>CBSE</td>\n",
       "      <td>22605.13</td>\n",
       "      <td>22832.44</td>\n",
       "      <td>21700.00</td>\n",
       "      <td>21880.09</td>\n",
       "      <td>15063.733763</td>\n",
       "      <td>333801</td>\n",
       "      <td>22229.792413</td>\n",
       "    </tr>\n",
       "  </tbody>\n",
       "</table>\n",
       "<p>1080 rows × 8 columns</p>\n",
       "</div>"
      ],
      "text/plain": [
       "                          exchange      open      high       low     close  \\\n",
       "timestamp                                                                    \n",
       "2020-02-26 06:00:00+00:00     CBSE   9188.84   9280.00   8609.91   8778.30   \n",
       "2020-02-27 06:00:00+00:00     CBSE   8814.90   8899.94   8779.06   8786.54   \n",
       "2020-02-28 06:00:00+00:00     CBSE   8786.53   8813.12   8428.80   8708.89   \n",
       "2020-02-29 06:00:00+00:00     CBSE   8523.33   8671.56   8508.96   8588.26   \n",
       "2020-03-01 06:00:00+00:00     CBSE   8522.30   8656.23   8487.33   8655.51   \n",
       "...                            ...       ...       ...       ...       ...   \n",
       "2023-02-05 06:00:00+00:00     CBSE  23382.81  23433.20  22637.51  22781.90   \n",
       "2023-02-06 06:00:00+00:00     CBSE  22781.29  23163.05  22639.39  22935.08   \n",
       "2023-02-07 06:00:00+00:00     CBSE  22934.51  23451.01  22770.58  23226.12   \n",
       "2023-02-08 06:00:00+00:00     CBSE  23225.45  23239.79  22360.16  22605.13   \n",
       "2023-02-09 06:00:00+00:00     CBSE  22605.13  22832.44  21700.00  21880.09   \n",
       "\n",
       "                                 volume  trade_count          vwap  \n",
       "timestamp                                                           \n",
       "2020-02-26 06:00:00+00:00  15585.993780        79012   8894.716505  \n",
       "2020-02-27 06:00:00+00:00   1819.421690        15034   8848.335058  \n",
       "2020-02-28 06:00:00+00:00  11572.123138        63193   8624.928084  \n",
       "2020-02-29 06:00:00+00:00   1926.708790        15954   8585.057963  \n",
       "2020-03-01 06:00:00+00:00   2329.079350        15138   8596.448236  \n",
       "...                                 ...          ...           ...  \n",
       "2023-02-05 06:00:00+00:00   8385.600370       261845  22969.010291  \n",
       "2023-02-06 06:00:00+00:00  10397.136521       236952  22910.702025  \n",
       "2023-02-07 06:00:00+00:00   9926.531595       294835  23091.005413  \n",
       "2023-02-08 06:00:00+00:00  11523.796942       317759  22801.309970  \n",
       "2023-02-09 06:00:00+00:00  15063.733763       333801  22229.792413  \n",
       "\n",
       "[1080 rows x 8 columns]"
      ]
     },
     "metadata": {},
     "output_type": "display_data"
    }
   ],
   "source": [
    "btc_data = alpaca_data_import('BTCUSD')"
   ]
  },
  {
   "cell_type": "code",
   "execution_count": null,
   "metadata": {},
   "outputs": [],
   "source": []
  },
  {
   "cell_type": "code",
   "execution_count": 55,
   "metadata": {},
   "outputs": [],
   "source": [
    "\n",
    "# #today = dt.date.today()\n",
    "# # symbols we will be looking at\n",
    "# btc = \"BTCUSD\"\n",
    "# #spy = \"SPY\"\n",
    "\n",
    "# # start dates and end dates for backtest\n",
    "# #start_date = \"2020-01-01\"\n",
    "# #end_date = today \n",
    "# #end_date = '2023-02-06'\n",
    "\n",
    "# end_date = (dt.datetime.now(pytz.timezone('US/Eastern'))-dt.timedelta(hours=1)).isoformat()\n",
    "\n",
    "# start_date = (dt.datetime.now(pytz.timezone('US/Eastern'))-dt.timedelta(days=1080)).isoformat()\n",
    "\n",
    "# # time frame for backtests\n",
    "# timeframe = TimeFrame.Day"
   ]
  },
  {
   "cell_type": "code",
   "execution_count": 56,
   "metadata": {},
   "outputs": [],
   "source": [
    "# # Our API keys for Alpaca\n",
    "# API_KEY = os.getenv('ALPACA_API_KEY')\n",
    "\n",
    "# API_SECRET_KEY = os.getenv('ALPACA_SECRET_KEY')\n",
    "\n",
    "# # Setup instance of alpaca api\n",
    "# alpaca = api.REST(ALPACA_API_KEY, ALPACA_SECRET_KEY)\n",
    "\n",
    "# # # # Request historical bar data for SPY and BTC using Alpaca Data API\n",
    "# # for equities, use .get_bars\n",
    "# #spy_data = alpaca.get_bars(spy, timeframe, start_date, end_date).df\n",
    "\n",
    "# # for crypto, use .get_crypto_bars, from multiple exchanges\n",
    "# btc_data = alpaca.get_crypto_bars(btc, timeframe, start_date, end_date).df\n",
    "\n",
    "# btc_data = btc_data[btc_data['exchange'] == 'CBSE']\n",
    "\n",
    "# # display crypto bar data\n",
    "# display(btc_data)\n",
    "# #display(spy_data)"
   ]
  },
  {
   "cell_type": "code",
   "execution_count": 57,
   "metadata": {},
   "outputs": [],
   "source": [
    "def process_data_ohlcv(df):\n",
    "\n",
    "    ohlcv_df = df.drop(columns=['exchange','trade_count','vwap'])\n",
    "    #ohlc_df = df.drop(columns=['volume'])\n",
    "    ichimoku_df = TA.ICHIMOKU(ohlcv_df, tenkan_period= 20, kijun_period= 60, senkou_period= 120, chikou_period= 30)\n",
    "    ichimoku_df = pd.concat([ichimoku_df, ohlcv_df['close']], axis=1)\n",
    "\n",
    "    return ichimoku_df\n",
    "#ohlcv_df\n",
    "\n",
    "#ohlcv_df = resample_calendar(ohlcv_df, '4h')\n",
    "#ohlcv_df = ohlcv_df.dropna()\n"
   ]
  },
  {
   "cell_type": "code",
   "execution_count": 58,
   "metadata": {},
   "outputs": [],
   "source": [
    "ichimoku_df = process_data_ohlcv(btc_data)\n",
    "#ichimoku_df"
   ]
  },
  {
   "cell_type": "code",
   "execution_count": 59,
   "metadata": {},
   "outputs": [],
   "source": [
    "def get_signal(df):\n",
    "    \n",
    "    df['signal'] = 0\n",
    "    df[\"signal\"] = np.where((df[\"TENKAN\"] > df[\"KIJUN\"]) &\n",
    "                                (df[\"close\"] > df[\"senkou_span_a\"]), 1, 0)\n",
    "\n",
    "    df['entry/exit'] = df['signal'].diff()\n",
    "    \n",
    "    df['actual_returns'] = df['close'].pct_change()\n",
    "    df[\"strategy_returns\"] = df[\"actual_returns\"] * df[\"signal\"].shift() \n",
    "\n",
    "    actual_returns = df['actual_returns'].cumsum()\n",
    "    \n",
    "    \n",
    "    return df"
   ]
  },
  {
   "cell_type": "code",
   "execution_count": null,
   "metadata": {},
   "outputs": [],
   "source": []
  },
  {
   "cell_type": "code",
   "execution_count": 60,
   "metadata": {},
   "outputs": [],
   "source": [
    "ichimoku_signal_df =  get_signal(ichimoku_df)\n",
    "#ichimoku_signal_df"
   ]
  },
  {
   "cell_type": "code",
   "execution_count": 61,
   "metadata": {},
   "outputs": [],
   "source": [
    "def create_order(symbol, qty, side, order_type, time_in_force, api_key_id, api_secret_key):\n",
    "    headers = {\n",
    "        \"Apca-Api-Key-Id\": api_key_id,\n",
    "        \"Apca-Api-Secret-Key\": api_secret_key,\n",
    "        \"Content-Type\": \"application/json\"\n",
    "    }\n",
    "\n",
    "    data = {\n",
    "        \"symbol\": symbol,\n",
    "        \"qty\": qty,\n",
    "        \"side\": side,\n",
    "        \"type\": order_type,\n",
    "        \"time_in_force\": time_in_force\n",
    "    }\n",
    "\n",
    "    url = \"https://paper-api.alpaca.markets/v2/orders\"\n",
    "    response = requests.post(url, headers=headers, json=data)\n",
    "\n",
    "    if response.status_code != 200:\n",
    "        raise ValueError(\"Failed to create order: \" + response.text)\n",
    "\n",
    "    return response.json()\n"
   ]
  },
  {
   "cell_type": "code",
   "execution_count": 62,
   "metadata": {},
   "outputs": [
    {
     "name": "stdout",
     "output_type": "stream",
     "text": [
      "{'id': 'e0f2d315-fbfb-4312-a2c9-10b74ed1fbd1', 'client_order_id': '7a8e0d18-b844-4282-8df6-85a3dab48dae', 'created_at': '2023-02-10T01:49:12.803616086Z', 'updated_at': '2023-02-10T01:49:12.803675986Z', 'submitted_at': '2023-02-10T01:49:12.802061146Z', 'filled_at': None, 'expired_at': None, 'canceled_at': None, 'failed_at': None, 'replaced_at': None, 'replaced_by': None, 'replaces': None, 'asset_id': '276e2673-764b-4ab6-a611-caf665ca6340', 'symbol': 'BTC/USD', 'asset_class': 'crypto', 'notional': None, 'qty': '1', 'filled_qty': '0', 'filled_avg_price': None, 'order_class': '', 'order_type': 'market', 'type': 'market', 'side': 'buy', 'time_in_force': 'gtc', 'limit_price': None, 'stop_price': None, 'status': 'pending_new', 'extended_hours': False, 'legs': None, 'trail_percent': None, 'trail_price': None, 'hwm': None, 'subtag': None, 'source': None}\n"
     ]
    }
   ],
   "source": [
    "\n",
    "api_key_id = API_KEY\n",
    "api_secret_key = API_SECRET_KEY\n",
    "\n",
    "result = create_order(\"BTC/USD\", \"1.0\", \"buy\", \"market\", \"gtc\", api_key_id, api_secret_key)\n",
    "print(result)\n"
   ]
  },
  {
   "cell_type": "code",
   "execution_count": 69,
   "metadata": {},
   "outputs": [
    {
     "data": {
      "text/plain": [
       "0.0"
      ]
     },
     "execution_count": 69,
     "metadata": {},
     "output_type": "execute_result"
    }
   ],
   "source": [
    "ichimoku_signal_df['entry/exit'].iloc[-1] "
   ]
  },
  {
   "cell_type": "code",
   "execution_count": 70,
   "metadata": {},
   "outputs": [
    {
     "name": "stdout",
     "output_type": "stream",
     "text": [
      "No Trades Today!\n"
     ]
    }
   ],
   "source": [
    "if ichimoku_signal_df['entry/exit'].iloc[-1] == 1.0:\n",
    "    create_order(\"BTC/USD\", \"1.0\", \"buy\", \"market\", \"gtc\", api_key_id, api_secret_key)\n",
    "elif ichimoku_signal_df['entry/exit'].iloc[-1] == -1.0:\n",
    "    create_order(\"BTC/USD\", \"1.0\", \"sell\", \"market\", \"gtc\", api_key_id, api_secret_key)\n",
    "else:\n",
    "    print('No Trades Today!')"
   ]
  },
  {
   "cell_type": "code",
   "execution_count": null,
   "metadata": {},
   "outputs": [],
   "source": [
    "# ohlc_df = ohlcv_df.drop(columns=['volume'])\n",
    "# #ohlc_df"
   ]
  },
  {
   "cell_type": "code",
   "execution_count": null,
   "metadata": {},
   "outputs": [],
   "source": [
    "# ichimoku_df = TA.ICHIMOKU(ohlcv_df, tenkan_period= 20, kijun_period= 60, senkou_period= 120, chikou_period= 30)\n",
    "# #ichimoku_df"
   ]
  },
  {
   "cell_type": "code",
   "execution_count": null,
   "metadata": {},
   "outputs": [],
   "source": [
    "# ichimoku_signal_df = pd.concat([ichimoku_df, ohlcv_df['close']], axis=1)\n",
    "# #ichimoku_signal_df"
   ]
  },
  {
   "cell_type": "code",
   "execution_count": null,
   "metadata": {},
   "outputs": [],
   "source": [
    "\n",
    "# ichimoku_signal_df['signal'] = 0\n",
    "# ichimoku_signal_df[\"signal\"] = np.where((ichimoku_signal_df[\"TENKAN\"] > ichimoku_signal_df[\"KIJUN\"]) &\n",
    "#                                 (ichimoku_signal_df[\"close\"] > ichimoku_signal_df[\"senkou_span_a\"]), 1, 0)\n",
    "\n",
    "# ichimoku_signal_df['entry/exit'] = ichimoku_signal_df['signal'].diff()\n",
    "\n",
    "# #ichimoku_signal_df\n"
   ]
  },
  {
   "cell_type": "code",
   "execution_count": null,
   "metadata": {},
   "outputs": [],
   "source": [
    "# ichimoku_signal_df['actual_returns'] = ichimoku_signal_df['close'].pct_change()\n",
    "# ichimoku_signal_df[\"strategy_returns\"] = ichimoku_signal_df[\"actual_returns\"] * ichimoku_signal_df[\"signal\"].shift() \n"
   ]
  },
  {
   "cell_type": "code",
   "execution_count": null,
   "metadata": {},
   "outputs": [],
   "source": [
    "#ichimoku_signal_df"
   ]
  },
  {
   "cell_type": "code",
   "execution_count": null,
   "metadata": {},
   "outputs": [],
   "source": [
    "#actual_returns = ichimoku_signal_df['actual_returns'].cumsum()\n",
    "\n",
    "actual_returns_plot =  (1 + ichimoku_signal_df[['actual_returns']]).cumprod().hvplot(\n",
    "    color='lightblue'\n",
    ")"
   ]
  },
  {
   "cell_type": "code",
   "execution_count": null,
   "metadata": {},
   "outputs": [],
   "source": [
    "strategy_returns_plot = (1 + ichimoku_signal_df[['strategy_returns']]).cumprod().hvplot(\n",
    "    color='lightgreen'\n",
    ")"
   ]
  },
  {
   "cell_type": "code",
   "execution_count": null,
   "metadata": {},
   "outputs": [],
   "source": [
    "#ichimoku_signal_df"
   ]
  },
  {
   "cell_type": "code",
   "execution_count": null,
   "metadata": {},
   "outputs": [],
   "source": [
    "#ichimoku_signal_df['entry/exit'].value_counts()"
   ]
  },
  {
   "cell_type": "code",
   "execution_count": null,
   "metadata": {},
   "outputs": [],
   "source": [
    "entry = ichimoku_signal_df[ichimoku_signal_df['entry/exit']==1]['close'].hvplot.scatter(\n",
    "    color='green',\n",
    "    marker= '^'\n",
    ")\n",
    "\n",
    "exit = ichimoku_signal_df[ichimoku_signal_df['entry/exit']==-1]['close'].hvplot.scatter(\n",
    "    color='red',\n",
    "    marker= 'v'\n",
    ")\n",
    "\n",
    "close = ichimoku_signal_df['close'].hvplot(\n",
    "    color='lightgray',\n",
    "    \n",
    ")\n",
    "\n",
    "#actual_returns = actual_returns.hvplot(\n",
    " #   color='lightblue'\n",
    "#)\n",
    "\n",
    "#strategy_returns = ichimoku_signal_df['strategy_returns'].hvplot(\n",
    " #   color='lightgreen',\n",
    "#)"
   ]
  },
  {
   "cell_type": "code",
   "execution_count": null,
   "metadata": {},
   "outputs": [],
   "source": [
    "close * entry * exit"
   ]
  },
  {
   "cell_type": "code",
   "execution_count": null,
   "metadata": {},
   "outputs": [],
   "source": [
    "actual_returns_plot * strategy_returns_plot"
   ]
  },
  {
   "cell_type": "code",
   "execution_count": null,
   "metadata": {},
   "outputs": [],
   "source": [
    "strategy_returns_annual_volitility = ichimoku_signal_df[['strategy_returns']].std()*np.sqrt(365)\n",
    "strategy_returns_annual_volitility\n",
    "\n"
   ]
  },
  {
   "cell_type": "code",
   "execution_count": null,
   "metadata": {},
   "outputs": [],
   "source": [
    "annualized_return = ichimoku_signal_df[\"strategy_returns\"].mean() * 365\n",
    "annualized_std = ichimoku_signal_df[\"strategy_returns\"].std() * np.sqrt(365)\n",
    "sharpe_ratio = round(annualized_return/annualized_std, 3)\n",
    "\n",
    "\n",
    "display(annualized_return)\n",
    "display(annualized_std)\n",
    "display(sharpe_ratio)"
   ]
  },
  {
   "cell_type": "code",
   "execution_count": null,
   "metadata": {},
   "outputs": [],
   "source": [
    "# ichimoku_df.hvplot()"
   ]
  },
  {
   "cell_type": "code",
   "execution_count": null,
   "metadata": {},
   "outputs": [],
   "source": [
    "from pytrends.request import TrendReq\n",
    "\n",
    "pytrends = TrendReq(hl='en-US', tz=360)\n",
    "\n",
    "def get_trends(keywords):\n",
    "    pytrends.build_payload(kw_list=keywords, timeframe='today 12-m')  \n",
    "    interest_over_time_data = pytrends.interest_over_time()\n",
    "    return interest_over_time_data\n",
    "\n",
    "keywords = ['bitcoin']\n",
    "trends_data = get_trends(keywords)\n",
    "print(trends_data)\n"
   ]
  },
  {
   "cell_type": "code",
   "execution_count": null,
   "metadata": {},
   "outputs": [],
   "source": [
    "trends_data_plot =  trends_data['bitcoin'].hvplot(\n",
    "    color='red',\n",
    "    \n",
    ")"
   ]
  },
  {
   "cell_type": "markdown",
   "metadata": {},
   "source": []
  }
 ],
 "metadata": {
  "kernelspec": {
   "display_name": "Python 3 (ipykernel)",
   "language": "python",
   "name": "python3"
  },
  "language_info": {
   "codemirror_mode": {
    "name": "ipython",
    "version": 3
   },
   "file_extension": ".py",
   "mimetype": "text/x-python",
   "name": "python",
   "nbconvert_exporter": "python",
   "pygments_lexer": "ipython3",
   "version": "3.9.12"
  },
  "vscode": {
   "interpreter": {
    "hash": "996ffda76004d767ccbaaba7e2437ee3b45ec97388b0612ddf8c69ff1d3b8680"
   }
  }
 },
 "nbformat": 4,
 "nbformat_minor": 2
}
